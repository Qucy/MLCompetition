{
 "cells": [
  {
   "cell_type": "markdown",
   "metadata": {},
   "source": [
    "### Feature engineering\n",
    "\n",
    "- Remove unnecessary columns to reduce dataframe size\n",
    "- Filter train records according to min/max langtitude and longitude in grid info\n",
    "- Generate grid info and aggregate records accroding to VIN and grid id"
   ]
  },
  {
   "cell_type": "code",
   "execution_count": 25,
   "metadata": {},
   "outputs": [],
   "source": [
    "import pandas as pd\n",
    "import numpy as np\n",
    "import matplotlib.pyplot as plt\n",
    "import seaborn as sns\n",
    "import os\n",
    "%matplotlib inline\n",
    "\n",
    "# loading training files\n",
    "ecar_training_data_path = 'data/training/ecar/'\n",
    "rcar_training_data_path = 'data/training/rcar/'\n",
    "\n",
    "ecar_filenames = [f for f in os.listdir(ecar_training_data_path)]\n",
    "rcar_filenames = [f for f in os.listdir(rcar_training_data_path)]\n",
    "\n",
    "# define drop columns\n",
    "ecar_drop_columns = ['work_mode','mileage','speed','avg_fuel_consumption','system_mode']\n",
    "rcar_drop_columns = ['power_mode','mileage','speed','fuel_consumption']\n",
    "\n",
    "# loading grid min/max lantitude and longitude\n",
    "grid_info = pd.read_csv('data/grid_info.csv')\n",
    "grid_max_lantitude = grid_info['latitude_to'].max()\n",
    "grid_min_lantitude = grid_info['latitude_from'].min()\n",
    "grid_max_longitude = grid_info['longitude_to'].max()\n",
    "grid_min_longitude = grid_info['longitude_from'].min()"
   ]
  },
  {
   "cell_type": "code",
   "execution_count": 26,
   "metadata": {},
   "outputs": [],
   "source": [
    "def handle_ecar_files(ecar_filenames):\n",
    "    for ecar_filename in ecar_filenames:\n",
    "        df = pd.read_csv(ecar_training_data_path + ecar_filename)\n",
    "        df = data.drop(columns=ecar_drop_columns)\n",
    "        df = filter_data_by_lan_lon(df)\n",
    "        # TODO\n",
    "        \n",
    "def handle_rcar_files(rcar_filenames):\n",
    "    for rcar_filename in rcar_filenames:\n",
    "        df = pd.read_csv(rcar_training_data_path + rcar_filename)\n",
    "        df = data.drop(columns=rcar_drop_columns)\n",
    "        df = filter_data_by_lan_lon(df)\n",
    "        # TODO\n",
    "        \n",
    "def filter_data_by_lan_lon(df):\n",
    "    df = df[(df.lat >= grid_min_lantitude ) & (df.lat <= grid_max_lantitude)]\n",
    "    df = df[(df.lon >= grid_min_longitude ) & (df.lon <= grid_max_longitude)]\n",
    "    return df"
   ]
  },
  {
   "cell_type": "code",
   "execution_count": null,
   "metadata": {},
   "outputs": [],
   "source": []
  }
 ],
 "metadata": {
  "kernelspec": {
   "display_name": "Python 3",
   "language": "python",
   "name": "python3"
  },
  "language_info": {
   "codemirror_mode": {
    "name": "ipython",
    "version": 3
   },
   "file_extension": ".py",
   "mimetype": "text/x-python",
   "name": "python",
   "nbconvert_exporter": "python",
   "pygments_lexer": "ipython3",
   "version": "3.5.5"
  }
 },
 "nbformat": 4,
 "nbformat_minor": 2
}
