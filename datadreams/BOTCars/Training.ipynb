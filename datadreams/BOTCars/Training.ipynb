{
 "cells": [
  {
   "cell_type": "markdown",
   "metadata": {},
   "source": [
    "### Training model\n",
    "\n",
    "- Decide which feature to use(just try first)\n",
    "- Split training data to training data set and validation data set\n",
    "- Select serval models to train\n",
    "- Generate submission file (change column name 'date' back to 'day' before submission)\n",
    "\n",
    "\n",
    "### Feature explanation\n",
    "\n",
    "- year, year of data\n",
    "- month, month of year \n",
    "- day, day of month\n",
    "- hour, hour of day from 0 ~ 23\n",
    "- weekday, week of day from 0 to 6, 0 is Mon, 1 is Tue, 2 is Wed etc.\n",
    "- grid_id, grid id defined in grid info\n",
    "- temperture, temperture at given time\n",
    "- rainy, 0 means no rain, 1 means is rainy\n",
    "- holiday, 0 means working day, 1 means holiday\n",
    "- car_number, number of cars in that grid at given time"
   ]
  },
  {
   "cell_type": "code",
   "execution_count": 1,
   "metadata": {},
   "outputs": [
    {
     "data": {
      "text/html": [
       "<div>\n",
       "<style scoped>\n",
       "    .dataframe tbody tr th:only-of-type {\n",
       "        vertical-align: middle;\n",
       "    }\n",
       "\n",
       "    .dataframe tbody tr th {\n",
       "        vertical-align: top;\n",
       "    }\n",
       "\n",
       "    .dataframe thead th {\n",
       "        text-align: right;\n",
       "    }\n",
       "</style>\n",
       "<table border=\"1\" class=\"dataframe\">\n",
       "  <thead>\n",
       "    <tr style=\"text-align: right;\">\n",
       "      <th></th>\n",
       "      <th>year</th>\n",
       "      <th>month</th>\n",
       "      <th>day</th>\n",
       "      <th>hour</th>\n",
       "      <th>weekday</th>\n",
       "      <th>grid_id</th>\n",
       "      <th>temperture</th>\n",
       "      <th>rainy</th>\n",
       "      <th>holiday</th>\n",
       "      <th>car_number</th>\n",
       "    </tr>\n",
       "  </thead>\n",
       "  <tbody>\n",
       "    <tr>\n",
       "      <th>0</th>\n",
       "      <td>2017</td>\n",
       "      <td>1</td>\n",
       "      <td>2</td>\n",
       "      <td>9</td>\n",
       "      <td>0</td>\n",
       "      <td>1</td>\n",
       "      <td>13</td>\n",
       "      <td>0</td>\n",
       "      <td>1</td>\n",
       "      <td>20.0</td>\n",
       "    </tr>\n",
       "    <tr>\n",
       "      <th>1</th>\n",
       "      <td>2017</td>\n",
       "      <td>1</td>\n",
       "      <td>2</td>\n",
       "      <td>9</td>\n",
       "      <td>0</td>\n",
       "      <td>2</td>\n",
       "      <td>13</td>\n",
       "      <td>0</td>\n",
       "      <td>1</td>\n",
       "      <td>7.0</td>\n",
       "    </tr>\n",
       "    <tr>\n",
       "      <th>2</th>\n",
       "      <td>2017</td>\n",
       "      <td>1</td>\n",
       "      <td>2</td>\n",
       "      <td>9</td>\n",
       "      <td>0</td>\n",
       "      <td>3</td>\n",
       "      <td>13</td>\n",
       "      <td>0</td>\n",
       "      <td>1</td>\n",
       "      <td>4.0</td>\n",
       "    </tr>\n",
       "    <tr>\n",
       "      <th>3</th>\n",
       "      <td>2017</td>\n",
       "      <td>1</td>\n",
       "      <td>2</td>\n",
       "      <td>9</td>\n",
       "      <td>0</td>\n",
       "      <td>4</td>\n",
       "      <td>13</td>\n",
       "      <td>0</td>\n",
       "      <td>1</td>\n",
       "      <td>3.0</td>\n",
       "    </tr>\n",
       "    <tr>\n",
       "      <th>4</th>\n",
       "      <td>2017</td>\n",
       "      <td>1</td>\n",
       "      <td>2</td>\n",
       "      <td>9</td>\n",
       "      <td>0</td>\n",
       "      <td>6</td>\n",
       "      <td>13</td>\n",
       "      <td>0</td>\n",
       "      <td>1</td>\n",
       "      <td>9.0</td>\n",
       "    </tr>\n",
       "  </tbody>\n",
       "</table>\n",
       "</div>"
      ],
      "text/plain": [
       "   year  month  day  hour  weekday  grid_id  temperture  rainy  holiday  \\\n",
       "0  2017      1    2     9        0        1          13      0        1   \n",
       "1  2017      1    2     9        0        2          13      0        1   \n",
       "2  2017      1    2     9        0        3          13      0        1   \n",
       "3  2017      1    2     9        0        4          13      0        1   \n",
       "4  2017      1    2     9        0        6          13      0        1   \n",
       "\n",
       "   car_number  \n",
       "0        20.0  \n",
       "1         7.0  \n",
       "2         4.0  \n",
       "3         3.0  \n",
       "4         9.0  "
      ]
     },
     "execution_count": 1,
     "metadata": {},
     "output_type": "execute_result"
    }
   ],
   "source": [
    "import pandas as pd\n",
    "import numpy as np\n",
    "import matplotlib.pyplot as plt\n",
    "import os\n",
    "import timeit\n",
    "import lightgbm as lgb\n",
    "import xgboost as xgb\n",
    "from sklearn.metrics import mean_squared_error\n",
    "%matplotlib inline\n",
    "\n",
    "\n",
    "training_features_filepath = 'data/training.csv'\n",
    "test_features_filepath = 'data/test.csv'\n",
    "submission_filepath = 'data/submit_samples.csv'\n",
    "lgb_submission_filepath = 'data/submission_lgb.csv'\n",
    "xgb_submission_filepath = 'data/submission_xgb.csv'\n",
    "ann_submission_filepath = 'data/submission_ann.csv'\n",
    "final_submission_filepath = 'data/submission_final.csv'\n",
    "\n",
    "training_features_xgb_filepath = 'data/training_xgb.csv'\n",
    "test_features_xgb_filepath = 'data/test_xgb.csv'\n",
    "\n",
    "training_features_lgb_filepath = 'data/training_lgb.csv'\n",
    "test_features_lgb_filepath = 'data/test_lgb.csv'\n",
    "\n",
    "drop_columns = ['car_number','year']\n",
    "\n",
    "one_hot_encoding_columns = ['weekday','grid_id','holiday','rainy']\n",
    "\n",
    "# loading data\n",
    "train = pd.read_csv(training_features_filepath)\n",
    "#train = pd.get_dummies(train, columns=one_hot_encoding_columns)\n",
    "train.head()"
   ]
  },
  {
   "cell_type": "code",
   "execution_count": 2,
   "metadata": {},
   "outputs": [
    {
     "data": {
      "text/html": [
       "<div>\n",
       "<style scoped>\n",
       "    .dataframe tbody tr th:only-of-type {\n",
       "        vertical-align: middle;\n",
       "    }\n",
       "\n",
       "    .dataframe tbody tr th {\n",
       "        vertical-align: top;\n",
       "    }\n",
       "\n",
       "    .dataframe thead th {\n",
       "        text-align: right;\n",
       "    }\n",
       "</style>\n",
       "<table border=\"1\" class=\"dataframe\">\n",
       "  <thead>\n",
       "    <tr style=\"text-align: right;\">\n",
       "      <th></th>\n",
       "      <th>year</th>\n",
       "      <th>month</th>\n",
       "      <th>day</th>\n",
       "      <th>hour</th>\n",
       "      <th>weekday</th>\n",
       "      <th>grid_id</th>\n",
       "      <th>temperture</th>\n",
       "      <th>rainy</th>\n",
       "      <th>holiday</th>\n",
       "      <th>car_number</th>\n",
       "    </tr>\n",
       "  </thead>\n",
       "  <tbody>\n",
       "    <tr>\n",
       "      <th>0</th>\n",
       "      <td>2017</td>\n",
       "      <td>3</td>\n",
       "      <td>13</td>\n",
       "      <td>9</td>\n",
       "      <td>0</td>\n",
       "      <td>1</td>\n",
       "      <td>9</td>\n",
       "      <td>1</td>\n",
       "      <td>0</td>\n",
       "      <td>0</td>\n",
       "    </tr>\n",
       "    <tr>\n",
       "      <th>1</th>\n",
       "      <td>2017</td>\n",
       "      <td>3</td>\n",
       "      <td>13</td>\n",
       "      <td>9</td>\n",
       "      <td>0</td>\n",
       "      <td>2</td>\n",
       "      <td>9</td>\n",
       "      <td>1</td>\n",
       "      <td>0</td>\n",
       "      <td>0</td>\n",
       "    </tr>\n",
       "    <tr>\n",
       "      <th>2</th>\n",
       "      <td>2017</td>\n",
       "      <td>3</td>\n",
       "      <td>13</td>\n",
       "      <td>9</td>\n",
       "      <td>0</td>\n",
       "      <td>3</td>\n",
       "      <td>9</td>\n",
       "      <td>1</td>\n",
       "      <td>0</td>\n",
       "      <td>0</td>\n",
       "    </tr>\n",
       "    <tr>\n",
       "      <th>3</th>\n",
       "      <td>2017</td>\n",
       "      <td>3</td>\n",
       "      <td>13</td>\n",
       "      <td>9</td>\n",
       "      <td>0</td>\n",
       "      <td>4</td>\n",
       "      <td>9</td>\n",
       "      <td>1</td>\n",
       "      <td>0</td>\n",
       "      <td>0</td>\n",
       "    </tr>\n",
       "    <tr>\n",
       "      <th>4</th>\n",
       "      <td>2017</td>\n",
       "      <td>3</td>\n",
       "      <td>13</td>\n",
       "      <td>9</td>\n",
       "      <td>0</td>\n",
       "      <td>5</td>\n",
       "      <td>9</td>\n",
       "      <td>1</td>\n",
       "      <td>0</td>\n",
       "      <td>0</td>\n",
       "    </tr>\n",
       "  </tbody>\n",
       "</table>\n",
       "</div>"
      ],
      "text/plain": [
       "   year  month  day  hour  weekday  grid_id  temperture  rainy  holiday  \\\n",
       "0  2017      3   13     9        0        1           9      1        0   \n",
       "1  2017      3   13     9        0        2           9      1        0   \n",
       "2  2017      3   13     9        0        3           9      1        0   \n",
       "3  2017      3   13     9        0        4           9      1        0   \n",
       "4  2017      3   13     9        0        5           9      1        0   \n",
       "\n",
       "   car_number  \n",
       "0           0  \n",
       "1           0  \n",
       "2           0  \n",
       "3           0  \n",
       "4           0  "
      ]
     },
     "execution_count": 2,
     "metadata": {},
     "output_type": "execute_result"
    }
   ],
   "source": [
    "test = pd.read_csv(test_features_filepath)\n",
    "#test = pd.get_dummies(test, columns=one_hot_encoding_columns)\n",
    "test.head()"
   ]
  },
  {
   "cell_type": "code",
   "execution_count": 3,
   "metadata": {},
   "outputs": [],
   "source": [
    "def retrieve_index_by_month_day_hour(df, month, day, hour):\n",
    "    month = df[df['month'] == month]\n",
    "    day = month[month['day'] == day]\n",
    "    hour = day[day['hour'] == hour]\n",
    "    return hour.index[0]\n",
    "\n",
    "def generate_submission_file(pred, output_filepath):\n",
    "    sample_df = pd.read_csv(submission_filepath)\n",
    "    sample_df['car_number'] = pred\n",
    "    sample_df['car_number'] = sample_df['car_number'].apply(lambda x : np.ceil(x))\n",
    "    sample_df['car_number'] = sample_df['car_number'].astype(int)\n",
    "    sample_df.columns = ['grid_id','day','hour','car_number']\n",
    "    sample_df.to_csv(output_filepath, index=False)\n",
    "\n",
    "def split_train_val_data(index, train):\n",
    "    # split train and val by index\n",
    "    train_ = train.iloc[:index]\n",
    "    val_ = train.iloc[index:-1]\n",
    "    # extract x and y\n",
    "    train_x = train_.drop(columns=drop_columns)\n",
    "    train_y = train_['car_number']\n",
    "    val_x = val_.drop(columns=drop_columns)\n",
    "    val_y = val_['car_number']\n",
    "    return train_x, train_y, val_x, val_y\n",
    "\n",
    "def val_or_generate_submission_file_xgb(param_dict, train, test, index, t='train'):\n",
    "    regressor = xgb.XGBRegressor(**param_dict)        \n",
    "    # only train and validate\n",
    "    if t == 'train':\n",
    "        # train with part of data\n",
    "        train_x, train_y, val_x, val_y = split_train_val_data(index, train)\n",
    "        regressor.fit(train_x.as_matrix(), train_y)\n",
    "        pred = regressor.predict(val_x.as_matrix())\n",
    "        print(\"score is \", np.sqrt(mean_squared_error(val_y, pred)))\n",
    "    # using predition as a extra feature\n",
    "    elif t == 'extract':\n",
    "        train_x = train.drop(columns=drop_columns)\n",
    "        train_y = train['car_number']\n",
    "        regressor.fit(train_x.as_matrix(), train_y)\n",
    "        test_ = test.drop(columns=drop_columns)\n",
    "        pred = regressor.predict(test_.as_matrix())\n",
    "        # extract new feature to test\n",
    "        test['xgb'] = np.ceil(pred)\n",
    "        test.to_csv(test_features_xgb_filepath, index=False)\n",
    "        # extract new feature to train\n",
    "        pred = regressor.predict(train_x.as_matrix())\n",
    "        train['xbg'] = np.ceil(pred)\n",
    "        train.to_csv(training_features_xgb_filepath, index=False)        \n",
    "    # using the whole data set to train and do prediction\n",
    "    else:\n",
    "        print(\"Train with all the data and generate submission file\")\n",
    "        # train with all the data\n",
    "        train_x = train.drop(columns=drop_columns)\n",
    "        train_y = train['car_number']\n",
    "        regressor.fit(train_x.as_matrix(), train_y)\n",
    "        test_ = test.drop(columns=drop_columns)\n",
    "        pred = regressor.predict(test_.as_matrix())\n",
    "        generate_submission_file(pred, xgb_submission_filepath)\n",
    "        \n",
    "        \n",
    "def val_or_generate_submission_file_lgbm(param_dict, n_estimators, train, test, index, t='train'):\n",
    "    # only train and validate\n",
    "    if t == 'train':\n",
    "        # train with part of data\n",
    "        train_x, train_y, val_x, val_y = split_train_val_data(index, train)\n",
    "        d_train = lgb.Dataset(train_x, label=train_y)\n",
    "        d_valid = lgb.Dataset(val_x, label=val_y)\n",
    "        watchlist = [d_valid]    \n",
    "        model = lgb.train(param_dict, d_train, n_estimators, watchlist, verbose_eval=0)\n",
    "        pred = model.predict(val_x)\n",
    "        print(\"score is \", np.sqrt(mean_squared_error(val_y, pred)))\n",
    "    # using predition as a extra feature\n",
    "    elif t == 'extract':\n",
    "        train_x = train.drop(columns=drop_columns)\n",
    "        train_y = train['car_number']\n",
    "        d_train = lgb.Dataset(train_x, label=train_y)\n",
    "        model = lgb.train(param_dict, d_train, n_estimators, verbose_eval=0)\n",
    "        test_ = test.drop(columns=drop_columns)\n",
    "        # extract predition to test\n",
    "        pred = model.predict(test_)\n",
    "        test['lgb'] = np.ceil(pred)\n",
    "        test.to_csv(test_features_lgb_filepath, index=False)\n",
    "        # extract prediction to train\n",
    "        pred = model.predict(train_x)\n",
    "        train['lgb'] = np.ceil(pred)\n",
    "        train.to_csv(training_features_lgb_filepath, index=False)        \n",
    "    # using the whole data set to train and do prediction\n",
    "    else:\n",
    "        print(\"Train with all the data and generate submission file\")\n",
    "        # train with all the data\n",
    "        train_x = train.drop(columns=drop_columns)\n",
    "        train_y = train['car_number']\n",
    "        d_train = lgb.Dataset(train_x, label=train_y)\n",
    "        model = lgb.train(param_dict, d_train, n_estimators, verbose_eval=0)\n",
    "        test_ = test.drop(columns=drop_columns)\n",
    "        pred = model.predict(test_)\n",
    "        generate_submission_file(pred, lgb_submission_filepath)\n",
    "        \n",
    "def plot_model(history):\n",
    "    train_loss = history.history['loss']\n",
    "    #train_acc = history.history['acc']\n",
    "    val_loss = history.history['val_loss']\n",
    "    #val_acc = history.history['val_acc']\n",
    "\n",
    "    niter = np.arange(len(train_loss))\n",
    "\n",
    "    #fig, (ax1, ax2) = plt.subplots(1, 2, figsize=(10, 5))\n",
    "    \n",
    "    fig, (ax1) = plt.subplots(1, 1, figsize=(10, 5))\n",
    "\n",
    "    ax1.plot(niter, train_loss, label='train')\n",
    "    ax1.plot(niter, val_loss, label='validation')\n",
    "    ax1.set_title(\"loss\")\n",
    "    ax1.set_xlabel('ecphos')\n",
    "    ax1.set_ylabel('loss')\n",
    "    #ax1.set_ylim(0, 100)\n",
    "\n",
    "    #ax2.plot(niter, train_acc, label='train')\n",
    "    #ax2.plot(niter, val_acc, label='validation')\n",
    "    #ax2.set_title(\"accuracy\")\n",
    "    #ax2.set_xlabel('ecphos')\n",
    "    #ax2.set_ylabel('accuracy')\n",
    "    #ax2.set_ylim(0.85, 1)\n",
    "\n",
    "    plt.legend()\n",
    "    plt.show()"
   ]
  },
  {
   "cell_type": "markdown",
   "metadata": {},
   "source": [
    "### TODOs\n",
    "\n",
    "- Try use ceil instead of round. **Done test score : 8.0536**\n",
    "- Try remove wind and visibitly and make a submission. **Done test score : 8.0266**\n",
    "- Add average speed as grid feature and make a submission **Done test socre: 8.058**\n",
    "- Add missing data and set car number to average via ceil **Done test socre: 8.0373**\n",
    "- Add missing data and set car number to average via round **Done test socre: 8.0484**\n",
    "- Try LGB and make a submission **Done test socre: 8.0091**\n",
    "- Try filter invalid date in each csv and make a submission via LGB **Done test socre: 8.0012**\n",
    "- Adding avg,std,median car number to features and make a submission via LGB **Done test socre: 8.1684**\n",
    "- Remove outliers and make a submission via LGB **Done test socre: 8.0288**\n",
    "- Try NN or LSTM and make a submission (2018-09-xx)\n",
    "- Try ensemble learning and stacking models (2018-09-xx)\n",
    "- Plot 50 grids on map and see if can find more features for grid (2018-09-xx)\n"
   ]
  },
  {
   "cell_type": "markdown",
   "metadata": {},
   "source": [
    "### XGB Model 1 - Extract feature"
   ]
  },
  {
   "cell_type": "code",
   "execution_count": 47,
   "metadata": {},
   "outputs": [],
   "source": [
    "param_dict = {\n",
    "    'max_depth' : 5,\n",
    "    'learning_rate' : 0.01,\n",
    "    'n_estimators' : 1500,\n",
    "    'silent' : True,\n",
    "    'objective' : 'reg:linear',\n",
    "    'booster' : 'gbtree',\n",
    "    'n_jobs' : 8,\n",
    "    'gamma' : 0,\n",
    "    'min_child_weight' : 1,\n",
    "    'max_delta_step' : 0,\n",
    "    'subsample' : 0.75,\n",
    "    'colsample_bytree' : 0.9,\n",
    "    'reg_alpha' : 0.7,\n",
    "    'reg_lambda' : 1\n",
    "}\n",
    "index = retrieve_index_by_month_day_hour(train, 3, 6, 9)\n",
    "val_or_generate_submission_file_xgb(param_dict, train, test, index, 'extract')\n",
    "#val_or_generate_submission_file_xgb(param_dict, train, test, index)"
   ]
  },
  {
   "cell_type": "markdown",
   "metadata": {},
   "source": [
    "### Light GBM Model 1 - Extract feature"
   ]
  },
  {
   "cell_type": "code",
   "execution_count": 48,
   "metadata": {},
   "outputs": [],
   "source": [
    "params = {\n",
    "    'boosting_type': 'gbdt',\n",
    "    'objective': 'regression',\n",
    "    'reg_alpha': 0.1,\n",
    "    'reg_lambda': 0.1,\n",
    "    'n_jobs': 8,\n",
    "    'metric': 'rmse',\n",
    "    'max_depth': 5,\n",
    "    'learning_rate': 0.01,\n",
    "    'verbose': 0}\n",
    "\n",
    "n_estimators = 4750\n",
    "# reloading data\n",
    "train = pd.read_csv(training_features_xgb_filepath)\n",
    "test = pd.read_csv(test_features_xgb_filepath)\n",
    "index = retrieve_index_by_month_day_hour(train, 3, 6, 9)\n",
    "val_or_generate_submission_file_lgbm(params, n_estimators, train, test, index, 'extract')\n",
    "#val_or_generate_submission_file_lgbm(params, n_estimators, train, test, index)"
   ]
  },
  {
   "cell_type": "markdown",
   "metadata": {},
   "source": [
    "### XGB Model 2 - Prediction"
   ]
  },
  {
   "cell_type": "code",
   "execution_count": 16,
   "metadata": {},
   "outputs": [
    {
     "name": "stdout",
     "output_type": "stream",
     "text": [
      "Train with all the data and generate submission file\n"
     ]
    }
   ],
   "source": [
    "param_dict = {\n",
    "    'max_depth' : 9,\n",
    "    'learning_rate' : 0.01,\n",
    "    'n_estimators' : 1500,\n",
    "    'silent' : True,\n",
    "    'objective' : 'reg:linear',\n",
    "    'booster' : 'gbtree',\n",
    "    'n_jobs' : 8,\n",
    "    'gamma' : 0,\n",
    "    'min_child_weight' : 1,\n",
    "    'max_delta_step' : 0,\n",
    "    'subsample' : 0.75,\n",
    "    'colsample_bytree' : 0.9,\n",
    "    'reg_alpha' : 0.7,\n",
    "    'reg_lambda' : 1\n",
    "}\n",
    "# loading train and test set with xgb and lgb features\n",
    "#train = pd.read_csv(training_features_lgb_filepath)\n",
    "#test = pd.read_csv(test_features_lgb_filepath)\n",
    "# predict\n",
    "index = retrieve_index_by_month_day_hour(train, 3, 6, 9)\n",
    "val_or_generate_submission_file_xgb(param_dict, train, test, index,'') # 3.369559474786608 3.362073701927338"
   ]
  },
  {
   "cell_type": "markdown",
   "metadata": {},
   "source": [
    "### Light GBM Model 2 - Prediction"
   ]
  },
  {
   "cell_type": "code",
   "execution_count": 17,
   "metadata": {},
   "outputs": [
    {
     "name": "stdout",
     "output_type": "stream",
     "text": [
      "Train with all the data and generate submission file\n"
     ]
    }
   ],
   "source": [
    "params = {\n",
    "    'boosting_type': 'gbdt',\n",
    "    'objective': 'regression',\n",
    "    'reg_alpha': 0.1,\n",
    "    'reg_lambda': 0.1,\n",
    "    'n_jobs': 8,\n",
    "    'metric': 'rmse',\n",
    "    'max_depth': 7,\n",
    "    'learning_rate': 0.01,\n",
    "    'verbose': 0}\n",
    "\n",
    "n_estimators = 4750\n",
    "# loading train and test set with xgb and lgb features\n",
    "#train = pd.read_csv(training_features_lgb_filepath)\n",
    "#test = pd.read_csv(test_features_lgb_filepath)\n",
    "# prediction\n",
    "index = retrieve_index_by_month_day_hour(train, 3, 6, 9)\n",
    "val_or_generate_submission_file_lgbm(params, n_estimators, train, test, index,'') # 3.3073688776246732 3.289658603021144"
   ]
  },
  {
   "cell_type": "markdown",
   "metadata": {},
   "source": [
    "### ANN Model"
   ]
  },
  {
   "cell_type": "code",
   "execution_count": 55,
   "metadata": {},
   "outputs": [
    {
     "name": "stdout",
     "output_type": "stream",
     "text": [
      "_________________________________________________________________\n",
      "Layer (type)                 Output Shape              Param #   \n",
      "=================================================================\n",
      "dense_68 (Dense)             (None, 256)               16896     \n",
      "_________________________________________________________________\n",
      "batch_normalization_40 (Batc (None, 256)               1024      \n",
      "_________________________________________________________________\n",
      "dense_69 (Dense)             (None, 256)               65792     \n",
      "_________________________________________________________________\n",
      "batch_normalization_41 (Batc (None, 256)               1024      \n",
      "_________________________________________________________________\n",
      "dense_70 (Dense)             (None, 128)               32896     \n",
      "_________________________________________________________________\n",
      "dense_71 (Dense)             (None, 1)                 129       \n",
      "=================================================================\n",
      "Total params: 117,761\n",
      "Trainable params: 116,737\n",
      "Non-trainable params: 1,024\n",
      "_________________________________________________________________\n"
     ]
    }
   ],
   "source": [
    "from keras.models import Sequential\n",
    "from keras.layers import Dense, BatchNormalization, Embedding\n",
    "from sklearn.preprocessing import MinMaxScaler\n",
    "from sklearn.model_selection import train_test_split\n",
    "from keras import optimizers\n",
    "from sklearn.preprocessing import MinMaxScaler\n",
    "\n",
    "# loading train and test data set\n",
    "train = pd.read_csv(training_features_filepath)\n",
    "test = pd.read_csv(test_features_filepath)\n",
    "\n",
    "# retrieve val index\n",
    "val_idx = retrieve_index_by_month_day_hour(train, 3, 6, 9)\n",
    "\n",
    "# retrieve length of train data for later use\n",
    "train_idx = train.shape[0]\n",
    "\n",
    "# retrieve target\n",
    "train_y = train['car_number']\n",
    "\n",
    "# drop uncessary columns\n",
    "train = train.drop(columns=drop_columns)\n",
    "test = test.drop(columns=drop_columns)\n",
    "\n",
    "# merging train and test\n",
    "data = train.append(test)\n",
    "\n",
    "# one hot encoding\n",
    "data = pd.get_dummies(data, columns=one_hot_encoding_columns)\n",
    "\n",
    "# normalization\n",
    "scaler = MinMaxScaler()\n",
    "scaler.fit(data)\n",
    "data = scaler.transform(data)\n",
    "\n",
    "# split train and test\n",
    "train_x = data[:train_idx]\n",
    "test_x = data[train_idx:]\n",
    "\n",
    "# split train and val\n",
    "#train_x, val_x, train_y, val_y = train_test_split(train_x, train_y, test_size=0.2, random_state=42)\n",
    "\n",
    "# split data by val_idx, using last week as validation data\n",
    "#train_x, val_x, train_y, val_y = train_x[:val_idx], train_x[val_idx:], train_y[:val_idx], train_y[val_idx:]\n",
    "\n",
    "# adam\n",
    "adam = optimizers.Adam(lr=0.001, beta_1=0.9, beta_2=0.999, epsilon=None, decay=0.0, amsgrad=False)\n",
    "\n",
    "model = Sequential()\n",
    "model.add(Dense(256, input_shape=(train_x.shape[1],), activation='relu'))\n",
    "model.add(BatchNormalization())\n",
    "# model.add(Dense(512, activation='relu'))\n",
    "# model.add(BatchNormalization())\n",
    "model.add(Dense(256, activation='relu'))\n",
    "model.add(BatchNormalization())\n",
    "model.add(Dense(128, activation='relu'))\n",
    "model.add(Dense(1))\n",
    "model.compile(loss='mean_squared_error', optimizer=adam)\n",
    "model.summary()"
   ]
  },
  {
   "cell_type": "code",
   "execution_count": 60,
   "metadata": {},
   "outputs": [
    {
     "name": "stdout",
     "output_type": "stream",
     "text": [
      "Train on 43489 samples, validate on 4835 samples\n",
      "Epoch 1/1\n",
      "43489/43489 [==============================] - 1s 15us/step - loss: 5.7780 - val_loss: 5.5506\n"
     ]
    }
   ],
   "source": [
    "# fit data\n",
    "history = model.fit(train_x, train_y, epochs=1, batch_size=1024, validation_data=(val_x, val_y), verbose=1)"
   ]
  },
  {
   "cell_type": "code",
   "execution_count": 49,
   "metadata": {},
   "outputs": [
    {
     "data": {
      "image/png": "[encoded data removed]",
      "text/plain": [
       "<Figure size 720x360 with 1 Axes>"
      ]
     },
     "metadata": {},
     "output_type": "display_data"
    }
   ],
   "source": [
    "plot_model(history)"
   ]
  },
  {
   "cell_type": "code",
   "execution_count": 91,
   "metadata": {},
   "outputs": [
    {
     "name": "stdout",
     "output_type": "stream",
     "text": [
      "(43489, 65) (43489,)\n"
     ]
    }
   ],
   "source": [
    "print(train_x.shape, train_y.shape)"
   ]
  },
  {
   "cell_type": "code",
   "execution_count": 61,
   "metadata": {},
   "outputs": [
    {
     "name": "stdout",
     "output_type": "stream",
     "text": [
      "Epoch 1/1\n",
      "43489/43489 [==============================] - 0s 7us/step - loss: 5.7362\n"
     ]
    },
    {
     "data": {
      "text/plain": [
       "<keras.callbacks.History at 0x21851210ac8>"
      ]
     },
     "execution_count": 61,
     "metadata": {},
     "output_type": "execute_result"
    }
   ],
   "source": [
    "# fit the whole data set\n",
    "model.fit(train_x, train_y, epochs=1, batch_size=1024, verbose=1)"
   ]
  },
  {
   "cell_type": "code",
   "execution_count": 58,
   "metadata": {},
   "outputs": [
    {
     "data": {
      "text/plain": [
       "(9800, 65)"
      ]
     },
     "execution_count": 58,
     "metadata": {},
     "output_type": "execute_result"
    }
   ],
   "source": [
    "test_x.shape"
   ]
  },
  {
   "cell_type": "code",
   "execution_count": 59,
   "metadata": {},
   "outputs": [],
   "source": [
    "# predit and generate submission file\n",
    "pred = model.predict(test_x)\n",
    "generate_submission_file(pred, ann_submission_filepath)"
   ]
  },
  {
   "cell_type": "markdown",
   "metadata": {},
   "source": [
    "### Averaging prediction"
   ]
  },
  {
   "cell_type": "code",
   "execution_count": 19,
   "metadata": {},
   "outputs": [],
   "source": [
    "# loading prediction file\n",
    "xgb_pred = pd.read_csv(xgb_submission_filepath)\n",
    "lgb_pred = pd.read_csv(lgb_submission_filepath)\n",
    "# rename car_number\n",
    "xgb_pred = xgb_pred.rename(columns={'car_number': 'car_number_xgb'})\n",
    "lgb_pred = lgb_pred.rename(columns={'car_number': 'car_number_lgb'})\n",
    "# merge 2 dataframes\n",
    "avg_sub = pd.merge(xgb_pred, lgb_pred, on=['grid_id','day','hour'], how='left')\n",
    "avg_sub['car_number'] = 0\n",
    "avg_sub['car_number'] = np.ceil((avg_sub.car_number_xgb + avg_sub.car_number_lgb) * 1.05 /2)\n",
    "avg_sub = avg_sub.drop(columns=['car_number_xgb', 'car_number_lgb'])\n",
    "avg_sub.to_csv(final_submission_filepath, index=False)"
   ]
  },
  {
   "cell_type": "markdown",
   "metadata": {},
   "source": [
    "### LSTM Model (TODO)"
   ]
  },
  {
   "cell_type": "code",
   "execution_count": 56,
   "metadata": {},
   "outputs": [
    {
     "name": "stdout",
     "output_type": "stream",
     "text": [
      "_________________________________________________________________\n",
      "Layer (type)                 Output Shape              Param #   \n",
      "=================================================================\n",
      "lstm_21 (LSTM)               (None, 784, 20)           2320      \n",
      "_________________________________________________________________\n",
      "lstm_22 (LSTM)               (None, 10)                1240      \n",
      "_________________________________________________________________\n",
      "dense_3 (Dense)              (None, 1)                 11        \n",
      "=================================================================\n",
      "Total params: 3,571\n",
      "Trainable params: 3,571\n",
      "Non-trainable params: 0\n",
      "_________________________________________________________________\n"
     ]
    }
   ],
   "source": [
    "from keras.models import Sequential\n",
    "from keras.layers import LSTM, Dense\n",
    "from sklearn.preprocessing import MinMaxScaler\n",
    "\n",
    "train_grid_id_1 = train[train['grid_id']==1]\n",
    "train_grid_id_1 = train_grid_id_1.reset_index()\n",
    "index = retrieve_index_by_month_day_hour(train_grid_id_1, 3, 6, 9)\n",
    "train_x, train_y, val_x, val_y = split_train_val_data(index, train_grid_id_1)\n",
    "\n",
    "train_x = train_x.drop(columns=['grid_id'])\n",
    "val_x = val_x.drop(columns=['grid_id'])\n",
    "\n",
    "min_max_scaler = MinMaxScaler()\n",
    "train_x = min_max_scaler.fit_transform(train_x)\n",
    "val_x = min_max_scaler.fit_transform(val_x)\n",
    "\n",
    "train_x = np.reshape(train_x, (1, 784, 8))\n",
    "val_x = np.reshape(val_x, (1, 97, 8))\n",
    "\n",
    "lstm = Sequential()\n",
    "lstm.add(LSTM(20, dropout=0.1, recurrent_dropout=0.1, input_shape=(784, 8), return_sequences=True))\n",
    "lstm.add(LSTM(10, dropout=0.1, recurrent_dropout=0.1))\n",
    "lstm.add(Dense(1))\n",
    "lstm.compile(loss='mean_squared_error', optimizer='adam')\n",
    "\n",
    "lstm.summary()\n",
    "\n",
    "#lstm.fit(train_x, train_y, epochs=100, batch_size=1, validation_data=(val_x, val_y), verbose=1)\n",
    "#score, mse = lstm.evaluate(val_x, val_y, batch_size=1)\n",
    "#print(score + \", \" + mse)"
   ]
  },
  {
   "cell_type": "code",
   "execution_count": null,
   "metadata": {},
   "outputs": [],
   "source": []
  }
 ],
 "metadata": {
  "kernelspec": {
   "display_name": "Python 3",
   "language": "python",
   "name": "python3"
  },
  "language_info": {
   "codemirror_mode": {
    "name": "ipython",
    "version": 3
   },
   "file_extension": ".py",
   "mimetype": "text/x-python",
   "name": "python",
   "nbconvert_exporter": "python",
   "pygments_lexer": "ipython3",
   "version": "3.5.5"
  }
 },
 "nbformat": 4,
 "nbformat_minor": 2
}
