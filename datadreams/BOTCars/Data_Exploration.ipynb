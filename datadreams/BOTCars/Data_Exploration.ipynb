{
 "cells": [
  {
   "cell_type": "markdown",
   "metadata": {},
   "source": [
    "### Data exploration"
   ]
  },
  {
   "cell_type": "code",
   "execution_count": 2,
   "metadata": {},
   "outputs": [],
   "source": [
    "import pandas as pd\n",
    "import numpy as np\n",
    "import matplotlib.pyplot as plt\n",
    "import matplotlib.patches as patches\n",
    "import matplotlib.path as path\n",
    "%matplotlib inline\n",
    "\n",
    "def plot_hist(data):\n",
    "    fig, ax = plt.subplots()\n",
    "    n, bins = np.histogram(data, 50)\n",
    "    # get the corners of the rectangles for the histogram\n",
    "    left = np.array(bins[:-1])\n",
    "    right = np.array(bins[1:])\n",
    "    bottom = np.zeros(len(left))\n",
    "    top = bottom + n\n",
    "    # we need a (numrects x numsides x 2) numpy array for the path helper\n",
    "    # function to build a compound path\n",
    "    XY = np.array([[left, left, right, right], [bottom, top, top, bottom]]).T\n",
    "    # get the Path object\n",
    "    barpath = path.Path.make_compound_path_from_polys(XY)\n",
    "    # make a patch out of it\n",
    "    patch = patches.PathPatch(barpath)\n",
    "    ax.add_patch(patch)\n",
    "    # update the view limits\n",
    "    ax.set_xlim(left[0], right[-1])\n",
    "    ax.set_ylim(bottom.min(), top.max())\n",
    "    plt.show()"
   ]
  },
  {
   "cell_type": "code",
   "execution_count": 3,
   "metadata": {},
   "outputs": [
    {
     "name": "stdout",
     "output_type": "stream",
     "text": [
      "<class 'pandas.core.frame.DataFrame'>\n",
      "RangeIndex: 181293 entries, 0 to 181292\n",
      "Data columns (total 8 columns):\n",
      "car_id              181293 non-null object\n",
      "date_time           181293 non-null object\n",
      "lat                 181293 non-null float64\n",
      "lon                 181293 non-null float64\n",
      "power_mode          181293 non-null object\n",
      "mileage             181290 non-null float64\n",
      "speed               181293 non-null float64\n",
      "fuel_consumption    181293 non-null int64\n",
      "dtypes: float64(4), int64(1), object(3)\n",
      "memory usage: 11.1+ MB\n"
     ]
    }
   ],
   "source": [
    "# loading data into pd\n",
    "data = pd.read_csv('data/training/rcar/BOT_data_rcar_20170102_20170102_part0.csv')\n",
    "data.info()"
   ]
  },
  {
   "cell_type": "code",
   "execution_count": 4,
   "metadata": {},
   "outputs": [
    {
     "data": {
      "text/html": [
       "<div>\n",
       "<style scoped>\n",
       "    .dataframe tbody tr th:only-of-type {\n",
       "        vertical-align: middle;\n",
       "    }\n",
       "\n",
       "    .dataframe tbody tr th {\n",
       "        vertical-align: top;\n",
       "    }\n",
       "\n",
       "    .dataframe thead th {\n",
       "        text-align: right;\n",
       "    }\n",
       "</style>\n",
       "<table border=\"1\" class=\"dataframe\">\n",
       "  <thead>\n",
       "    <tr style=\"text-align: right;\">\n",
       "      <th></th>\n",
       "      <th>lat</th>\n",
       "      <th>lon</th>\n",
       "      <th>mileage</th>\n",
       "      <th>speed</th>\n",
       "      <th>fuel_consumption</th>\n",
       "    </tr>\n",
       "  </thead>\n",
       "  <tbody>\n",
       "    <tr>\n",
       "      <th>count</th>\n",
       "      <td>181293.000000</td>\n",
       "      <td>181293.000000</td>\n",
       "      <td>181290.000000</td>\n",
       "      <td>181293.000000</td>\n",
       "      <td>1.812930e+05</td>\n",
       "    </tr>\n",
       "    <tr>\n",
       "      <th>mean</th>\n",
       "      <td>30.517165</td>\n",
       "      <td>118.666182</td>\n",
       "      <td>3919.900938</td>\n",
       "      <td>27.553137</td>\n",
       "      <td>3.708092e+05</td>\n",
       "    </tr>\n",
       "    <tr>\n",
       "      <th>std</th>\n",
       "      <td>4.567048</td>\n",
       "      <td>17.747698</td>\n",
       "      <td>3546.468977</td>\n",
       "      <td>28.775631</td>\n",
       "      <td>3.401201e+05</td>\n",
       "    </tr>\n",
       "    <tr>\n",
       "      <th>min</th>\n",
       "      <td>0.000000</td>\n",
       "      <td>0.000000</td>\n",
       "      <td>45.000000</td>\n",
       "      <td>0.000000</td>\n",
       "      <td>2.200000e+01</td>\n",
       "    </tr>\n",
       "    <tr>\n",
       "      <th>25%</th>\n",
       "      <td>31.116326</td>\n",
       "      <td>121.298148</td>\n",
       "      <td>1252.000000</td>\n",
       "      <td>0.000000</td>\n",
       "      <td>1.210190e+05</td>\n",
       "    </tr>\n",
       "    <tr>\n",
       "      <th>50%</th>\n",
       "      <td>31.228217</td>\n",
       "      <td>121.417272</td>\n",
       "      <td>2959.000000</td>\n",
       "      <td>19.400000</td>\n",
       "      <td>2.822090e+05</td>\n",
       "    </tr>\n",
       "    <tr>\n",
       "      <th>75%</th>\n",
       "      <td>31.296693</td>\n",
       "      <td>121.515648</td>\n",
       "      <td>5048.000000</td>\n",
       "      <td>47.000000</td>\n",
       "      <td>5.190420e+05</td>\n",
       "    </tr>\n",
       "    <tr>\n",
       "      <th>max</th>\n",
       "      <td>32.007936</td>\n",
       "      <td>121.845265</td>\n",
       "      <td>18715.000000</td>\n",
       "      <td>127.300000</td>\n",
       "      <td>1.790219e+06</td>\n",
       "    </tr>\n",
       "  </tbody>\n",
       "</table>\n",
       "</div>"
      ],
      "text/plain": [
       "                 lat            lon        mileage          speed  \\\n",
       "count  181293.000000  181293.000000  181290.000000  181293.000000   \n",
       "mean       30.517165     118.666182    3919.900938      27.553137   \n",
       "std         4.567048      17.747698    3546.468977      28.775631   \n",
       "min         0.000000       0.000000      45.000000       0.000000   \n",
       "25%        31.116326     121.298148    1252.000000       0.000000   \n",
       "50%        31.228217     121.417272    2959.000000      19.400000   \n",
       "75%        31.296693     121.515648    5048.000000      47.000000   \n",
       "max        32.007936     121.845265   18715.000000     127.300000   \n",
       "\n",
       "       fuel_consumption  \n",
       "count      1.812930e+05  \n",
       "mean       3.708092e+05  \n",
       "std        3.401201e+05  \n",
       "min        2.200000e+01  \n",
       "25%        1.210190e+05  \n",
       "50%        2.822090e+05  \n",
       "75%        5.190420e+05  \n",
       "max        1.790219e+06  "
      ]
     },
     "execution_count": 4,
     "metadata": {},
     "output_type": "execute_result"
    }
   ],
   "source": [
    "data.describe()"
   ]
  },
  {
   "cell_type": "code",
   "execution_count": 5,
   "metadata": {},
   "outputs": [
    {
     "data": {
      "text/html": [
       "<div>\n",
       "<style scoped>\n",
       "    .dataframe tbody tr th:only-of-type {\n",
       "        vertical-align: middle;\n",
       "    }\n",
       "\n",
       "    .dataframe tbody tr th {\n",
       "        vertical-align: top;\n",
       "    }\n",
       "\n",
       "    .dataframe thead th {\n",
       "        text-align: right;\n",
       "    }\n",
       "</style>\n",
       "<table border=\"1\" class=\"dataframe\">\n",
       "  <thead>\n",
       "    <tr style=\"text-align: right;\">\n",
       "      <th></th>\n",
       "      <th>car_id</th>\n",
       "      <th>date_time</th>\n",
       "      <th>lat</th>\n",
       "      <th>lon</th>\n",
       "      <th>power_mode</th>\n",
       "      <th>mileage</th>\n",
       "      <th>speed</th>\n",
       "      <th>fuel_consumption</th>\n",
       "    </tr>\n",
       "  </thead>\n",
       "  <tbody>\n",
       "    <tr>\n",
       "      <th>0</th>\n",
       "      <td>r74415</td>\n",
       "      <td>2017-01-02 13:02:21</td>\n",
       "      <td>31.027729</td>\n",
       "      <td>121.599790</td>\n",
       "      <td>dph</td>\n",
       "      <td>4583.0</td>\n",
       "      <td>0.0</td>\n",
       "      <td>141494</td>\n",
       "    </tr>\n",
       "    <tr>\n",
       "      <th>1</th>\n",
       "      <td>r76180</td>\n",
       "      <td>2017-01-02 14:07:35</td>\n",
       "      <td>31.289532</td>\n",
       "      <td>121.516822</td>\n",
       "      <td>dph</td>\n",
       "      <td>1253.0</td>\n",
       "      <td>20.9</td>\n",
       "      <td>178217</td>\n",
       "    </tr>\n",
       "    <tr>\n",
       "      <th>2</th>\n",
       "      <td>r76180</td>\n",
       "      <td>2017-01-02 14:07:40</td>\n",
       "      <td>31.289269</td>\n",
       "      <td>121.516912</td>\n",
       "      <td>dph</td>\n",
       "      <td>1253.0</td>\n",
       "      <td>20.5</td>\n",
       "      <td>178221</td>\n",
       "    </tr>\n",
       "    <tr>\n",
       "      <th>3</th>\n",
       "      <td>r76180</td>\n",
       "      <td>2017-01-02 14:07:55</td>\n",
       "      <td>31.288576</td>\n",
       "      <td>121.517211</td>\n",
       "      <td>dph</td>\n",
       "      <td>1253.0</td>\n",
       "      <td>18.6</td>\n",
       "      <td>178231</td>\n",
       "    </tr>\n",
       "    <tr>\n",
       "      <th>4</th>\n",
       "      <td>r76180</td>\n",
       "      <td>2017-01-02 14:18:10</td>\n",
       "      <td>31.255289</td>\n",
       "      <td>121.431247</td>\n",
       "      <td>dph</td>\n",
       "      <td>1263.0</td>\n",
       "      <td>67.5</td>\n",
       "      <td>179000</td>\n",
       "    </tr>\n",
       "  </tbody>\n",
       "</table>\n",
       "</div>"
      ],
      "text/plain": [
       "   car_id            date_time        lat         lon power_mode  mileage  \\\n",
       "0  r74415  2017-01-02 13:02:21  31.027729  121.599790        dph   4583.0   \n",
       "1  r76180  2017-01-02 14:07:35  31.289532  121.516822        dph   1253.0   \n",
       "2  r76180  2017-01-02 14:07:40  31.289269  121.516912        dph   1253.0   \n",
       "3  r76180  2017-01-02 14:07:55  31.288576  121.517211        dph   1253.0   \n",
       "4  r76180  2017-01-02 14:18:10  31.255289  121.431247        dph   1263.0   \n",
       "\n",
       "   speed  fuel_consumption  \n",
       "0    0.0            141494  \n",
       "1   20.9            178217  \n",
       "2   20.5            178221  \n",
       "3   18.6            178231  \n",
       "4   67.5            179000  "
      ]
     },
     "execution_count": 5,
     "metadata": {},
     "output_type": "execute_result"
    }
   ],
   "source": [
    "data.head()"
   ]
  },
  {
   "cell_type": "code",
   "execution_count": 19,
   "metadata": {},
   "outputs": [
    {
     "data": {
      "text/plain": [
       "0.000000     3964\n",
       "31.010317     153\n",
       "31.554375     103\n",
       "31.504919      89\n",
       "31.083907      85\n",
       "31.306612      85\n",
       "31.504926      80\n",
       "31.010316      80\n",
       "31.504927      79\n",
       "31.600668      73\n",
       "31.361629      64\n",
       "31.010325      60\n",
       "31.504928      59\n",
       "31.198716      59\n",
       "31.263346      54\n",
       "31.300711      54\n",
       "31.600667      51\n",
       "31.363798      50\n",
       "31.554376      48\n",
       "31.081794      46\n",
       "31.352314      45\n",
       "31.034583      45\n",
       "31.298939      44\n",
       "31.081793      41\n",
       "31.010318      40\n",
       "31.309679      40\n",
       "31.274765      40\n",
       "31.010322      40\n",
       "31.274766      40\n",
       "31.038711      39\n",
       "             ... \n",
       "30.898816       1\n",
       "31.212068       1\n",
       "31.162932       1\n",
       "31.194111       1\n",
       "31.138857       1\n",
       "31.199937       1\n",
       "30.996765       1\n",
       "30.997904       1\n",
       "31.313758       1\n",
       "31.172440       1\n",
       "31.459672       1\n",
       "31.025295       1\n",
       "31.097657       1\n",
       "31.163522       1\n",
       "31.071477       1\n",
       "31.154594       1\n",
       "31.066962       1\n",
       "31.290990       1\n",
       "31.296235       1\n",
       "31.374365       1\n",
       "31.250635       1\n",
       "31.117551       1\n",
       "31.636276       1\n",
       "30.122495       1\n",
       "31.277660       1\n",
       "31.186135       1\n",
       "31.237197       1\n",
       "31.801589       1\n",
       "31.509019       1\n",
       "31.278038       1\n",
       "Length: 124217, dtype: int64"
      ]
     },
     "execution_count": 19,
     "metadata": {},
     "output_type": "execute_result"
    }
   ],
   "source": [
    "pd.value_counts(data['lat'].values, sort=True)"
   ]
  },
  {
   "cell_type": "code",
   "execution_count": 20,
   "metadata": {},
   "outputs": [
    {
     "data": {
      "text/plain": [
       "0.000000      3964\n",
       "121.417222     164\n",
       "121.417217     102\n",
       "121.417221      93\n",
       "121.025844      88\n",
       "121.417220      78\n",
       "121.025843      77\n",
       "121.587175      73\n",
       "121.321566      69\n",
       "121.417218      69\n",
       "121.452902      69\n",
       "121.452898      68\n",
       "121.493195      65\n",
       "121.227499      65\n",
       "121.336447      61\n",
       "121.169242      57\n",
       "121.401744      54\n",
       "121.504599      50\n",
       "121.417223      48\n",
       "121.037553      47\n",
       "121.537741      46\n",
       "121.037543      44\n",
       "121.373913      44\n",
       "121.504965      44\n",
       "121.037557      42\n",
       "121.037545      39\n",
       "121.473144      39\n",
       "121.493196      39\n",
       "121.417198      38\n",
       "121.417219      38\n",
       "              ... \n",
       "121.369688       1\n",
       "121.525132       1\n",
       "121.421844       1\n",
       "121.221948       1\n",
       "121.591778       1\n",
       "121.414266       1\n",
       "120.439603       1\n",
       "121.584535       1\n",
       "121.330858       1\n",
       "121.264644       1\n",
       "121.432332       1\n",
       "121.344794       1\n",
       "121.251011       1\n",
       "121.431673       1\n",
       "121.337780       1\n",
       "121.354388       1\n",
       "121.596463       1\n",
       "121.336004       1\n",
       "121.366007       1\n",
       "121.557143       1\n",
       "121.579287       1\n",
       "121.437346       1\n",
       "121.290276       1\n",
       "121.447134       1\n",
       "121.482440       1\n",
       "121.021715       1\n",
       "121.560388       1\n",
       "121.267824       1\n",
       "120.390162       1\n",
       "121.673011       1\n",
       "Length: 129170, dtype: int64"
      ]
     },
     "execution_count": 20,
     "metadata": {},
     "output_type": "execute_result"
    }
   ],
   "source": [
    "pd.value_counts(data['lon'].values, sort=True)"
   ]
  },
  {
   "cell_type": "code",
   "execution_count": 21,
   "metadata": {},
   "outputs": [
    {
     "data": {
      "image/png": "[encoded data removed]",
      "text/plain": [
       "<Figure size 432x288 with 1 Axes>"
      ]
     },
     "metadata": {},
     "output_type": "display_data"
    }
   ],
   "source": [
    "# plot distribution of latitude\n",
    "plot_hist(data['lat'])"
   ]
  },
  {
   "cell_type": "code",
   "execution_count": 22,
   "metadata": {},
   "outputs": [
    {
     "data": {
      "image/png": "[encoded data removed]",
      "text/plain": [
       "<Figure size 432x288 with 1 Axes>"
      ]
     },
     "metadata": {},
     "output_type": "display_data"
    }
   ],
   "source": [
    "# plot distribution of longitude\n",
    "plot_hist(data['lon'])"
   ]
  },
  {
   "cell_type": "code",
   "execution_count": 23,
   "metadata": {},
   "outputs": [
    {
     "name": "stdout",
     "output_type": "stream",
     "text": [
      "minimum latitude:31.15, max latitude:31.315, minimun longtitude:121.315,max longtitude:121.775\n"
     ]
    }
   ],
   "source": [
    "grid_info = pd.read_csv('data/grid_info.csv')\n",
    "print(\"minimum latitude:{}, max latitude:{}, minimun longtitude:{},max longtitude:{}\"\n",
    "      .format(grid_info['latitude_from'].min(), grid_info['latitude_to'].max(),\n",
    "              grid_info['longitude_from'].min(),grid_info['longitude_to'].max()))"
   ]
  },
  {
   "cell_type": "code",
   "execution_count": 24,
   "metadata": {},
   "outputs": [
    {
     "data": {
      "text/html": [
       "<div>\n",
       "<style scoped>\n",
       "    .dataframe tbody tr th:only-of-type {\n",
       "        vertical-align: middle;\n",
       "    }\n",
       "\n",
       "    .dataframe tbody tr th {\n",
       "        vertical-align: top;\n",
       "    }\n",
       "\n",
       "    .dataframe thead th {\n",
       "        text-align: right;\n",
       "    }\n",
       "</style>\n",
       "<table border=\"1\" class=\"dataframe\">\n",
       "  <thead>\n",
       "    <tr style=\"text-align: right;\">\n",
       "      <th></th>\n",
       "      <th>grid_id</th>\n",
       "      <th>latitude_from</th>\n",
       "      <th>latitude_to</th>\n",
       "      <th>longitude_from</th>\n",
       "      <th>longitude_to</th>\n",
       "    </tr>\n",
       "  </thead>\n",
       "  <tbody>\n",
       "    <tr>\n",
       "      <th>0</th>\n",
       "      <td>1</td>\n",
       "      <td>31.195</td>\n",
       "      <td>31.200</td>\n",
       "      <td>121.315</td>\n",
       "      <td>121.320</td>\n",
       "    </tr>\n",
       "    <tr>\n",
       "      <th>1</th>\n",
       "      <td>2</td>\n",
       "      <td>31.220</td>\n",
       "      <td>31.225</td>\n",
       "      <td>121.355</td>\n",
       "      <td>121.360</td>\n",
       "    </tr>\n",
       "    <tr>\n",
       "      <th>2</th>\n",
       "      <td>3</td>\n",
       "      <td>31.260</td>\n",
       "      <td>31.265</td>\n",
       "      <td>121.485</td>\n",
       "      <td>121.490</td>\n",
       "    </tr>\n",
       "    <tr>\n",
       "      <th>3</th>\n",
       "      <td>4</td>\n",
       "      <td>31.150</td>\n",
       "      <td>31.155</td>\n",
       "      <td>121.510</td>\n",
       "      <td>121.515</td>\n",
       "    </tr>\n",
       "    <tr>\n",
       "      <th>4</th>\n",
       "      <td>5</td>\n",
       "      <td>31.190</td>\n",
       "      <td>31.195</td>\n",
       "      <td>121.770</td>\n",
       "      <td>121.775</td>\n",
       "    </tr>\n",
       "  </tbody>\n",
       "</table>\n",
       "</div>"
      ],
      "text/plain": [
       "   grid_id  latitude_from  latitude_to  longitude_from  longitude_to\n",
       "0        1         31.195       31.200         121.315       121.320\n",
       "1        2         31.220       31.225         121.355       121.360\n",
       "2        3         31.260       31.265         121.485       121.490\n",
       "3        4         31.150       31.155         121.510       121.515\n",
       "4        5         31.190       31.195         121.770       121.775"
      ]
     },
     "execution_count": 24,
     "metadata": {},
     "output_type": "execute_result"
    }
   ],
   "source": [
    "grid_info.head()"
   ]
  },
  {
   "cell_type": "code",
   "execution_count": 25,
   "metadata": {},
   "outputs": [
    {
     "data": {
      "text/html": [
       "<div>\n",
       "<style scoped>\n",
       "    .dataframe tbody tr th:only-of-type {\n",
       "        vertical-align: middle;\n",
       "    }\n",
       "\n",
       "    .dataframe tbody tr th {\n",
       "        vertical-align: top;\n",
       "    }\n",
       "\n",
       "    .dataframe thead th {\n",
       "        text-align: right;\n",
       "    }\n",
       "</style>\n",
       "<table border=\"1\" class=\"dataframe\">\n",
       "  <thead>\n",
       "    <tr style=\"text-align: right;\">\n",
       "      <th></th>\n",
       "      <th>grid_id</th>\n",
       "      <th>date</th>\n",
       "      <th>hour</th>\n",
       "      <th>car_number</th>\n",
       "    </tr>\n",
       "  </thead>\n",
       "  <tbody>\n",
       "    <tr>\n",
       "      <th>0</th>\n",
       "      <td>1</td>\n",
       "      <td>20170313</td>\n",
       "      <td>9</td>\n",
       "      <td>0</td>\n",
       "    </tr>\n",
       "    <tr>\n",
       "      <th>1</th>\n",
       "      <td>2</td>\n",
       "      <td>20170313</td>\n",
       "      <td>9</td>\n",
       "      <td>0</td>\n",
       "    </tr>\n",
       "    <tr>\n",
       "      <th>2</th>\n",
       "      <td>3</td>\n",
       "      <td>20170313</td>\n",
       "      <td>9</td>\n",
       "      <td>0</td>\n",
       "    </tr>\n",
       "    <tr>\n",
       "      <th>3</th>\n",
       "      <td>4</td>\n",
       "      <td>20170313</td>\n",
       "      <td>9</td>\n",
       "      <td>0</td>\n",
       "    </tr>\n",
       "    <tr>\n",
       "      <th>4</th>\n",
       "      <td>5</td>\n",
       "      <td>20170313</td>\n",
       "      <td>9</td>\n",
       "      <td>0</td>\n",
       "    </tr>\n",
       "  </tbody>\n",
       "</table>\n",
       "</div>"
      ],
      "text/plain": [
       "   grid_id      date  hour  car_number\n",
       "0        1  20170313     9           0\n",
       "1        2  20170313     9           0\n",
       "2        3  20170313     9           0\n",
       "3        4  20170313     9           0\n",
       "4        5  20170313     9           0"
      ]
     },
     "execution_count": 25,
     "metadata": {},
     "output_type": "execute_result"
    }
   ],
   "source": [
    "test_samples = pd.read_csv('data/submit_samples.csv')\n",
    "test_samples.head()"
   ]
  },
  {
   "cell_type": "code",
   "execution_count": 27,
   "metadata": {},
   "outputs": [
    {
     "data": {
      "text/html": [
       "<div>\n",
       "<style scoped>\n",
       "    .dataframe tbody tr th:only-of-type {\n",
       "        vertical-align: middle;\n",
       "    }\n",
       "\n",
       "    .dataframe tbody tr th {\n",
       "        vertical-align: top;\n",
       "    }\n",
       "\n",
       "    .dataframe thead th {\n",
       "        text-align: right;\n",
       "    }\n",
       "</style>\n",
       "<table border=\"1\" class=\"dataframe\">\n",
       "  <thead>\n",
       "    <tr style=\"text-align: right;\">\n",
       "      <th></th>\n",
       "      <th>date</th>\n",
       "      <th>hour</th>\n",
       "      <th>temperture</th>\n",
       "      <th>visibility</th>\n",
       "      <th>wind</th>\n",
       "      <th>rainy</th>\n",
       "      <th>holiday</th>\n",
       "    </tr>\n",
       "  </thead>\n",
       "  <tbody>\n",
       "    <tr>\n",
       "      <th>0</th>\n",
       "      <td>2017-01-02</td>\n",
       "      <td>0</td>\n",
       "      <td>11</td>\n",
       "      <td>1</td>\n",
       "      <td>0</td>\n",
       "      <td>0</td>\n",
       "      <td>1</td>\n",
       "    </tr>\n",
       "    <tr>\n",
       "      <th>1</th>\n",
       "      <td>2017-01-02</td>\n",
       "      <td>1</td>\n",
       "      <td>11</td>\n",
       "      <td>1</td>\n",
       "      <td>0</td>\n",
       "      <td>0</td>\n",
       "      <td>1</td>\n",
       "    </tr>\n",
       "    <tr>\n",
       "      <th>2</th>\n",
       "      <td>2017-01-02</td>\n",
       "      <td>2</td>\n",
       "      <td>10</td>\n",
       "      <td>1</td>\n",
       "      <td>0</td>\n",
       "      <td>0</td>\n",
       "      <td>1</td>\n",
       "    </tr>\n",
       "    <tr>\n",
       "      <th>3</th>\n",
       "      <td>2017-01-02</td>\n",
       "      <td>3</td>\n",
       "      <td>10</td>\n",
       "      <td>1</td>\n",
       "      <td>0</td>\n",
       "      <td>0</td>\n",
       "      <td>1</td>\n",
       "    </tr>\n",
       "    <tr>\n",
       "      <th>4</th>\n",
       "      <td>2017-01-02</td>\n",
       "      <td>4</td>\n",
       "      <td>10</td>\n",
       "      <td>1</td>\n",
       "      <td>0</td>\n",
       "      <td>0</td>\n",
       "      <td>1</td>\n",
       "    </tr>\n",
       "  </tbody>\n",
       "</table>\n",
       "</div>"
      ],
      "text/plain": [
       "         date  hour  temperture  visibility  wind  rainy  holiday\n",
       "0  2017-01-02     0          11           1     0      0        1\n",
       "1  2017-01-02     1          11           1     0      0        1\n",
       "2  2017-01-02     2          10           1     0      0        1\n",
       "3  2017-01-02     3          10           1     0      0        1\n",
       "4  2017-01-02     4          10           1     0      0        1"
      ]
     },
     "execution_count": 27,
     "metadata": {},
     "output_type": "execute_result"
    }
   ],
   "source": [
    "# weather data\n",
    "weathers = pd.read_csv('data/weather.csv')\n",
    "weathers.head()"
   ]
  },
  {
   "cell_type": "markdown",
   "metadata": {},
   "source": [
    "# Visulization training data"
   ]
  },
  {
   "cell_type": "code",
   "execution_count": 29,
   "metadata": {},
   "outputs": [
    {
     "name": "stdout",
     "output_type": "stream",
     "text": [
      "max car number 72.0\n",
      "min car number 1.0\n",
      "median car number 10.0\n"
     ]
    }
   ],
   "source": [
    "# visulization phase 1 data\n",
    "train = pd.read_csv('data/training.csv')\n",
    "print(\"max car number\", train['car_number'].max())\n",
    "print(\"min car number\", train['car_number'].min())\n",
    "print(\"median car number\", train['car_number'].median())"
   ]
  },
  {
   "cell_type": "code",
   "execution_count": 30,
   "metadata": {},
   "outputs": [
    {
     "name": "stdout",
     "output_type": "stream",
     "text": [
      "Q1:6.0,Q3:16.0,Step:15.0\n"
     ]
    }
   ],
   "source": [
    "# find out liers\n",
    "Q1 = train['car_number'].quantile(0.25)\n",
    "Q3 = train['car_number'].quantile(0.75)\n",
    "step = (Q3 - Q1) * 1.5\n",
    "print(\"Q1:{},Q3:{},Step:{}\".format(Q1, Q3, step))"
   ]
  },
  {
   "cell_type": "code",
   "execution_count": null,
   "metadata": {
    "collapsed": true
   },
   "outputs": [],
   "source": [
    "true_false_array = ~((train['car_number'] >= Q1 - step) & (train['car_number'] <= Q3 + step))"
   ]
  },
  {
   "cell_type": "code",
   "execution_count": 31,
   "metadata": {},
   "outputs": [
    {
     "data": {
      "image/png": "[encoded data removed]",
      "text/plain": [
       "<Figure size 432x288 with 1 Axes>"
      ]
     },
     "metadata": {},
     "output_type": "display_data"
    }
   ],
   "source": [
    "plot_hist(train['car_number'])"
   ]
  },
  {
   "cell_type": "code",
   "execution_count": 32,
   "metadata": {},
   "outputs": [],
   "source": [
    "def generate_date(row):\n",
    "    year = int(row['year'])\n",
    "    month = int(row['month'])\n",
    "    day = int(row['day'])\n",
    "    if day < 10:\n",
    "        day = '0' + str(day)    \n",
    "    return str(year) + '0' + str(month) + str(day)\n",
    "\n",
    "def plot_car_number_curve_by_hour_and_grid(train, hour, grid):    \n",
    "    # generate title\n",
    "    title = 'Grid ' + str(grid) + ' hour ' + str(hour)\n",
    "    # filter by hour\n",
    "    row_hour_index = train.hour == hour\n",
    "    df = train.loc[row_hour_index]\n",
    "    # filter by grid id\n",
    "    row_grid_index = df.grid_id == grid\n",
    "    df = df.loc[row_grid_index]    \n",
    "    df['date'] = df.apply(lambda row : generate_date(row), axis=1)\n",
    "    df['date'] = pd.to_datetime(df['date'], format='%Y%m%d')\n",
    "    plt.plot(df['date'], df['car_number'])\n",
    "    plt.rcParams['figure.figsize'] = 10, 5\n",
    "    plt.title(title)\n",
    "    plt.savefig('images/' + title + '.png', bbox_inches='tight')\n",
    "    plt.show()"
   ]
  },
  {
   "cell_type": "code",
   "execution_count": 34,
   "metadata": {},
   "outputs": [
    {
     "data": {
      "image/png": "[encoded data removed]",
      "text/plain": [
       "<Figure size 720x360 with 1 Axes>"
      ]
     },
     "metadata": {},
     "output_type": "display_data"
    }
   ],
   "source": [
    "# plot all the grid at 9 pm\n",
    "#for grid_id in range(1, 51):\n",
    "plot_car_number_curve_by_hour_and_grid(train, 9, grid_id)"
   ]
  },
  {
   "cell_type": "code",
   "execution_count": 18,
   "metadata": {},
   "outputs": [],
   "source": [
    "# plot grid id 44 from 9 to 22\n",
    "#for hour in range(9, 23):\n",
    "    #plot_car_number_curve_by_hour_and_grid(train, hour, 44) df['A'].corr(df['B'])"
   ]
  },
  {
   "cell_type": "markdown",
   "metadata": {
    "collapsed": true
   },
   "source": [
    "### Correlation between each features"
   ]
  },
  {
   "cell_type": "code",
   "execution_count": 38,
   "metadata": {},
   "outputs": [
    {
     "data": {
      "text/plain": [
       "0.0341824937357527"
      ]
     },
     "execution_count": 38,
     "metadata": {},
     "output_type": "execute_result"
    }
   ],
   "source": [
    "train['car_number'].corr(train['temperture'])"
   ]
  },
  {
   "cell_type": "code",
   "execution_count": 39,
   "metadata": {},
   "outputs": [
    {
     "data": {
      "text/plain": [
       "0.1505497158822155"
      ]
     },
     "execution_count": 39,
     "metadata": {},
     "output_type": "execute_result"
    }
   ],
   "source": [
    "train['car_number'].corr(train['speed'])"
   ]
  },
  {
   "cell_type": "code",
   "execution_count": 40,
   "metadata": {},
   "outputs": [
    {
     "data": {
      "text/plain": [
       "0.3634464011857378"
      ]
     },
     "execution_count": 40,
     "metadata": {},
     "output_type": "execute_result"
    }
   ],
   "source": [
    "train['car_number'].corr(train['grid_id'])"
   ]
  },
  {
   "cell_type": "code",
   "execution_count": null,
   "metadata": {},
   "outputs": [],
   "source": []
  }
 ],
 "metadata": {
  "kernelspec": {
   "display_name": "Python 3",
   "language": "python",
   "name": "python3"
  },
  "language_info": {
   "codemirror_mode": {
    "name": "ipython",
    "version": 3
   },
   "file_extension": ".py",
   "mimetype": "text/x-python",
   "name": "python",
   "nbconvert_exporter": "python",
   "pygments_lexer": "ipython3",
   "version": "3.5.5"
  }
 },
 "nbformat": 4,
 "nbformat_minor": 2
}
