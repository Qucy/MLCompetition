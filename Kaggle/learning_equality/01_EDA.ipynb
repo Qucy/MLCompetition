{
 "cells": [
  {
   "cell_type": "markdown",
   "id": "dccab4fb-13dd-443f-a5d4-9d75203fca14",
   "metadata": {},
   "source": [
    "### Exploratory Data Analysis\n",
    "\n",
    "- Since this data only have 832 MB for content, 4.9 MB for correlations.csv and 14 MB for topic.csv so it's totally OK to use pandas here"
   ]
  },
  {
   "cell_type": "code",
   "execution_count": 1,
   "id": "17432c6f-9905-47e7-93ab-29c7ab0d09d1",
   "metadata": {},
   "outputs": [
    {
     "name": "stdout",
     "output_type": "stream",
     "text": [
      "total 850M\n",
      "drwxrwxrwx 1 root root 4.0K  2月  2 21:38 .\n",
      "drwxrwxrwx 1 root root 4.0K  2月  4 23:21 ..\n",
      "-rwxrwxrwx 1 root root 832M 12月 14 19:43 content.csv\n",
      "-rwxrwxrwx 1 root root 4.9M 12月 14 19:44 correlations.csv\n",
      "-rwxrwxrwx 1 root root  336 12月 14 19:44 sample_submission.csv\n",
      "-rwxrwxrwx 1 root root  14M 12月 14 19:44 topics.csv\n"
     ]
    }
   ],
   "source": [
    "!ls -alh ./data/"
   ]
  },
  {
   "cell_type": "markdown",
   "id": "a70ca8c8-feb6-4d52-9c12-1a36b5192618",
   "metadata": {},
   "source": [
    "### Loading liberary"
   ]
  },
  {
   "cell_type": "code",
   "execution_count": 85,
   "id": "833943f8-b929-4721-963b-170a577c710c",
   "metadata": {},
   "outputs": [],
   "source": [
    "import pandas as pd\n",
    "from collections import Counter\n",
    "from wordcloud import WordCloud, STOPWORDS\n",
    "import matplotlib.pyplot as plt\n",
    "\n",
    "%matplotlib inline\n"
   ]
  },
  {
   "cell_type": "code",
   "execution_count": 78,
   "id": "fc121157-1447-490b-b991-b8e79fc13aef",
   "metadata": {},
   "outputs": [
    {
     "name": "stdout",
     "output_type": "stream",
     "text": [
      "CPU times: user 4.2 s, sys: 377 ms, total: 4.58 s\n",
      "Wall time: 4.58 s\n"
     ]
    }
   ],
   "source": [
    "%%time\n",
    "# loading data\n",
    "contents = pd.read_csv('./data/content.csv')\n",
    "topics = pd.read_csv('./data/topics.csv')\n",
    "correlations = pd.read_csv('./data/correlations.csv')\n",
    "sample_sub = pd.read_csv('./data/sample_submission.csv')"
   ]
  },
  {
   "cell_type": "markdown",
   "id": "ae6f4b6f-daa6-4949-b121-160862cc29b4",
   "metadata": {},
   "source": [
    "## Content\n",
    "Contains a row for each content item in the dataset. Note that the hidden dataset used for scoring contains additional content items not in the public version. These additional content items are only correlated to topics in the test set. Some content items may not be correlated with any topic.\n",
    "- id - A unique identifier for this content item.\n",
    "- title - Title text for this content item.\n",
    "- description - Description text. May be empty.\n",
    "- language - Language code representing the language of this content item.\n",
    "- kind - Describes what format of content this item represents, as one of:\n",
    "  - document (text is extracted from a PDF or EPUB file)\n",
    "  - video (text is extracted from the subtitle file, if available)\n",
    "  - exercise (text is extracted from questions/answers)\n",
    "  - audio (no text)\n",
    "   - html5 (text is extracted from HTML source)\n",
    "- text - Extracted text content, if available and if licensing permitted (around half of content items have text content).\n",
    "- copyright_holder - If text was extracted from the content, indicates the owner of the copyright for that content. Blank for all test set items.\n",
    "- license - If text was extracted from the content, the license under which that content was made available. Blank for all test set items."
   ]
  },
  {
   "cell_type": "code",
   "execution_count": 4,
   "id": "f32e678b-fbf3-47ed-a15b-c49126a367d0",
   "metadata": {},
   "outputs": [
    {
     "data": {
      "text/html": [
       "<div>\n",
       "<style scoped>\n",
       "    .dataframe tbody tr th:only-of-type {\n",
       "        vertical-align: middle;\n",
       "    }\n",
       "\n",
       "    .dataframe tbody tr th {\n",
       "        vertical-align: top;\n",
       "    }\n",
       "\n",
       "    .dataframe thead th {\n",
       "        text-align: right;\n",
       "    }\n",
       "</style>\n",
       "<table border=\"1\" class=\"dataframe\">\n",
       "  <thead>\n",
       "    <tr style=\"text-align: right;\">\n",
       "      <th></th>\n",
       "      <th>id</th>\n",
       "      <th>title</th>\n",
       "      <th>description</th>\n",
       "      <th>kind</th>\n",
       "      <th>text</th>\n",
       "      <th>language</th>\n",
       "      <th>copyright_holder</th>\n",
       "      <th>license</th>\n",
       "    </tr>\n",
       "  </thead>\n",
       "  <tbody>\n",
       "    <tr>\n",
       "      <th>0</th>\n",
       "      <td>c_00002381196d</td>\n",
       "      <td>Sumar números de varios dígitos: 48,029+233,930</td>\n",
       "      <td>Suma 48,029+233,930 mediante el algoritmo está...</td>\n",
       "      <td>video</td>\n",
       "      <td>NaN</td>\n",
       "      <td>es</td>\n",
       "      <td>NaN</td>\n",
       "      <td>NaN</td>\n",
       "    </tr>\n",
       "    <tr>\n",
       "      <th>1</th>\n",
       "      <td>c_000087304a9e</td>\n",
       "      <td>Trovare i fattori di un numero</td>\n",
       "      <td>Sal trova i fattori di 120.\\n\\n</td>\n",
       "      <td>video</td>\n",
       "      <td>NaN</td>\n",
       "      <td>it</td>\n",
       "      <td>NaN</td>\n",
       "      <td>NaN</td>\n",
       "    </tr>\n",
       "    <tr>\n",
       "      <th>2</th>\n",
       "      <td>c_0000ad142ddb</td>\n",
       "      <td>Sumar curvas de demanda</td>\n",
       "      <td>Cómo añadir curvas de demanda\\n\\n</td>\n",
       "      <td>video</td>\n",
       "      <td>NaN</td>\n",
       "      <td>es</td>\n",
       "      <td>NaN</td>\n",
       "      <td>NaN</td>\n",
       "    </tr>\n",
       "  </tbody>\n",
       "</table>\n",
       "</div>"
      ],
      "text/plain": [
       "               id                                             title  \\\n",
       "0  c_00002381196d  Sumar números de varios dígitos: 48,029+233,930    \n",
       "1  c_000087304a9e                    Trovare i fattori di un numero   \n",
       "2  c_0000ad142ddb                           Sumar curvas de demanda   \n",
       "\n",
       "                                         description   kind text language  \\\n",
       "0  Suma 48,029+233,930 mediante el algoritmo está...  video  NaN       es   \n",
       "1                    Sal trova i fattori di 120.\\n\\n  video  NaN       it   \n",
       "2                  Cómo añadir curvas de demanda\\n\\n  video  NaN       es   \n",
       "\n",
       "  copyright_holder license  \n",
       "0              NaN     NaN  \n",
       "1              NaN     NaN  \n",
       "2              NaN     NaN  "
      ]
     },
     "execution_count": 4,
     "metadata": {},
     "output_type": "execute_result"
    }
   ],
   "source": [
    "contents.head(3)"
   ]
  },
  {
   "cell_type": "code",
   "execution_count": 5,
   "id": "fbf207e6-ea24-4057-adf9-2e9397cc3285",
   "metadata": {},
   "outputs": [
    {
     "name": "stdout",
     "output_type": "stream",
     "text": [
      "<class 'pandas.core.frame.DataFrame'>\n",
      "RangeIndex: 154047 entries, 0 to 154046\n",
      "Data columns (total 8 columns):\n",
      " #   Column            Non-Null Count   Dtype \n",
      "---  ------            --------------   ----- \n",
      " 0   id                154047 non-null  object\n",
      " 1   title             154038 non-null  object\n",
      " 2   description       89456 non-null   object\n",
      " 3   kind              154047 non-null  object\n",
      " 4   text              74035 non-null   object\n",
      " 5   language          154047 non-null  object\n",
      " 6   copyright_holder  71821 non-null   object\n",
      " 7   license           74035 non-null   object\n",
      "dtypes: object(8)\n",
      "memory usage: 9.4+ MB\n"
     ]
    }
   ],
   "source": [
    "contents.info()"
   ]
  },
  {
   "cell_type": "code",
   "execution_count": 6,
   "id": "02ebb87f-6d5c-45e2-821c-a3258870ce8a",
   "metadata": {},
   "outputs": [
    {
     "name": "stdout",
     "output_type": "stream",
     "text": [
      "CPU times: user 114 ms, sys: 74 µs, total: 114 ms\n",
      "Wall time: 113 ms\n"
     ]
    }
   ],
   "source": [
    "%%time\n",
    "# count how many words in the title\n",
    "contents['no_of_words_in_title'] = contents['title'].apply(lambda x : len(str(x).split(' ')))\n",
    "contents['no_of_words_in_desc'] = contents['description'].apply(lambda x : len(str(x).split(' ')))"
   ]
  },
  {
   "cell_type": "code",
   "execution_count": 7,
   "id": "0f3b0235-63aa-4981-9f39-129ffaee978b",
   "metadata": {},
   "outputs": [
    {
     "data": {
      "text/html": [
       "<div>\n",
       "<style scoped>\n",
       "    .dataframe tbody tr th:only-of-type {\n",
       "        vertical-align: middle;\n",
       "    }\n",
       "\n",
       "    .dataframe tbody tr th {\n",
       "        vertical-align: top;\n",
       "    }\n",
       "\n",
       "    .dataframe thead th {\n",
       "        text-align: right;\n",
       "    }\n",
       "</style>\n",
       "<table border=\"1\" class=\"dataframe\">\n",
       "  <thead>\n",
       "    <tr style=\"text-align: right;\">\n",
       "      <th></th>\n",
       "      <th>count</th>\n",
       "      <th>mean</th>\n",
       "      <th>std</th>\n",
       "      <th>min</th>\n",
       "      <th>25%</th>\n",
       "      <th>50%</th>\n",
       "      <th>75%</th>\n",
       "      <th>max</th>\n",
       "    </tr>\n",
       "  </thead>\n",
       "  <tbody>\n",
       "    <tr>\n",
       "      <th>no_of_words_in_title</th>\n",
       "      <td>154047.0</td>\n",
       "      <td>5.068934</td>\n",
       "      <td>2.955799</td>\n",
       "      <td>1.0</td>\n",
       "      <td>3.0</td>\n",
       "      <td>5.0</td>\n",
       "      <td>7.0</td>\n",
       "      <td>46.0</td>\n",
       "    </tr>\n",
       "    <tr>\n",
       "      <th>no_of_words_in_desc</th>\n",
       "      <td>154047.0</td>\n",
       "      <td>11.103527</td>\n",
       "      <td>31.390216</td>\n",
       "      <td>1.0</td>\n",
       "      <td>1.0</td>\n",
       "      <td>1.0</td>\n",
       "      <td>13.0</td>\n",
       "      <td>1570.0</td>\n",
       "    </tr>\n",
       "  </tbody>\n",
       "</table>\n",
       "</div>"
      ],
      "text/plain": [
       "                         count       mean        std  min  25%  50%   75%  \\\n",
       "no_of_words_in_title  154047.0   5.068934   2.955799  1.0  3.0  5.0   7.0   \n",
       "no_of_words_in_desc   154047.0  11.103527  31.390216  1.0  1.0  1.0  13.0   \n",
       "\n",
       "                         max  \n",
       "no_of_words_in_title    46.0  \n",
       "no_of_words_in_desc   1570.0  "
      ]
     },
     "execution_count": 7,
     "metadata": {},
     "output_type": "execute_result"
    }
   ],
   "source": [
    "contents.describe().T"
   ]
  },
  {
   "cell_type": "markdown",
   "id": "0f7894c3-a441-489c-b1bd-4aef4482036f",
   "metadata": {},
   "source": [
    "### Content data highlevel statistic\n",
    "\n",
    "#### Factors\n",
    "- id is primary key and have no NA values, data integrity is guaranteed\n",
    "- title, 130937 unique value and only 9 NA values, integrity is good but need to handle NA values\n",
    "- description, almost half of the content don't have description, integrity is bad, low priority considered as a feature\n",
    "- kind no NA values, integerity is good and treat as a categorical feature\n",
    "- text, more than half of the content don't have text, integrity is bad, low priority considered as a feature\n",
    "- language, no NA values, integerity is good and treat as a categorical feature and can be used as a criteria for language model when calc embeddings\n",
    "- copyright_holder, can be ignored as mentioned above blank for all the test items\n",
    "- license, can be ignored as mentiond above blank for all the test items\n",
    "\n",
    "#### Other Factors\n",
    "- As expected description is much longer than title, average 6 words more than title, this could provide more semantic meaning\n",
    "- After counting words in the title and description, lots of stopping words in the title and description, better to clean it from title or use a robust language model to handle it"
   ]
  },
  {
   "cell_type": "code",
   "execution_count": 8,
   "id": "937f4b6e-7244-4821-bda9-db8db5b3b4a3",
   "metadata": {},
   "outputs": [
    {
     "name": "stdout",
     "output_type": "stream",
     "text": [
      "-------------------------------------------------------------------------------------------------------------------------------------\n",
      "Total have 154047 unique IDs, min ID is c_00002381196d, max ID is c_ffffe5254266\n",
      "-------------------------------------------------------------------------------------------------------------------------------------\n",
      "Total have 130937 unique titles and 9 contents don't have title and 23109 content have duplicate titles.\n",
      "Average contain 5.068934 words for each title, longest title contains 46 words\n",
      "-------------------------------------------------------------------------------------------------------------------------------------\n",
      "Total have 76305 unique descriptions and 64591 contents don't have description.\n",
      "Average contain 11.103527 words for each title, longest title contains 1570 words\n",
      "-------------------------------------------------------------------------------------------------------------------------------------\n",
      "Total have 5 unique kinds and kinds distribution -> {'video': 61487, 'document': 33873, 'html5': 32563, 'exercise': 25925, 'audio': 199}\n",
      "-------------------------------------------------------------------------------------------------------------------------------------\n",
      "Total have 70687 unique text and 80012 contents don't have text.\n",
      "-------------------------------------------------------------------------------------------------------------------------------------\n",
      "Total have 27 unique languages and language distribution -> {'en': 65939, 'es': 30844, 'fr': 10682, 'pt': 10435, 'ar': 7418, 'bg': 6050, 'hi': 4042, 'zh': 3849, 'gu': 3677, 'bn': 2513, 'sw': 1447, 'it': 1300, 'mr': 999, 'as': 641, 'fil': 516, 'km': 505, 'kn': 501, 'swa': 495, 'or': 326, 'pl': 319, 'te': 285, 'ur': 245, 'tr': 225, 'ta': 216, 'my': 206, 'ru': 188, 'pnb': 184}\n",
      "-------------------------------------------------------------------------------------------------------------------------------------\n",
      "CPU times: user 483 ms, sys: 0 ns, total: 483 ms\n",
      "Wall time: 482 ms\n"
     ]
    }
   ],
   "source": [
    "%%time\n",
    "# id\n",
    "print(\"-------------------------------------------------------------------------------------------------------------------------------------\")\n",
    "print(f\"Total have {contents.id.nunique()} unique IDs, min ID is {sorted(contents.id.values)[0]}, max ID is {sorted(contents.id.values)[-1]}\")\n",
    "print(\"-------------------------------------------------------------------------------------------------------------------------------------\")\n",
    "# title\n",
    "print(f\"Total have {contents.title.nunique()} unique titles and {contents.title.isna().sum()} contents don't have title and {contents.title.duplicated().sum()} content have duplicate titles.\")\n",
    "print(f\"Average contain {contents.no_of_words_in_title.mean():1f} words for each title, longest title contains {contents.no_of_words_in_title.max()} words\")\n",
    "print(\"-------------------------------------------------------------------------------------------------------------------------------------\")\n",
    "# descritpion\n",
    "print(f\"Total have {contents.description.nunique()} unique descriptions and {contents.description.isna().sum()} contents don't have description.\")\n",
    "print(f\"Average contain {contents.no_of_words_in_desc.mean():1f} words for each title, longest title contains {contents.no_of_words_in_desc.max()} words\")\n",
    "print(\"-------------------------------------------------------------------------------------------------------------------------------------\")\n",
    "# kind\n",
    "print(f\"Total have {contents.kind.nunique()} unique kinds and kinds distribution -> {contents.kind.value_counts().to_dict()}\")\n",
    "print(\"-------------------------------------------------------------------------------------------------------------------------------------\")\n",
    "# text\n",
    "print(f\"Total have {contents.text.nunique()} unique text and {contents.text.isna().sum()} contents don't have text.\")\n",
    "print(\"-------------------------------------------------------------------------------------------------------------------------------------\")\n",
    "# language\n",
    "print(f\"Total have {contents.language.nunique()} unique languages and language distribution -> {contents.language.value_counts().to_dict()}\")\n",
    "print(\"-------------------------------------------------------------------------------------------------------------------------------------\")"
   ]
  },
  {
   "cell_type": "code",
   "execution_count": 9,
   "id": "0664d7d3-7c46-4246-a10a-ef36db28b317",
   "metadata": {},
   "outputs": [
    {
     "name": "stdout",
     "output_type": "stream",
     "text": [
      "CPU times: user 441 ms, sys: 4.93 ms, total: 446 ms\n",
      "Wall time: 446 ms\n"
     ]
    }
   ],
   "source": [
    "%%time\n",
    "# count words in title and description\n",
    "content_title_word_count = Counter()\n",
    "content_desc_word_count = Counter()\n",
    "# loop and count\n",
    "for title, desc in zip(contents['title'].values, contents['description'].values):\n",
    "    for t in str(title).split(' '):\n",
    "        content_title_word_count[t] += 1\n",
    "    for d in str(desc).split(' '):\n",
    "        content_desc_word_count[d] += 1"
   ]
  },
  {
   "cell_type": "code",
   "execution_count": 10,
   "id": "3bf238fb-26de-4cc0-a023-5f28e42c91b9",
   "metadata": {},
   "outputs": [
    {
     "data": {
      "text/plain": [
       "[('de', 18325),\n",
       " ('of', 12208),\n",
       " ('and', 12203),\n",
       " ('-', 8532),\n",
       " ('', 8075),\n",
       " ('a', 6771),\n",
       " ('the', 5436),\n",
       " ('to', 4966),\n",
       " ('la', 4443),\n",
       " ('Chapter', 4368)]"
      ]
     },
     "execution_count": 10,
     "metadata": {},
     "output_type": "execute_result"
    }
   ],
   "source": [
    "content_title_word_count.most_common(10)"
   ]
  },
  {
   "cell_type": "code",
   "execution_count": 11,
   "id": "09cd0f57-a49b-4ce7-9520-b23d5071d8ea",
   "metadata": {},
   "outputs": [
    {
     "data": {
      "text/plain": [
       "[('nan', 64591),\n",
       " ('de', 43173),\n",
       " ('the', 31176),\n",
       " ('a', 29113),\n",
       " ('of', 22306),\n",
       " ('and', 18068),\n",
       " ('la', 17406),\n",
       " ('to', 16725),\n",
       " ('y', 12481),\n",
       " ('en', 11694)]"
      ]
     },
     "execution_count": 11,
     "metadata": {},
     "output_type": "execute_result"
    }
   ],
   "source": [
    "content_desc_word_count.most_common(10)"
   ]
  },
  {
   "cell_type": "code",
   "execution_count": 12,
   "id": "7ae70ee2-7804-44cb-bdf8-6e0d4b0aaa50",
   "metadata": {},
   "outputs": [
    {
     "data": {
      "text/html": [
       "<div>\n",
       "<style scoped>\n",
       "    .dataframe tbody tr th:only-of-type {\n",
       "        vertical-align: middle;\n",
       "    }\n",
       "\n",
       "    .dataframe tbody tr th {\n",
       "        vertical-align: top;\n",
       "    }\n",
       "\n",
       "    .dataframe thead th {\n",
       "        text-align: right;\n",
       "    }\n",
       "</style>\n",
       "<table border=\"1\" class=\"dataframe\">\n",
       "  <thead>\n",
       "    <tr style=\"text-align: right;\">\n",
       "      <th></th>\n",
       "      <th>id</th>\n",
       "      <th>title</th>\n",
       "      <th>description</th>\n",
       "      <th>kind</th>\n",
       "      <th>text</th>\n",
       "      <th>language</th>\n",
       "      <th>copyright_holder</th>\n",
       "      <th>license</th>\n",
       "      <th>no_of_words_in_title</th>\n",
       "      <th>no_of_words_in_desc</th>\n",
       "    </tr>\n",
       "  </thead>\n",
       "  <tbody>\n",
       "    <tr>\n",
       "      <th>77272</th>\n",
       "      <td>c_808cac1a0e4d</td>\n",
       "      <td>يحل معادلات على الصورة |أ س + ب|=ج أو |أ س+ب|=...</td>\n",
       "      <td>5ac627536b9064043d860d35</td>\n",
       "      <td>exercise</td>\n",
       "      <td>حل المعادلة | ٣ - س | = | ٢ س + ٦ |\\n\\n- { ١ ،...</td>\n",
       "      <td>ar</td>\n",
       "      <td>Edraak</td>\n",
       "      <td>CC BY-NC-SA</td>\n",
       "      <td>46</td>\n",
       "      <td>1</td>\n",
       "    </tr>\n",
       "  </tbody>\n",
       "</table>\n",
       "</div>"
      ],
      "text/plain": [
       "                   id                                              title  \\\n",
       "77272  c_808cac1a0e4d  يحل معادلات على الصورة |أ س + ب|=ج أو |أ س+ب|=...   \n",
       "\n",
       "                    description      kind  \\\n",
       "77272  5ac627536b9064043d860d35  exercise   \n",
       "\n",
       "                                                    text language  \\\n",
       "77272  حل المعادلة | ٣ - س | = | ٢ س + ٦ |\\n\\n- { ١ ،...       ar   \n",
       "\n",
       "      copyright_holder      license  no_of_words_in_title  no_of_words_in_desc  \n",
       "77272           Edraak  CC BY-NC-SA                    46                    1  "
      ]
     },
     "execution_count": 12,
     "metadata": {},
     "output_type": "execute_result"
    }
   ],
   "source": [
    "# longest title - Arabic\n",
    "contents[contents['no_of_words_in_title'] == contents['no_of_words_in_title'].max()]"
   ]
  },
  {
   "cell_type": "code",
   "execution_count": 13,
   "id": "9bc7c544-24ce-4bf5-9907-621cbb32bcf6",
   "metadata": {},
   "outputs": [
    {
     "data": {
      "text/html": [
       "<div>\n",
       "<style scoped>\n",
       "    .dataframe tbody tr th:only-of-type {\n",
       "        vertical-align: middle;\n",
       "    }\n",
       "\n",
       "    .dataframe tbody tr th {\n",
       "        vertical-align: top;\n",
       "    }\n",
       "\n",
       "    .dataframe thead th {\n",
       "        text-align: right;\n",
       "    }\n",
       "</style>\n",
       "<table border=\"1\" class=\"dataframe\">\n",
       "  <thead>\n",
       "    <tr style=\"text-align: right;\">\n",
       "      <th></th>\n",
       "      <th>id</th>\n",
       "      <th>title</th>\n",
       "      <th>description</th>\n",
       "      <th>kind</th>\n",
       "      <th>text</th>\n",
       "      <th>language</th>\n",
       "      <th>copyright_holder</th>\n",
       "      <th>license</th>\n",
       "      <th>no_of_words_in_title</th>\n",
       "      <th>no_of_words_in_desc</th>\n",
       "    </tr>\n",
       "  </thead>\n",
       "  <tbody>\n",
       "    <tr>\n",
       "      <th>66307</th>\n",
       "      <td>c_6e32ee292fff</td>\n",
       "      <td>Documento 1</td>\n",
       "      <td>¡Cuéntalo otra vez! Read-Aloud Anthology for E...</td>\n",
       "      <td>document</td>\n",
       "      <td>grade 1\\n\\nCore Knowledge Language Arts® • New...</td>\n",
       "      <td>es</td>\n",
       "      <td>Engage NY</td>\n",
       "      <td>CC BY-NC-SA</td>\n",
       "      <td>2</td>\n",
       "      <td>1570</td>\n",
       "    </tr>\n",
       "  </tbody>\n",
       "</table>\n",
       "</div>"
      ],
      "text/plain": [
       "                   id        title  \\\n",
       "66307  c_6e32ee292fff  Documento 1   \n",
       "\n",
       "                                             description      kind  \\\n",
       "66307  ¡Cuéntalo otra vez! Read-Aloud Anthology for E...  document   \n",
       "\n",
       "                                                    text language  \\\n",
       "66307  grade 1\\n\\nCore Knowledge Language Arts® • New...       es   \n",
       "\n",
       "      copyright_holder      license  no_of_words_in_title  no_of_words_in_desc  \n",
       "66307        Engage NY  CC BY-NC-SA                     2                 1570  "
      ]
     },
     "execution_count": 13,
     "metadata": {},
     "output_type": "execute_result"
    }
   ],
   "source": [
    "# longest desc - Spanish\n",
    "contents[contents['no_of_words_in_desc'] == contents['no_of_words_in_desc'].max()]"
   ]
  },
  {
   "cell_type": "markdown",
   "id": "7c27f0e7-d459-45cd-987e-aca008156625",
   "metadata": {},
   "source": [
    "## Topic\n",
    "Contains a row for each topic in the dataset. These topics are organized into \"channels\", with each channel containing a single \"topic tree\" (which can be traversed through the \"parent\" reference). Note that the hidden dataset used for scoring contains additional topics not in the public version. You should only submit predictions for those topics listed in sample_submission.csv.\n",
    "- id - A unique identifier for this topic.\n",
    "- title - Title text for this topic.\n",
    "- description - Description text (may be empty)\n",
    "- channel - The channel (that is, topic tree) this topic is part of.\n",
    "- category - Describes the origin of the topic.\n",
    "  - source - Structure was given by original content creator (e.g. the topic tree as imported from Khan Academy). There are no topics in the test set with this category.\n",
    "  - aligned - Structure is from a national curriculum or other target taxonomy, with content aligned from multiple sources.\n",
    "  - supplemental - This is a channel that has to some extent been aligned, but without the same level of granularity or fidelity as an aligned channel.\n",
    "- language - Language code for the topic. May not always match apparent language of its title or description, but will always match the language of any associated content items.\n",
    "- parent - The id of the topic that contains this topic, if any. This field if empty if the topic is the root node for its channel.\n",
    "- level - The depth of this topic within its topic tree. Level 0 means it is a root node (and hence its title is the title of the channel).\n",
    "- has_content - Whether there are content items correlated with this topic. Most content is correlated with leaf topics, but some non-leaf topics also have content correlations.\n",
    "\n",
    "#### Other Factors\n",
    "- As expected description is much longer than title, average 6 words more than title, this could provide more semantic meaning\n",
    "- After counting words in the title and description, lots of stopping words in the title and description, better to clean it from title or use a robust language model to handle it"
   ]
  },
  {
   "cell_type": "code",
   "execution_count": 43,
   "id": "5eeb2321-c2c9-48e4-9753-3051ed0d43ea",
   "metadata": {},
   "outputs": [
    {
     "data": {
      "text/html": [
       "<div>\n",
       "<style scoped>\n",
       "    .dataframe tbody tr th:only-of-type {\n",
       "        vertical-align: middle;\n",
       "    }\n",
       "\n",
       "    .dataframe tbody tr th {\n",
       "        vertical-align: top;\n",
       "    }\n",
       "\n",
       "    .dataframe thead th {\n",
       "        text-align: right;\n",
       "    }\n",
       "</style>\n",
       "<table border=\"1\" class=\"dataframe\">\n",
       "  <thead>\n",
       "    <tr style=\"text-align: right;\">\n",
       "      <th></th>\n",
       "      <th>id</th>\n",
       "      <th>title</th>\n",
       "      <th>description</th>\n",
       "      <th>channel</th>\n",
       "      <th>category</th>\n",
       "      <th>level</th>\n",
       "      <th>language</th>\n",
       "      <th>parent</th>\n",
       "      <th>has_content</th>\n",
       "    </tr>\n",
       "  </thead>\n",
       "  <tbody>\n",
       "    <tr>\n",
       "      <th>0</th>\n",
       "      <td>t_00004da3a1b2</td>\n",
       "      <td>Откриването на резисторите</td>\n",
       "      <td>Изследване на материали, които предизвикват на...</td>\n",
       "      <td>000cf7</td>\n",
       "      <td>source</td>\n",
       "      <td>4</td>\n",
       "      <td>bg</td>\n",
       "      <td>t_16e29365b50d</td>\n",
       "      <td>True</td>\n",
       "    </tr>\n",
       "    <tr>\n",
       "      <th>1</th>\n",
       "      <td>t_000095e03056</td>\n",
       "      <td>Unit 3.3 Enlargements and Similarities</td>\n",
       "      <td>NaN</td>\n",
       "      <td>b3f329</td>\n",
       "      <td>aligned</td>\n",
       "      <td>2</td>\n",
       "      <td>en</td>\n",
       "      <td>t_aa32fb6252dc</td>\n",
       "      <td>False</td>\n",
       "    </tr>\n",
       "    <tr>\n",
       "      <th>2</th>\n",
       "      <td>t_00068291e9a4</td>\n",
       "      <td>Entradas e saídas de uma função</td>\n",
       "      <td>Entenda um pouco mais sobre funções.</td>\n",
       "      <td>8e286a</td>\n",
       "      <td>source</td>\n",
       "      <td>4</td>\n",
       "      <td>pt</td>\n",
       "      <td>t_d14b6c2a2b70</td>\n",
       "      <td>True</td>\n",
       "    </tr>\n",
       "  </tbody>\n",
       "</table>\n",
       "</div>"
      ],
      "text/plain": [
       "               id                                   title  \\\n",
       "0  t_00004da3a1b2              Откриването на резисторите   \n",
       "1  t_000095e03056  Unit 3.3 Enlargements and Similarities   \n",
       "2  t_00068291e9a4         Entradas e saídas de uma função   \n",
       "\n",
       "                                         description channel category  level  \\\n",
       "0  Изследване на материали, които предизвикват на...  000cf7   source      4   \n",
       "1                                                NaN  b3f329  aligned      2   \n",
       "2               Entenda um pouco mais sobre funções.  8e286a   source      4   \n",
       "\n",
       "  language          parent  has_content  \n",
       "0       bg  t_16e29365b50d         True  \n",
       "1       en  t_aa32fb6252dc        False  \n",
       "2       pt  t_d14b6c2a2b70         True  "
      ]
     },
     "execution_count": 43,
     "metadata": {},
     "output_type": "execute_result"
    }
   ],
   "source": [
    "topics.head(3)"
   ]
  },
  {
   "cell_type": "code",
   "execution_count": 44,
   "id": "439051a0-7143-4ec1-b2d1-60b8730ace8a",
   "metadata": {},
   "outputs": [
    {
     "name": "stdout",
     "output_type": "stream",
     "text": [
      "<class 'pandas.core.frame.DataFrame'>\n",
      "RangeIndex: 76972 entries, 0 to 76971\n",
      "Data columns (total 9 columns):\n",
      " #   Column       Non-Null Count  Dtype \n",
      "---  ------       --------------  ----- \n",
      " 0   id           76972 non-null  object\n",
      " 1   title        76970 non-null  object\n",
      " 2   description  34953 non-null  object\n",
      " 3   channel      76972 non-null  object\n",
      " 4   category     76972 non-null  object\n",
      " 5   level        76972 non-null  int64 \n",
      " 6   language     76972 non-null  object\n",
      " 7   parent       76801 non-null  object\n",
      " 8   has_content  76972 non-null  bool  \n",
      "dtypes: bool(1), int64(1), object(7)\n",
      "memory usage: 4.8+ MB\n"
     ]
    }
   ],
   "source": [
    "topics.info()"
   ]
  },
  {
   "cell_type": "code",
   "execution_count": 45,
   "id": "109b331e-8102-4480-8133-c99a6d53d47e",
   "metadata": {},
   "outputs": [
    {
     "name": "stdout",
     "output_type": "stream",
     "text": [
      "CPU times: user 59.7 ms, sys: 0 ns, total: 59.7 ms\n",
      "Wall time: 59.5 ms\n"
     ]
    }
   ],
   "source": [
    "%%time\n",
    "# count how many words in the title and desc\n",
    "topics['no_of_words_in_title'] = topics['title'].apply(lambda x : len(str(x).split(' ')))\n",
    "topics['no_of_words_in_desc'] = topics['description'].apply(lambda x : len(str(x).split(' ')))"
   ]
  },
  {
   "cell_type": "code",
   "execution_count": 46,
   "id": "7895e172-a504-4b9a-a8f6-6330a637abc6",
   "metadata": {},
   "outputs": [
    {
     "data": {
      "text/html": [
       "<div>\n",
       "<style scoped>\n",
       "    .dataframe tbody tr th:only-of-type {\n",
       "        vertical-align: middle;\n",
       "    }\n",
       "\n",
       "    .dataframe tbody tr th {\n",
       "        vertical-align: top;\n",
       "    }\n",
       "\n",
       "    .dataframe thead th {\n",
       "        text-align: right;\n",
       "    }\n",
       "</style>\n",
       "<table border=\"1\" class=\"dataframe\">\n",
       "  <thead>\n",
       "    <tr style=\"text-align: right;\">\n",
       "      <th></th>\n",
       "      <th>count</th>\n",
       "      <th>mean</th>\n",
       "      <th>std</th>\n",
       "      <th>min</th>\n",
       "      <th>25%</th>\n",
       "      <th>50%</th>\n",
       "      <th>75%</th>\n",
       "      <th>max</th>\n",
       "    </tr>\n",
       "  </thead>\n",
       "  <tbody>\n",
       "    <tr>\n",
       "      <th>level</th>\n",
       "      <td>76972.0</td>\n",
       "      <td>3.963026</td>\n",
       "      <td>1.099633</td>\n",
       "      <td>0.0</td>\n",
       "      <td>3.0</td>\n",
       "      <td>4.0</td>\n",
       "      <td>4.0</td>\n",
       "      <td>10.0</td>\n",
       "    </tr>\n",
       "    <tr>\n",
       "      <th>no_of_words_in_title</th>\n",
       "      <td>76972.0</td>\n",
       "      <td>3.973029</td>\n",
       "      <td>2.615648</td>\n",
       "      <td>1.0</td>\n",
       "      <td>2.0</td>\n",
       "      <td>3.0</td>\n",
       "      <td>5.0</td>\n",
       "      <td>45.0</td>\n",
       "    </tr>\n",
       "    <tr>\n",
       "      <th>no_of_words_in_desc</th>\n",
       "      <td>76972.0</td>\n",
       "      <td>13.580445</td>\n",
       "      <td>29.598278</td>\n",
       "      <td>1.0</td>\n",
       "      <td>1.0</td>\n",
       "      <td>1.0</td>\n",
       "      <td>17.0</td>\n",
       "      <td>868.0</td>\n",
       "    </tr>\n",
       "  </tbody>\n",
       "</table>\n",
       "</div>"
      ],
      "text/plain": [
       "                        count       mean        std  min  25%  50%   75%  \\\n",
       "level                 76972.0   3.963026   1.099633  0.0  3.0  4.0   4.0   \n",
       "no_of_words_in_title  76972.0   3.973029   2.615648  1.0  2.0  3.0   5.0   \n",
       "no_of_words_in_desc   76972.0  13.580445  29.598278  1.0  1.0  1.0  17.0   \n",
       "\n",
       "                        max  \n",
       "level                  10.0  \n",
       "no_of_words_in_title   45.0  \n",
       "no_of_words_in_desc   868.0  "
      ]
     },
     "execution_count": 46,
     "metadata": {},
     "output_type": "execute_result"
    }
   ],
   "source": [
    "topics.describe().T"
   ]
  },
  {
   "cell_type": "markdown",
   "id": "59ff406d-4c47-43f8-9cdc-dadf420a73bd",
   "metadata": {},
   "source": [
    "### Topic data highlevel statistic\n",
    "\n",
    "#### Factors\n",
    "- id, primary key and have no NA values, data integrity is guaranteed\n",
    "- title, 45802 unique value and only 2 NA values, integrity is good but need to handle NA values\n",
    "- description, 2/3 don't have description, integrity is bad, low priority considered as a feature\n",
    "- channel, no NA values, integerity is good and treat as a categorical feature\n",
    "- level, on NA values, indicates which level current topic have, min level is 0 stands for parent node and max level is 10\n",
    "- category, no NA values, integerity is good and treat as a categorical feature\n",
    "- language, no NA values, integerity is good and treat as a categorical feature and can be used as a criteria for language model when calc embeddings\n",
    "- parent, 17152 unqiue values and 171 NA values -> same as no of unique channels and no of 0 level -> so this 171 topic maybe parent topic which it-self represent a chanel\n",
    "- has_content, over 4/5 topic has assiciate content, integrity is good"
   ]
  },
  {
   "cell_type": "code",
   "execution_count": 47,
   "id": "e4a07c6e-ecc3-45af-8384-860d9eb4e938",
   "metadata": {},
   "outputs": [
    {
     "name": "stdout",
     "output_type": "stream",
     "text": [
      "-------------------------------------------------------------------------------------------------------------------------------------\n",
      "Total have 76972 unique IDs, min ID is t_00004da3a1b2, max ID is t_fffe88835149\n",
      "-------------------------------------------------------------------------------------------------------------------------------------\n",
      "Total have 45082 unique titles and 2 topics don't have title and 31889 topics have duplicate titles.\n",
      "-------------------------------------------------------------------------------------------------------------------------------------\n",
      "Total have 23067 unique descriptions and 42019 topics don't have description.\n",
      "-------------------------------------------------------------------------------------------------------------------------------------\n",
      "Total have 171 unique channel and channel distribution -> {'fef095': 5770, '0ec697': 5355, '6e90a7': 4554, '2ee29d': 4438, '36a98b': 3667, '000cf7': 2867, '8e286a': 2780, '0c929f': 2698, 'c152d6': 2555, 'ef2088': 1684, '410920': 1668, '4662df': 1549, '5139e9': 1402, 'e6bdbc': 1392, '274269': 1307, '217993': 1261, '88c9d6': 1162, 'ebc86c': 1106, '9fd860': 870, '60b280': 866, '14d190': 803, '7b47c5': 774, '5aa8ba': 650, '344113': 645, 'c7ca13': 645, '7f116c': 630, '5223e0': 608, '1fb613': 603, '760ea6': 592, '42e8ef': 560, 'd2ac0e': 541, 'f83dcf': 540, '6e3ba4': 510, '8bbad6': 492, 'f9b74f': 477, 'e77b55': 472, '54971d': 470, '39979b': 467, '998df9': 451, 'b4897d': 445, 'fc9105': 439, 'bfc678': 426, '4d2d4a': 415, '65c955': 407, '383b8a': 406, '50fe84': 402, 'ef93f0': 371, '73843d': 362, 'cf94d5': 344, 'c6dab5': 328, '484bd2': 324, '14cb7f': 310, '653433': 306, 'd5fb04': 305, 'a13d2e': 289, '05be9f': 278, '1cc2ee': 261, 'da1fa7': 260, 'd4eeb3': 259, 'ffbd13': 254, '0d3492': 253, 'c88ff6': 247, '50083f': 243, '6b09a4': 230, '2293a4': 223, '36068f': 223, '00a2b4': 215, '06fb18': 202, 'f65044': 172, '01dbc1': 171, '5c4c46': 162, '4b0f81': 161, 'e7a498': 159, '49ea7a': 159, '57e9d3': 157, '7385f9': 157, '0f546a': 151, '0a9df7': 148, '735876': 147, '8afc0b': 147, '11171c': 144, '494cf2': 143, '179e73': 142, 'd5963f': 141, 'bae253': 138, '686d66': 136, 'c1d57e': 136, '23f9e1': 135, 'd30518': 135, '71fd51': 134, 'b3f329': 134, 'bff3ab': 131, '2765c6': 130, 'abd7dc': 129, '9d5527': 127, 'c36745': 126, '255459': 121, '956596': 117, '02be07': 115, '5d4a02': 111, '7db7f2': 103, '00fda4': 99, '018d08': 99, '998b74': 98, '03de11': 96, 'bbce73': 91, 'fc1d48': 90, 'c8450a': 84, '75fbe2': 80, '239d8f': 80, '1843c5': 79, '8b5488': 78, 'cfc6dd': 76, 'ca3996': 73, '51bdd1': 67, 'f08256': 67, 'd4c17c': 64, 'fc72b4': 64, 'b03884': 64, '983e56': 64, '03f103': 63, '38a3e2': 62, '11e9e0': 62, '8299ce': 62, 'f2e966': 62, '32e583': 61, '0ea5f3': 61, 'f27bd5': 61, '27d43f': 61, '8260fc': 60, 'b14cf2': 58, 'bda367': 57, '1dfd91': 54, 'cd1388': 54, '4a1401': 53, '64cbe8': 51, 'b632e3': 50, '1b97a4': 50, '064c49': 50, 'c3dc85': 50, '858f89': 49, '9202e6': 49, 'f9db19': 48, 'bb3a0c': 45, 'a2924d': 44, 'a4d43c': 43, '26f53a': 40, '9905b7': 38, 'bae778': 36, 'f41d17': 35, '5de4e5': 35, '28ffa8': 34, '231e82': 32, '4689b3': 29, '01133c': 28, '6465e0': 26, 'b1e277': 26, 'a91e32': 22, 'ed5f98': 20, 'edb272': 20, 'cc360a': 18, '16c07b': 16, 'f2acc1': 13, '9dd9a7': 9, 'bfdae0': 7, '9a51b0': 6, 'af86ca': 6, '5a410f': 6, '5864bf': 6, '8ca895': 3, '8dd5f3': 1}\n",
      "-------------------------------------------------------------------------------------------------------------------------------------\n",
      "Total have 11 unique level and level distribution -> {4: 38810, 3: 14898, 5: 9744, 6: 6210, 2: 4874, 1: 1104, 7: 1028, 0: 171, 8: 119, 9: 12, 10: 2}\n",
      "-------------------------------------------------------------------------------------------------------------------------------------\n",
      "Total have 3 unique category and category distribution -> {'source': 43487, 'supplemental': 19368, 'aligned': 14117}\n",
      "-------------------------------------------------------------------------------------------------------------------------------------\n",
      "Total have 28 unique languages and language distribution -> {'en': 36161, 'es': 13910, 'pt': 4177, 'ar': 3701, 'fr': 3701, 'bg': 2867, 'sw': 2860, 'gu': 2320, 'bn': 2176, 'hi': 1786, 'it': 866, 'zh': 862, 'mr': 300, 'fil': 247, 'as': 167, 'my': 135, 'km': 121, 'kn': 119, 'te': 93, 'or': 70, 'ur': 66, 'ta': 60, 'pnb': 51, 'pl': 43, 'tr': 40, 'swa': 35, 'ru': 34, 'mul': 4}\n",
      "-------------------------------------------------------------------------------------------------------------------------------------\n",
      "Total have 17512 unique parent and 171 topics don't have parent and 59459 topics have duplicate parent.\n",
      "-------------------------------------------------------------------------------------------------------------------------------------\n",
      "Total have 2 unique has_content and has_content distribution -> {True: 61517, False: 15455}\n",
      "-------------------------------------------------------------------------------------------------------------------------------------\n",
      "CPU times: user 36.7 ms, sys: 62 µs, total: 36.8 ms\n",
      "Wall time: 36.1 ms\n"
     ]
    }
   ],
   "source": [
    "%%time\n",
    "# id\n",
    "print(\"-------------------------------------------------------------------------------------------------------------------------------------\")\n",
    "print(f\"Total have {topics.id.nunique()} unique IDs, min ID is {sorted(topics.id.values)[0]}, max ID is {sorted(topics.id.values)[-1]}\")\n",
    "print(\"-------------------------------------------------------------------------------------------------------------------------------------\")\n",
    "# title\n",
    "print(f\"Total have {topics.title.nunique()} unique titles and {topics.title.isna().sum()} topics don't have title and {topics.title.duplicated().sum()} topics have duplicate titles.\")\n",
    "print(\"-------------------------------------------------------------------------------------------------------------------------------------\")\n",
    "# descritpion\n",
    "print(f\"Total have {topics.description.nunique()} unique descriptions and {topics.description.isna().sum()} topics don't have description.\")\n",
    "print(\"-------------------------------------------------------------------------------------------------------------------------------------\")\n",
    "# channel\n",
    "print(f\"Total have {topics.channel.nunique()} unique channel and channel distribution -> {topics.channel.value_counts().to_dict()}\")\n",
    "print(\"-------------------------------------------------------------------------------------------------------------------------------------\")\n",
    "# level\n",
    "print(f\"Total have {topics.level.nunique()} unique level and level distribution -> {topics.level.value_counts().to_dict()}\")\n",
    "print(\"-------------------------------------------------------------------------------------------------------------------------------------\")\n",
    "# category\n",
    "print(f\"Total have {topics.category.nunique()} unique category and category distribution -> {topics.category.value_counts().to_dict()}\")\n",
    "print(\"-------------------------------------------------------------------------------------------------------------------------------------\")\n",
    "# language\n",
    "print(f\"Total have {topics.language.nunique()} unique languages and language distribution -> {topics.language.value_counts().to_dict()}\")\n",
    "print(\"-------------------------------------------------------------------------------------------------------------------------------------\")\n",
    "# parent\n",
    "print(f\"Total have {topics.parent.nunique()} unique parent and {topics.parent.isna().sum()} topics don't have parent and {topics.parent.duplicated().sum()} topics have duplicate parent.\")\n",
    "print(\"-------------------------------------------------------------------------------------------------------------------------------------\")\n",
    "# has content\n",
    "print(f\"Total have {topics.has_content.nunique()} unique has_content and has_content distribution -> {topics.has_content.value_counts().to_dict()}\")\n",
    "print(\"-------------------------------------------------------------------------------------------------------------------------------------\")"
   ]
  },
  {
   "cell_type": "code",
   "execution_count": 48,
   "id": "12dcc143-6499-4cc0-999f-7cf8589eee6a",
   "metadata": {},
   "outputs": [
    {
     "name": "stdout",
     "output_type": "stream",
     "text": [
      "CPU times: user 210 ms, sys: 0 ns, total: 210 ms\n",
      "Wall time: 210 ms\n"
     ]
    }
   ],
   "source": [
    "%%time\n",
    "# count words in title and description\n",
    "topics_title_word_count = Counter()\n",
    "topics_desc_word_count = Counter()\n",
    "# loop and count\n",
    "for title, desc in zip(topics['title'].values, topics['description'].values):\n",
    "    for t in str(title).split(' '):\n",
    "        topics_title_word_count[t] += 1\n",
    "    for d in str(desc).split(' '):\n",
    "        topics_desc_word_count[d] += 1"
   ]
  },
  {
   "cell_type": "code",
   "execution_count": 51,
   "id": "f89b2a75-9b3a-45b1-aa29-6549f1d2a7fc",
   "metadata": {},
   "outputs": [
    {
     "data": {
      "text/plain": [
       "[('and', 8453),\n",
       " ('of', 6954),\n",
       " ('de', 5366),\n",
       " ('Lección', 4383),\n",
       " ('y', 2328),\n",
       " ('to', 2249),\n",
       " ('the', 2230),\n",
       " ('-', 1935),\n",
       " ('a', 1883),\n",
       " ('', 1835)]"
      ]
     },
     "execution_count": 51,
     "metadata": {},
     "output_type": "execute_result"
    }
   ],
   "source": [
    "topics_title_word_count.most_common(10)"
   ]
  },
  {
   "cell_type": "code",
   "execution_count": 52,
   "id": "6002b70f-9013-48b1-92fe-8f05f5d16d0c",
   "metadata": {},
   "outputs": [
    {
     "data": {
      "text/plain": [
       "[('nan', 42019),\n",
       " ('de', 25917),\n",
       " ('the', 18701),\n",
       " ('and', 16491),\n",
       " ('a', 16220),\n",
       " ('of', 14194),\n",
       " ('to', 13077),\n",
       " ('la', 10221),\n",
       " ('', 9996),\n",
       " ('y', 9563)]"
      ]
     },
     "execution_count": 52,
     "metadata": {},
     "output_type": "execute_result"
    }
   ],
   "source": [
    "topics_desc_word_count.most_common(10)"
   ]
  },
  {
   "cell_type": "markdown",
   "id": "a9f13e06-2421-456d-a145-712380e4796a",
   "metadata": {},
   "source": [
    "### Explore channels\n",
    "- Most common words under a channel regarding titles and content\n"
   ]
  },
  {
   "cell_type": "code",
   "execution_count": 115,
   "id": "f03a4b49-4c81-4e58-9f67-df8dfaca0998",
   "metadata": {},
   "outputs": [],
   "source": [
    "comment_words = ''\n",
    "stopwords = set(STOPWORDS)\n",
    "\n",
    "def plot_word_cloud(words):\n",
    "    # create wordcloud\n",
    "    wordcloud = WordCloud(width=200, height=200, background_color='white', stopwords = stopwords, min_font_size=10).generate(\" \".join(words))\n",
    "    plt.figure(figsize = (2, 2), facecolor = None)\n",
    "    plt.imshow(wordcloud)\n",
    "    plt.axis(\"off\")\n",
    "    plt.title('1')\n",
    "    plt.tight_layout(pad = 0)\n",
    "    plt.show()\n"
   ]
  },
  {
   "cell_type": "code",
   "execution_count": 123,
   "id": "bda954cd-ae3f-4070-8138-849a2e5324e8",
   "metadata": {
    "tags": []
   },
   "outputs": [
    {
     "ename": "ValueError",
     "evalue": "(0.0, 1.0, 0.0, 1.0) is not a valid value for cmap; supported values are 'Accent', 'Accent_r', 'Blues', 'Blues_r', 'BrBG', 'BrBG_r', 'BuGn', 'BuGn_r', 'BuPu', 'BuPu_r', 'CMRmap', 'CMRmap_r', 'Dark2', 'Dark2_r', 'GnBu', 'GnBu_r', 'Greens', 'Greens_r', 'Greys', 'Greys_r', 'OrRd', 'OrRd_r', 'Oranges', 'Oranges_r', 'PRGn', 'PRGn_r', 'Paired', 'Paired_r', 'Pastel1', 'Pastel1_r', 'Pastel2', 'Pastel2_r', 'PiYG', 'PiYG_r', 'PuBu', 'PuBuGn', 'PuBuGn_r', 'PuBu_r', 'PuOr', 'PuOr_r', 'PuRd', 'PuRd_r', 'Purples', 'Purples_r', 'RdBu', 'RdBu_r', 'RdGy', 'RdGy_r', 'RdPu', 'RdPu_r', 'RdYlBu', 'RdYlBu_r', 'RdYlGn', 'RdYlGn_r', 'Reds', 'Reds_r', 'Set1', 'Set1_r', 'Set2', 'Set2_r', 'Set3', 'Set3_r', 'Spectral', 'Spectral_r', 'Wistia', 'Wistia_r', 'YlGn', 'YlGnBu', 'YlGnBu_r', 'YlGn_r', 'YlOrBr', 'YlOrBr_r', 'YlOrRd', 'YlOrRd_r', 'afmhot', 'afmhot_r', 'autumn', 'autumn_r', 'binary', 'binary_r', 'bone', 'bone_r', 'brg', 'brg_r', 'bwr', 'bwr_r', 'cividis', 'cividis_r', 'cool', 'cool_r', 'coolwarm', 'coolwarm_r', 'copper', 'copper_r', 'cubehelix', 'cubehelix_r', 'flag', 'flag_r', 'gist_earth', 'gist_earth_r', 'gist_gray', 'gist_gray_r', 'gist_heat', 'gist_heat_r', 'gist_ncar', 'gist_ncar_r', 'gist_rainbow', 'gist_rainbow_r', 'gist_stern', 'gist_stern_r', 'gist_yarg', 'gist_yarg_r', 'gnuplot', 'gnuplot2', 'gnuplot2_r', 'gnuplot_r', 'gray', 'gray_r', 'hot', 'hot_r', 'hsv', 'hsv_r', 'inferno', 'inferno_r', 'jet', 'jet_r', 'magma', 'magma_r', 'nipy_spectral', 'nipy_spectral_r', 'ocean', 'ocean_r', 'pink', 'pink_r', 'plasma', 'plasma_r', 'prism', 'prism_r', 'rainbow', 'rainbow_r', 'seismic', 'seismic_r', 'spring', 'spring_r', 'summer', 'summer_r', 'tab10', 'tab10_r', 'tab20', 'tab20_r', 'tab20b', 'tab20b_r', 'tab20c', 'tab20c_r', 'terrain', 'terrain_r', 'turbo', 'turbo_r', 'twilight', 'twilight_r', 'twilight_shifted', 'twilight_shifted_r', 'viridis', 'viridis_r', 'winter', 'winter_r'",
     "output_type": "error",
     "traceback": [
      "\u001b[0;31m---------------------------------------------------------------------------\u001b[0m",
      "\u001b[0;31mValueError\u001b[0m                                Traceback (most recent call last)",
      "File \u001b[0;32m<timed exec>:19\u001b[0m\n",
      "File \u001b[0;32m/mnt/disk1/kaggle-env/lib/python3.9/site-packages/matplotlib/_api/deprecation.py:454\u001b[0m, in \u001b[0;36mmake_keyword_only.<locals>.wrapper\u001b[0;34m(*args, **kwargs)\u001b[0m\n\u001b[1;32m    448\u001b[0m \u001b[38;5;28;01mif\u001b[39;00m \u001b[38;5;28mlen\u001b[39m(args) \u001b[38;5;241m>\u001b[39m name_idx:\n\u001b[1;32m    449\u001b[0m     warn_deprecated(\n\u001b[1;32m    450\u001b[0m         since, message\u001b[38;5;241m=\u001b[39m\u001b[38;5;124m\"\u001b[39m\u001b[38;5;124mPassing the \u001b[39m\u001b[38;5;132;01m%(name)s\u001b[39;00m\u001b[38;5;124m \u001b[39m\u001b[38;5;132;01m%(obj_type)s\u001b[39;00m\u001b[38;5;124m \u001b[39m\u001b[38;5;124m\"\u001b[39m\n\u001b[1;32m    451\u001b[0m         \u001b[38;5;124m\"\u001b[39m\u001b[38;5;124mpositionally is deprecated since Matplotlib \u001b[39m\u001b[38;5;132;01m%(since)s\u001b[39;00m\u001b[38;5;124m; the \u001b[39m\u001b[38;5;124m\"\u001b[39m\n\u001b[1;32m    452\u001b[0m         \u001b[38;5;124m\"\u001b[39m\u001b[38;5;124mparameter will become keyword-only \u001b[39m\u001b[38;5;132;01m%(removal)s\u001b[39;00m\u001b[38;5;124m.\u001b[39m\u001b[38;5;124m\"\u001b[39m,\n\u001b[1;32m    453\u001b[0m         name\u001b[38;5;241m=\u001b[39mname, obj_type\u001b[38;5;241m=\u001b[39m\u001b[38;5;124mf\u001b[39m\u001b[38;5;124m\"\u001b[39m\u001b[38;5;124mparameter of \u001b[39m\u001b[38;5;132;01m{\u001b[39;00mfunc\u001b[38;5;241m.\u001b[39m\u001b[38;5;18m__name__\u001b[39m\u001b[38;5;132;01m}\u001b[39;00m\u001b[38;5;124m()\u001b[39m\u001b[38;5;124m\"\u001b[39m)\n\u001b[0;32m--> 454\u001b[0m \u001b[38;5;28;01mreturn\u001b[39;00m \u001b[43mfunc\u001b[49m\u001b[43m(\u001b[49m\u001b[38;5;241;43m*\u001b[39;49m\u001b[43margs\u001b[49m\u001b[43m,\u001b[49m\u001b[43m \u001b[49m\u001b[38;5;241;43m*\u001b[39;49m\u001b[38;5;241;43m*\u001b[39;49m\u001b[43mkwargs\u001b[49m\u001b[43m)\u001b[49m\n",
      "File \u001b[0;32m/mnt/disk1/kaggle-env/lib/python3.9/site-packages/matplotlib/pyplot.py:2631\u001b[0m, in \u001b[0;36mimshow\u001b[0;34m(X, cmap, norm, aspect, interpolation, alpha, vmin, vmax, origin, extent, interpolation_stage, filternorm, filterrad, resample, url, data, **kwargs)\u001b[0m\n\u001b[1;32m   2625\u001b[0m \u001b[38;5;129m@_copy_docstring_and_deprecators\u001b[39m(Axes\u001b[38;5;241m.\u001b[39mimshow)\n\u001b[1;32m   2626\u001b[0m \u001b[38;5;28;01mdef\u001b[39;00m \u001b[38;5;21mimshow\u001b[39m(\n\u001b[1;32m   2627\u001b[0m         X, cmap\u001b[38;5;241m=\u001b[39m\u001b[38;5;28;01mNone\u001b[39;00m, norm\u001b[38;5;241m=\u001b[39m\u001b[38;5;28;01mNone\u001b[39;00m, aspect\u001b[38;5;241m=\u001b[39m\u001b[38;5;28;01mNone\u001b[39;00m, interpolation\u001b[38;5;241m=\u001b[39m\u001b[38;5;28;01mNone\u001b[39;00m,\n\u001b[1;32m   2628\u001b[0m         alpha\u001b[38;5;241m=\u001b[39m\u001b[38;5;28;01mNone\u001b[39;00m, vmin\u001b[38;5;241m=\u001b[39m\u001b[38;5;28;01mNone\u001b[39;00m, vmax\u001b[38;5;241m=\u001b[39m\u001b[38;5;28;01mNone\u001b[39;00m, origin\u001b[38;5;241m=\u001b[39m\u001b[38;5;28;01mNone\u001b[39;00m, extent\u001b[38;5;241m=\u001b[39m\u001b[38;5;28;01mNone\u001b[39;00m, \u001b[38;5;241m*\u001b[39m,\n\u001b[1;32m   2629\u001b[0m         interpolation_stage\u001b[38;5;241m=\u001b[39m\u001b[38;5;28;01mNone\u001b[39;00m, filternorm\u001b[38;5;241m=\u001b[39m\u001b[38;5;28;01mTrue\u001b[39;00m, filterrad\u001b[38;5;241m=\u001b[39m\u001b[38;5;241m4.0\u001b[39m,\n\u001b[1;32m   2630\u001b[0m         resample\u001b[38;5;241m=\u001b[39m\u001b[38;5;28;01mNone\u001b[39;00m, url\u001b[38;5;241m=\u001b[39m\u001b[38;5;28;01mNone\u001b[39;00m, data\u001b[38;5;241m=\u001b[39m\u001b[38;5;28;01mNone\u001b[39;00m, \u001b[38;5;241m*\u001b[39m\u001b[38;5;241m*\u001b[39mkwargs):\n\u001b[0;32m-> 2631\u001b[0m     __ret \u001b[38;5;241m=\u001b[39m \u001b[43mgca\u001b[49m\u001b[43m(\u001b[49m\u001b[43m)\u001b[49m\u001b[38;5;241;43m.\u001b[39;49m\u001b[43mimshow\u001b[49m\u001b[43m(\u001b[49m\n\u001b[1;32m   2632\u001b[0m \u001b[43m        \u001b[49m\u001b[43mX\u001b[49m\u001b[43m,\u001b[49m\u001b[43m \u001b[49m\u001b[43mcmap\u001b[49m\u001b[38;5;241;43m=\u001b[39;49m\u001b[43mcmap\u001b[49m\u001b[43m,\u001b[49m\u001b[43m \u001b[49m\u001b[43mnorm\u001b[49m\u001b[38;5;241;43m=\u001b[39;49m\u001b[43mnorm\u001b[49m\u001b[43m,\u001b[49m\u001b[43m \u001b[49m\u001b[43maspect\u001b[49m\u001b[38;5;241;43m=\u001b[39;49m\u001b[43maspect\u001b[49m\u001b[43m,\u001b[49m\n\u001b[1;32m   2633\u001b[0m \u001b[43m        \u001b[49m\u001b[43minterpolation\u001b[49m\u001b[38;5;241;43m=\u001b[39;49m\u001b[43minterpolation\u001b[49m\u001b[43m,\u001b[49m\u001b[43m \u001b[49m\u001b[43malpha\u001b[49m\u001b[38;5;241;43m=\u001b[39;49m\u001b[43malpha\u001b[49m\u001b[43m,\u001b[49m\u001b[43m \u001b[49m\u001b[43mvmin\u001b[49m\u001b[38;5;241;43m=\u001b[39;49m\u001b[43mvmin\u001b[49m\u001b[43m,\u001b[49m\n\u001b[1;32m   2634\u001b[0m \u001b[43m        \u001b[49m\u001b[43mvmax\u001b[49m\u001b[38;5;241;43m=\u001b[39;49m\u001b[43mvmax\u001b[49m\u001b[43m,\u001b[49m\u001b[43m \u001b[49m\u001b[43morigin\u001b[49m\u001b[38;5;241;43m=\u001b[39;49m\u001b[43morigin\u001b[49m\u001b[43m,\u001b[49m\u001b[43m \u001b[49m\u001b[43mextent\u001b[49m\u001b[38;5;241;43m=\u001b[39;49m\u001b[43mextent\u001b[49m\u001b[43m,\u001b[49m\n\u001b[1;32m   2635\u001b[0m \u001b[43m        \u001b[49m\u001b[43minterpolation_stage\u001b[49m\u001b[38;5;241;43m=\u001b[39;49m\u001b[43minterpolation_stage\u001b[49m\u001b[43m,\u001b[49m\n\u001b[1;32m   2636\u001b[0m \u001b[43m        \u001b[49m\u001b[43mfilternorm\u001b[49m\u001b[38;5;241;43m=\u001b[39;49m\u001b[43mfilternorm\u001b[49m\u001b[43m,\u001b[49m\u001b[43m \u001b[49m\u001b[43mfilterrad\u001b[49m\u001b[38;5;241;43m=\u001b[39;49m\u001b[43mfilterrad\u001b[49m\u001b[43m,\u001b[49m\u001b[43m \u001b[49m\u001b[43mresample\u001b[49m\u001b[38;5;241;43m=\u001b[39;49m\u001b[43mresample\u001b[49m\u001b[43m,\u001b[49m\n\u001b[1;32m   2637\u001b[0m \u001b[43m        \u001b[49m\u001b[43murl\u001b[49m\u001b[38;5;241;43m=\u001b[39;49m\u001b[43murl\u001b[49m\u001b[43m,\u001b[49m\u001b[43m \u001b[49m\u001b[38;5;241;43m*\u001b[39;49m\u001b[38;5;241;43m*\u001b[39;49m\u001b[43m(\u001b[49m\u001b[43m{\u001b[49m\u001b[38;5;124;43m\"\u001b[39;49m\u001b[38;5;124;43mdata\u001b[39;49m\u001b[38;5;124;43m\"\u001b[39;49m\u001b[43m:\u001b[49m\u001b[43m \u001b[49m\u001b[43mdata\u001b[49m\u001b[43m}\u001b[49m\u001b[43m \u001b[49m\u001b[38;5;28;43;01mif\u001b[39;49;00m\u001b[43m \u001b[49m\u001b[43mdata\u001b[49m\u001b[43m \u001b[49m\u001b[38;5;129;43;01mis\u001b[39;49;00m\u001b[43m \u001b[49m\u001b[38;5;129;43;01mnot\u001b[39;49;00m\u001b[43m \u001b[49m\u001b[38;5;28;43;01mNone\u001b[39;49;00m\u001b[43m \u001b[49m\u001b[38;5;28;43;01melse\u001b[39;49;00m\u001b[43m \u001b[49m\u001b[43m{\u001b[49m\u001b[43m}\u001b[49m\u001b[43m)\u001b[49m\u001b[43m,\u001b[49m\n\u001b[1;32m   2638\u001b[0m \u001b[43m        \u001b[49m\u001b[38;5;241;43m*\u001b[39;49m\u001b[38;5;241;43m*\u001b[39;49m\u001b[43mkwargs\u001b[49m\u001b[43m)\u001b[49m\n\u001b[1;32m   2639\u001b[0m     sci(__ret)\n\u001b[1;32m   2640\u001b[0m     \u001b[38;5;28;01mreturn\u001b[39;00m __ret\n",
      "File \u001b[0;32m/mnt/disk1/kaggle-env/lib/python3.9/site-packages/matplotlib/_api/deprecation.py:454\u001b[0m, in \u001b[0;36mmake_keyword_only.<locals>.wrapper\u001b[0;34m(*args, **kwargs)\u001b[0m\n\u001b[1;32m    448\u001b[0m \u001b[38;5;28;01mif\u001b[39;00m \u001b[38;5;28mlen\u001b[39m(args) \u001b[38;5;241m>\u001b[39m name_idx:\n\u001b[1;32m    449\u001b[0m     warn_deprecated(\n\u001b[1;32m    450\u001b[0m         since, message\u001b[38;5;241m=\u001b[39m\u001b[38;5;124m\"\u001b[39m\u001b[38;5;124mPassing the \u001b[39m\u001b[38;5;132;01m%(name)s\u001b[39;00m\u001b[38;5;124m \u001b[39m\u001b[38;5;132;01m%(obj_type)s\u001b[39;00m\u001b[38;5;124m \u001b[39m\u001b[38;5;124m\"\u001b[39m\n\u001b[1;32m    451\u001b[0m         \u001b[38;5;124m\"\u001b[39m\u001b[38;5;124mpositionally is deprecated since Matplotlib \u001b[39m\u001b[38;5;132;01m%(since)s\u001b[39;00m\u001b[38;5;124m; the \u001b[39m\u001b[38;5;124m\"\u001b[39m\n\u001b[1;32m    452\u001b[0m         \u001b[38;5;124m\"\u001b[39m\u001b[38;5;124mparameter will become keyword-only \u001b[39m\u001b[38;5;132;01m%(removal)s\u001b[39;00m\u001b[38;5;124m.\u001b[39m\u001b[38;5;124m\"\u001b[39m,\n\u001b[1;32m    453\u001b[0m         name\u001b[38;5;241m=\u001b[39mname, obj_type\u001b[38;5;241m=\u001b[39m\u001b[38;5;124mf\u001b[39m\u001b[38;5;124m\"\u001b[39m\u001b[38;5;124mparameter of \u001b[39m\u001b[38;5;132;01m{\u001b[39;00mfunc\u001b[38;5;241m.\u001b[39m\u001b[38;5;18m__name__\u001b[39m\u001b[38;5;132;01m}\u001b[39;00m\u001b[38;5;124m()\u001b[39m\u001b[38;5;124m\"\u001b[39m)\n\u001b[0;32m--> 454\u001b[0m \u001b[38;5;28;01mreturn\u001b[39;00m \u001b[43mfunc\u001b[49m\u001b[43m(\u001b[49m\u001b[38;5;241;43m*\u001b[39;49m\u001b[43margs\u001b[49m\u001b[43m,\u001b[49m\u001b[43m \u001b[49m\u001b[38;5;241;43m*\u001b[39;49m\u001b[38;5;241;43m*\u001b[39;49m\u001b[43mkwargs\u001b[49m\u001b[43m)\u001b[49m\n",
      "File \u001b[0;32m/mnt/disk1/kaggle-env/lib/python3.9/site-packages/matplotlib/__init__.py:1433\u001b[0m, in \u001b[0;36m_preprocess_data.<locals>.inner\u001b[0;34m(ax, data, *args, **kwargs)\u001b[0m\n\u001b[1;32m   1430\u001b[0m \u001b[38;5;129m@functools\u001b[39m\u001b[38;5;241m.\u001b[39mwraps(func)\n\u001b[1;32m   1431\u001b[0m \u001b[38;5;28;01mdef\u001b[39;00m \u001b[38;5;21minner\u001b[39m(ax, \u001b[38;5;241m*\u001b[39margs, data\u001b[38;5;241m=\u001b[39m\u001b[38;5;28;01mNone\u001b[39;00m, \u001b[38;5;241m*\u001b[39m\u001b[38;5;241m*\u001b[39mkwargs):\n\u001b[1;32m   1432\u001b[0m     \u001b[38;5;28;01mif\u001b[39;00m data \u001b[38;5;129;01mis\u001b[39;00m \u001b[38;5;28;01mNone\u001b[39;00m:\n\u001b[0;32m-> 1433\u001b[0m         \u001b[38;5;28;01mreturn\u001b[39;00m \u001b[43mfunc\u001b[49m\u001b[43m(\u001b[49m\u001b[43max\u001b[49m\u001b[43m,\u001b[49m\u001b[43m \u001b[49m\u001b[38;5;241;43m*\u001b[39;49m\u001b[38;5;28;43mmap\u001b[39;49m\u001b[43m(\u001b[49m\u001b[43msanitize_sequence\u001b[49m\u001b[43m,\u001b[49m\u001b[43m \u001b[49m\u001b[43margs\u001b[49m\u001b[43m)\u001b[49m\u001b[43m,\u001b[49m\u001b[43m \u001b[49m\u001b[38;5;241;43m*\u001b[39;49m\u001b[38;5;241;43m*\u001b[39;49m\u001b[43mkwargs\u001b[49m\u001b[43m)\u001b[49m\n\u001b[1;32m   1435\u001b[0m     bound \u001b[38;5;241m=\u001b[39m new_sig\u001b[38;5;241m.\u001b[39mbind(ax, \u001b[38;5;241m*\u001b[39margs, \u001b[38;5;241m*\u001b[39m\u001b[38;5;241m*\u001b[39mkwargs)\n\u001b[1;32m   1436\u001b[0m     auto_label \u001b[38;5;241m=\u001b[39m (bound\u001b[38;5;241m.\u001b[39marguments\u001b[38;5;241m.\u001b[39mget(label_namer)\n\u001b[1;32m   1437\u001b[0m                   \u001b[38;5;129;01mor\u001b[39;00m bound\u001b[38;5;241m.\u001b[39mkwargs\u001b[38;5;241m.\u001b[39mget(label_namer))\n",
      "File \u001b[0;32m/mnt/disk1/kaggle-env/lib/python3.9/site-packages/matplotlib/axes/_axes.py:5603\u001b[0m, in \u001b[0;36mAxes.imshow\u001b[0;34m(self, X, cmap, norm, aspect, interpolation, alpha, vmin, vmax, origin, extent, interpolation_stage, filternorm, filterrad, resample, url, **kwargs)\u001b[0m\n\u001b[1;32m   5601\u001b[0m     aspect \u001b[38;5;241m=\u001b[39m mpl\u001b[38;5;241m.\u001b[39mrcParams[\u001b[38;5;124m'\u001b[39m\u001b[38;5;124mimage.aspect\u001b[39m\u001b[38;5;124m'\u001b[39m]\n\u001b[1;32m   5602\u001b[0m \u001b[38;5;28mself\u001b[39m\u001b[38;5;241m.\u001b[39mset_aspect(aspect)\n\u001b[0;32m-> 5603\u001b[0m im \u001b[38;5;241m=\u001b[39m \u001b[43mmimage\u001b[49m\u001b[38;5;241;43m.\u001b[39;49m\u001b[43mAxesImage\u001b[49m\u001b[43m(\u001b[49m\u001b[38;5;28;43mself\u001b[39;49m\u001b[43m,\u001b[49m\u001b[43m \u001b[49m\u001b[43mcmap\u001b[49m\u001b[38;5;241;43m=\u001b[39;49m\u001b[43mcmap\u001b[49m\u001b[43m,\u001b[49m\u001b[43m \u001b[49m\u001b[43mnorm\u001b[49m\u001b[38;5;241;43m=\u001b[39;49m\u001b[43mnorm\u001b[49m\u001b[43m,\u001b[49m\n\u001b[1;32m   5604\u001b[0m \u001b[43m                      \u001b[49m\u001b[43minterpolation\u001b[49m\u001b[38;5;241;43m=\u001b[39;49m\u001b[43minterpolation\u001b[49m\u001b[43m,\u001b[49m\u001b[43m \u001b[49m\u001b[43morigin\u001b[49m\u001b[38;5;241;43m=\u001b[39;49m\u001b[43morigin\u001b[49m\u001b[43m,\u001b[49m\n\u001b[1;32m   5605\u001b[0m \u001b[43m                      \u001b[49m\u001b[43mextent\u001b[49m\u001b[38;5;241;43m=\u001b[39;49m\u001b[43mextent\u001b[49m\u001b[43m,\u001b[49m\u001b[43m \u001b[49m\u001b[43mfilternorm\u001b[49m\u001b[38;5;241;43m=\u001b[39;49m\u001b[43mfilternorm\u001b[49m\u001b[43m,\u001b[49m\n\u001b[1;32m   5606\u001b[0m \u001b[43m                      \u001b[49m\u001b[43mfilterrad\u001b[49m\u001b[38;5;241;43m=\u001b[39;49m\u001b[43mfilterrad\u001b[49m\u001b[43m,\u001b[49m\u001b[43m \u001b[49m\u001b[43mresample\u001b[49m\u001b[38;5;241;43m=\u001b[39;49m\u001b[43mresample\u001b[49m\u001b[43m,\u001b[49m\n\u001b[1;32m   5607\u001b[0m \u001b[43m                      \u001b[49m\u001b[43minterpolation_stage\u001b[49m\u001b[38;5;241;43m=\u001b[39;49m\u001b[43minterpolation_stage\u001b[49m\u001b[43m,\u001b[49m\n\u001b[1;32m   5608\u001b[0m \u001b[43m                      \u001b[49m\u001b[38;5;241;43m*\u001b[39;49m\u001b[38;5;241;43m*\u001b[39;49m\u001b[43mkwargs\u001b[49m\u001b[43m)\u001b[49m\n\u001b[1;32m   5610\u001b[0m im\u001b[38;5;241m.\u001b[39mset_data(X)\n\u001b[1;32m   5611\u001b[0m im\u001b[38;5;241m.\u001b[39mset_alpha(alpha)\n",
      "File \u001b[0;32m/mnt/disk1/kaggle-env/lib/python3.9/site-packages/matplotlib/_api/deprecation.py:454\u001b[0m, in \u001b[0;36mmake_keyword_only.<locals>.wrapper\u001b[0;34m(*args, **kwargs)\u001b[0m\n\u001b[1;32m    448\u001b[0m \u001b[38;5;28;01mif\u001b[39;00m \u001b[38;5;28mlen\u001b[39m(args) \u001b[38;5;241m>\u001b[39m name_idx:\n\u001b[1;32m    449\u001b[0m     warn_deprecated(\n\u001b[1;32m    450\u001b[0m         since, message\u001b[38;5;241m=\u001b[39m\u001b[38;5;124m\"\u001b[39m\u001b[38;5;124mPassing the \u001b[39m\u001b[38;5;132;01m%(name)s\u001b[39;00m\u001b[38;5;124m \u001b[39m\u001b[38;5;132;01m%(obj_type)s\u001b[39;00m\u001b[38;5;124m \u001b[39m\u001b[38;5;124m\"\u001b[39m\n\u001b[1;32m    451\u001b[0m         \u001b[38;5;124m\"\u001b[39m\u001b[38;5;124mpositionally is deprecated since Matplotlib \u001b[39m\u001b[38;5;132;01m%(since)s\u001b[39;00m\u001b[38;5;124m; the \u001b[39m\u001b[38;5;124m\"\u001b[39m\n\u001b[1;32m    452\u001b[0m         \u001b[38;5;124m\"\u001b[39m\u001b[38;5;124mparameter will become keyword-only \u001b[39m\u001b[38;5;132;01m%(removal)s\u001b[39;00m\u001b[38;5;124m.\u001b[39m\u001b[38;5;124m\"\u001b[39m,\n\u001b[1;32m    453\u001b[0m         name\u001b[38;5;241m=\u001b[39mname, obj_type\u001b[38;5;241m=\u001b[39m\u001b[38;5;124mf\u001b[39m\u001b[38;5;124m\"\u001b[39m\u001b[38;5;124mparameter of \u001b[39m\u001b[38;5;132;01m{\u001b[39;00mfunc\u001b[38;5;241m.\u001b[39m\u001b[38;5;18m__name__\u001b[39m\u001b[38;5;132;01m}\u001b[39;00m\u001b[38;5;124m()\u001b[39m\u001b[38;5;124m\"\u001b[39m)\n\u001b[0;32m--> 454\u001b[0m \u001b[38;5;28;01mreturn\u001b[39;00m \u001b[43mfunc\u001b[49m\u001b[43m(\u001b[49m\u001b[38;5;241;43m*\u001b[39;49m\u001b[43margs\u001b[49m\u001b[43m,\u001b[49m\u001b[43m \u001b[49m\u001b[38;5;241;43m*\u001b[39;49m\u001b[38;5;241;43m*\u001b[39;49m\u001b[43mkwargs\u001b[49m\u001b[43m)\u001b[49m\n",
      "File \u001b[0;32m/mnt/disk1/kaggle-env/lib/python3.9/site-packages/matplotlib/image.py:922\u001b[0m, in \u001b[0;36mAxesImage.__init__\u001b[0;34m(self, ax, cmap, norm, interpolation, origin, extent, filternorm, filterrad, resample, interpolation_stage, **kwargs)\u001b[0m\n\u001b[1;32m    905\u001b[0m \u001b[38;5;129m@_api\u001b[39m\u001b[38;5;241m.\u001b[39mmake_keyword_only(\u001b[38;5;124m\"\u001b[39m\u001b[38;5;124m3.6\u001b[39m\u001b[38;5;124m\"\u001b[39m, name\u001b[38;5;241m=\u001b[39m\u001b[38;5;124m\"\u001b[39m\u001b[38;5;124mcmap\u001b[39m\u001b[38;5;124m\"\u001b[39m)\n\u001b[1;32m    906\u001b[0m \u001b[38;5;28;01mdef\u001b[39;00m \u001b[38;5;21m__init__\u001b[39m(\u001b[38;5;28mself\u001b[39m, ax,\n\u001b[1;32m    907\u001b[0m              cmap\u001b[38;5;241m=\u001b[39m\u001b[38;5;28;01mNone\u001b[39;00m,\n\u001b[0;32m   (...)\u001b[0m\n\u001b[1;32m    917\u001b[0m              \u001b[38;5;241m*\u001b[39m\u001b[38;5;241m*\u001b[39mkwargs\n\u001b[1;32m    918\u001b[0m              ):\n\u001b[1;32m    920\u001b[0m     \u001b[38;5;28mself\u001b[39m\u001b[38;5;241m.\u001b[39m_extent \u001b[38;5;241m=\u001b[39m extent\n\u001b[0;32m--> 922\u001b[0m     \u001b[38;5;28;43msuper\u001b[39;49m\u001b[43m(\u001b[49m\u001b[43m)\u001b[49m\u001b[38;5;241;43m.\u001b[39;49m\u001b[38;5;21;43m__init__\u001b[39;49m\u001b[43m(\u001b[49m\n\u001b[1;32m    923\u001b[0m \u001b[43m        \u001b[49m\u001b[43max\u001b[49m\u001b[43m,\u001b[49m\n\u001b[1;32m    924\u001b[0m \u001b[43m        \u001b[49m\u001b[43mcmap\u001b[49m\u001b[38;5;241;43m=\u001b[39;49m\u001b[43mcmap\u001b[49m\u001b[43m,\u001b[49m\n\u001b[1;32m    925\u001b[0m \u001b[43m        \u001b[49m\u001b[43mnorm\u001b[49m\u001b[38;5;241;43m=\u001b[39;49m\u001b[43mnorm\u001b[49m\u001b[43m,\u001b[49m\n\u001b[1;32m    926\u001b[0m \u001b[43m        \u001b[49m\u001b[43minterpolation\u001b[49m\u001b[38;5;241;43m=\u001b[39;49m\u001b[43minterpolation\u001b[49m\u001b[43m,\u001b[49m\n\u001b[1;32m    927\u001b[0m \u001b[43m        \u001b[49m\u001b[43morigin\u001b[49m\u001b[38;5;241;43m=\u001b[39;49m\u001b[43morigin\u001b[49m\u001b[43m,\u001b[49m\n\u001b[1;32m    928\u001b[0m \u001b[43m        \u001b[49m\u001b[43mfilternorm\u001b[49m\u001b[38;5;241;43m=\u001b[39;49m\u001b[43mfilternorm\u001b[49m\u001b[43m,\u001b[49m\n\u001b[1;32m    929\u001b[0m \u001b[43m        \u001b[49m\u001b[43mfilterrad\u001b[49m\u001b[38;5;241;43m=\u001b[39;49m\u001b[43mfilterrad\u001b[49m\u001b[43m,\u001b[49m\n\u001b[1;32m    930\u001b[0m \u001b[43m        \u001b[49m\u001b[43mresample\u001b[49m\u001b[38;5;241;43m=\u001b[39;49m\u001b[43mresample\u001b[49m\u001b[43m,\u001b[49m\n\u001b[1;32m    931\u001b[0m \u001b[43m        \u001b[49m\u001b[43minterpolation_stage\u001b[49m\u001b[38;5;241;43m=\u001b[39;49m\u001b[43minterpolation_stage\u001b[49m\u001b[43m,\u001b[49m\n\u001b[1;32m    932\u001b[0m \u001b[43m        \u001b[49m\u001b[38;5;241;43m*\u001b[39;49m\u001b[38;5;241;43m*\u001b[39;49m\u001b[43mkwargs\u001b[49m\n\u001b[1;32m    933\u001b[0m \u001b[43m    \u001b[49m\u001b[43m)\u001b[49m\n",
      "File \u001b[0;32m/mnt/disk1/kaggle-env/lib/python3.9/site-packages/matplotlib/image.py:260\u001b[0m, in \u001b[0;36m_ImageBase.__init__\u001b[0;34m(self, ax, cmap, norm, interpolation, origin, filternorm, filterrad, resample, interpolation_stage, **kwargs)\u001b[0m\n\u001b[1;32m    247\u001b[0m \u001b[38;5;28;01mdef\u001b[39;00m \u001b[38;5;21m__init__\u001b[39m(\u001b[38;5;28mself\u001b[39m, ax,\n\u001b[1;32m    248\u001b[0m              cmap\u001b[38;5;241m=\u001b[39m\u001b[38;5;28;01mNone\u001b[39;00m,\n\u001b[1;32m    249\u001b[0m              norm\u001b[38;5;241m=\u001b[39m\u001b[38;5;28;01mNone\u001b[39;00m,\n\u001b[0;32m   (...)\u001b[0m\n\u001b[1;32m    257\u001b[0m              \u001b[38;5;241m*\u001b[39m\u001b[38;5;241m*\u001b[39mkwargs\n\u001b[1;32m    258\u001b[0m              ):\n\u001b[1;32m    259\u001b[0m     martist\u001b[38;5;241m.\u001b[39mArtist\u001b[38;5;241m.\u001b[39m\u001b[38;5;21m__init__\u001b[39m(\u001b[38;5;28mself\u001b[39m)\n\u001b[0;32m--> 260\u001b[0m     \u001b[43mcm\u001b[49m\u001b[38;5;241;43m.\u001b[39;49m\u001b[43mScalarMappable\u001b[49m\u001b[38;5;241;43m.\u001b[39;49m\u001b[38;5;21;43m__init__\u001b[39;49m\u001b[43m(\u001b[49m\u001b[38;5;28;43mself\u001b[39;49m\u001b[43m,\u001b[49m\u001b[43m \u001b[49m\u001b[43mnorm\u001b[49m\u001b[43m,\u001b[49m\u001b[43m \u001b[49m\u001b[43mcmap\u001b[49m\u001b[43m)\u001b[49m\n\u001b[1;32m    261\u001b[0m     \u001b[38;5;28;01mif\u001b[39;00m origin \u001b[38;5;129;01mis\u001b[39;00m \u001b[38;5;28;01mNone\u001b[39;00m:\n\u001b[1;32m    262\u001b[0m         origin \u001b[38;5;241m=\u001b[39m mpl\u001b[38;5;241m.\u001b[39mrcParams[\u001b[38;5;124m'\u001b[39m\u001b[38;5;124mimage.origin\u001b[39m\u001b[38;5;124m'\u001b[39m]\n",
      "File \u001b[0;32m/mnt/disk1/kaggle-env/lib/python3.9/site-packages/matplotlib/cm.py:415\u001b[0m, in \u001b[0;36mScalarMappable.__init__\u001b[0;34m(self, norm, cmap)\u001b[0m\n\u001b[1;32m    413\u001b[0m \u001b[38;5;28mself\u001b[39m\u001b[38;5;241m.\u001b[39mset_norm(norm)  \u001b[38;5;66;03m# The Normalize instance of this ScalarMappable.\u001b[39;00m\n\u001b[1;32m    414\u001b[0m \u001b[38;5;28mself\u001b[39m\u001b[38;5;241m.\u001b[39mcmap \u001b[38;5;241m=\u001b[39m \u001b[38;5;28;01mNone\u001b[39;00m  \u001b[38;5;66;03m# So that the setter knows we're initializing.\u001b[39;00m\n\u001b[0;32m--> 415\u001b[0m \u001b[38;5;28;43mself\u001b[39;49m\u001b[38;5;241;43m.\u001b[39;49m\u001b[43mset_cmap\u001b[49m\u001b[43m(\u001b[49m\u001b[43mcmap\u001b[49m\u001b[43m)\u001b[49m  \u001b[38;5;66;03m# The Colormap instance of this ScalarMappable.\u001b[39;00m\n\u001b[1;32m    416\u001b[0m \u001b[38;5;66;03m#: The last colorbar associated with this ScalarMappable. May be None.\u001b[39;00m\n\u001b[1;32m    417\u001b[0m \u001b[38;5;28mself\u001b[39m\u001b[38;5;241m.\u001b[39mcolorbar \u001b[38;5;241m=\u001b[39m \u001b[38;5;28;01mNone\u001b[39;00m\n",
      "File \u001b[0;32m/mnt/disk1/kaggle-env/lib/python3.9/site-packages/matplotlib/cm.py:603\u001b[0m, in \u001b[0;36mScalarMappable.set_cmap\u001b[0;34m(self, cmap)\u001b[0m\n\u001b[1;32m    594\u001b[0m \u001b[38;5;250m\u001b[39m\u001b[38;5;124;03m\"\"\"\u001b[39;00m\n\u001b[1;32m    595\u001b[0m \u001b[38;5;124;03mSet the colormap for luminance data.\u001b[39;00m\n\u001b[1;32m    596\u001b[0m \n\u001b[0;32m   (...)\u001b[0m\n\u001b[1;32m    599\u001b[0m \u001b[38;5;124;03mcmap : `.Colormap` or str or None\u001b[39;00m\n\u001b[1;32m    600\u001b[0m \u001b[38;5;124;03m\"\"\"\u001b[39;00m\n\u001b[1;32m    601\u001b[0m in_init \u001b[38;5;241m=\u001b[39m \u001b[38;5;28mself\u001b[39m\u001b[38;5;241m.\u001b[39mcmap \u001b[38;5;129;01mis\u001b[39;00m \u001b[38;5;28;01mNone\u001b[39;00m\n\u001b[0;32m--> 603\u001b[0m \u001b[38;5;28mself\u001b[39m\u001b[38;5;241m.\u001b[39mcmap \u001b[38;5;241m=\u001b[39m \u001b[43m_ensure_cmap\u001b[49m\u001b[43m(\u001b[49m\u001b[43mcmap\u001b[49m\u001b[43m)\u001b[49m\n\u001b[1;32m    604\u001b[0m \u001b[38;5;28;01mif\u001b[39;00m \u001b[38;5;129;01mnot\u001b[39;00m in_init:\n\u001b[1;32m    605\u001b[0m     \u001b[38;5;28mself\u001b[39m\u001b[38;5;241m.\u001b[39mchanged()\n",
      "File \u001b[0;32m/mnt/disk1/kaggle-env/lib/python3.9/site-packages/matplotlib/cm.py:741\u001b[0m, in \u001b[0;36m_ensure_cmap\u001b[0;34m(cmap)\u001b[0m\n\u001b[1;32m    738\u001b[0m cmap_name \u001b[38;5;241m=\u001b[39m cmap \u001b[38;5;28;01mif\u001b[39;00m cmap \u001b[38;5;129;01mis\u001b[39;00m \u001b[38;5;129;01mnot\u001b[39;00m \u001b[38;5;28;01mNone\u001b[39;00m \u001b[38;5;28;01melse\u001b[39;00m mpl\u001b[38;5;241m.\u001b[39mrcParams[\u001b[38;5;124m\"\u001b[39m\u001b[38;5;124mimage.cmap\u001b[39m\u001b[38;5;124m\"\u001b[39m]\n\u001b[1;32m    739\u001b[0m \u001b[38;5;66;03m# use check_in_list to ensure type stability of the exception raised by\u001b[39;00m\n\u001b[1;32m    740\u001b[0m \u001b[38;5;66;03m# the internal usage of this (ValueError vs KeyError)\u001b[39;00m\n\u001b[0;32m--> 741\u001b[0m \u001b[43m_api\u001b[49m\u001b[38;5;241;43m.\u001b[39;49m\u001b[43mcheck_in_list\u001b[49m\u001b[43m(\u001b[49m\u001b[38;5;28;43msorted\u001b[39;49m\u001b[43m(\u001b[49m\u001b[43m_colormaps\u001b[49m\u001b[43m)\u001b[49m\u001b[43m,\u001b[49m\u001b[43m \u001b[49m\u001b[43mcmap\u001b[49m\u001b[38;5;241;43m=\u001b[39;49m\u001b[43mcmap_name\u001b[49m\u001b[43m)\u001b[49m\n\u001b[1;32m    742\u001b[0m \u001b[38;5;28;01mreturn\u001b[39;00m mpl\u001b[38;5;241m.\u001b[39mcolormaps[cmap_name]\n",
      "File \u001b[0;32m/mnt/disk1/kaggle-env/lib/python3.9/site-packages/matplotlib/_api/__init__.py:131\u001b[0m, in \u001b[0;36mcheck_in_list\u001b[0;34m(_values, _print_supported_values, **kwargs)\u001b[0m\n\u001b[1;32m    129\u001b[0m \u001b[38;5;28;01mif\u001b[39;00m _print_supported_values:\n\u001b[1;32m    130\u001b[0m     msg \u001b[38;5;241m+\u001b[39m\u001b[38;5;241m=\u001b[39m \u001b[38;5;124mf\u001b[39m\u001b[38;5;124m\"\u001b[39m\u001b[38;5;124m; supported values are \u001b[39m\u001b[38;5;132;01m{\u001b[39;00m\u001b[38;5;124m'\u001b[39m\u001b[38;5;124m, \u001b[39m\u001b[38;5;124m'\u001b[39m\u001b[38;5;241m.\u001b[39mjoin(\u001b[38;5;28mmap\u001b[39m(\u001b[38;5;28mrepr\u001b[39m,\u001b[38;5;250m \u001b[39mvalues))\u001b[38;5;132;01m}\u001b[39;00m\u001b[38;5;124m\"\u001b[39m\n\u001b[0;32m--> 131\u001b[0m \u001b[38;5;28;01mraise\u001b[39;00m \u001b[38;5;167;01mValueError\u001b[39;00m(msg)\n",
      "\u001b[0;31mValueError\u001b[0m: (0.0, 1.0, 0.0, 1.0) is not a valid value for cmap; supported values are 'Accent', 'Accent_r', 'Blues', 'Blues_r', 'BrBG', 'BrBG_r', 'BuGn', 'BuGn_r', 'BuPu', 'BuPu_r', 'CMRmap', 'CMRmap_r', 'Dark2', 'Dark2_r', 'GnBu', 'GnBu_r', 'Greens', 'Greens_r', 'Greys', 'Greys_r', 'OrRd', 'OrRd_r', 'Oranges', 'Oranges_r', 'PRGn', 'PRGn_r', 'Paired', 'Paired_r', 'Pastel1', 'Pastel1_r', 'Pastel2', 'Pastel2_r', 'PiYG', 'PiYG_r', 'PuBu', 'PuBuGn', 'PuBuGn_r', 'PuBu_r', 'PuOr', 'PuOr_r', 'PuRd', 'PuRd_r', 'Purples', 'Purples_r', 'RdBu', 'RdBu_r', 'RdGy', 'RdGy_r', 'RdPu', 'RdPu_r', 'RdYlBu', 'RdYlBu_r', 'RdYlGn', 'RdYlGn_r', 'Reds', 'Reds_r', 'Set1', 'Set1_r', 'Set2', 'Set2_r', 'Set3', 'Set3_r', 'Spectral', 'Spectral_r', 'Wistia', 'Wistia_r', 'YlGn', 'YlGnBu', 'YlGnBu_r', 'YlGn_r', 'YlOrBr', 'YlOrBr_r', 'YlOrRd', 'YlOrRd_r', 'afmhot', 'afmhot_r', 'autumn', 'autumn_r', 'binary', 'binary_r', 'bone', 'bone_r', 'brg', 'brg_r', 'bwr', 'bwr_r', 'cividis', 'cividis_r', 'cool', 'cool_r', 'coolwarm', 'coolwarm_r', 'copper', 'copper_r', 'cubehelix', 'cubehelix_r', 'flag', 'flag_r', 'gist_earth', 'gist_earth_r', 'gist_gray', 'gist_gray_r', 'gist_heat', 'gist_heat_r', 'gist_ncar', 'gist_ncar_r', 'gist_rainbow', 'gist_rainbow_r', 'gist_stern', 'gist_stern_r', 'gist_yarg', 'gist_yarg_r', 'gnuplot', 'gnuplot2', 'gnuplot2_r', 'gnuplot_r', 'gray', 'gray_r', 'hot', 'hot_r', 'hsv', 'hsv_r', 'inferno', 'inferno_r', 'jet', 'jet_r', 'magma', 'magma_r', 'nipy_spectral', 'nipy_spectral_r', 'ocean', 'ocean_r', 'pink', 'pink_r', 'plasma', 'plasma_r', 'prism', 'prism_r', 'rainbow', 'rainbow_r', 'seismic', 'seismic_r', 'spring', 'spring_r', 'summer', 'summer_r', 'tab10', 'tab10_r', 'tab20', 'tab20_r', 'tab20b', 'tab20b_r', 'tab20c', 'tab20c_r', 'terrain', 'terrain_r', 'turbo', 'turbo_r', 'twilight', 'twilight_r', 'twilight_shifted', 'twilight_shifted_r', 'viridis', 'viridis_r', 'winter', 'winter_r'"
     ]
    },
    {
     "data": {
      "image/png": "[encoded data removed]",
      "text/plain": [
       "<Figure size 640x480 with 1 Axes>"
      ]
     },
     "metadata": {},
     "output_type": "display_data"
    }
   ],
   "source": [
    "%%time\n",
    "wordclouds = []\n",
    "channels = []\n",
    "counter = 0\n",
    "# print world cloud for 10 most popular channel\n",
    "for item in topics.channel.value_counts()[:4].to_dict().items():\n",
    "    topic_channel, no_of_topic = item\n",
    "    topic_titles = topics[topics.channel == topic_channel]['title'].values\n",
    "    topic_titles = [str(topics).split(' ') for topics in topic_titles]\n",
    "    topic_words = [str(word).lower() for topic in topic_titles for word in topic]\n",
    "    # create word cloud\n",
    "    wordcloud = WordCloud(width=200, height=200, background_color='white', stopwords = stopwords, min_font_size=10).generate(\" \".join(topic_words))\n",
    "    wordclouds.append(wordcloud)\n",
    "    channels.append(topic_channel)\n",
    "    \n",
    "# plot word cloud images   \n",
    "for image, channel in zip(wordclouds, channels):\n",
    "    plot_index = int(220 + counter + 1)\n",
    "    plt.subplot(plot_index)\n",
    "    plt.imshow(wordclouds[counter],plt.axis('off'))\n",
    "    counter += 1\n",
    "\n",
    "# show all the image\n",
    "plt.show()"
   ]
  },
  {
   "cell_type": "code",
   "execution_count": 107,
   "id": "26e0978f-a109-47b6-89f5-4dff94da7b9a",
   "metadata": {},
   "outputs": [
    {
     "data": {
      "text/plain": [
       "dict_items([('fef095', 5770), ('0ec697', 5355), ('6e90a7', 4554), ('2ee29d', 4438), ('36a98b', 3667), ('000cf7', 2867), ('8e286a', 2780), ('0c929f', 2698), ('c152d6', 2555), ('ef2088', 1684)])"
      ]
     },
     "execution_count": 107,
     "metadata": {},
     "output_type": "execute_result"
    }
   ],
   "source": [
    "topics.channel.value_counts()[:10].to_dict().items()"
   ]
  },
  {
   "cell_type": "markdown",
   "id": "30128d4a-1c29-4ec2-9bc1-cf8802c77e33",
   "metadata": {},
   "source": [
    "## Correlation data\n",
    "The content items associated to topics in the training set. A single content item may be associated to more than one topic. In each row, we give a topic_id and a list of all associated content_ids. These comprise the targets of the training set."
   ]
  },
  {
   "cell_type": "code",
   "execution_count": 22,
   "id": "804301d5-e0ab-4b4b-8c57-fa8fb6b979b0",
   "metadata": {},
   "outputs": [],
   "source": [
    "# adding count column to calc number of content ids under each topic\n",
    "correlations['number_of_content_ids'] =  correlations['content_ids'].apply(lambda x : len(x.split(' ')))"
   ]
  },
  {
   "cell_type": "code",
   "execution_count": 23,
   "id": "e41b3bd6-6155-4180-99a9-bae0eebd282b",
   "metadata": {},
   "outputs": [
    {
     "name": "stdout",
     "output_type": "stream",
     "text": [
      "CPU times: user 44.9 ms, sys: 3.41 ms, total: 48.3 ms\n",
      "Wall time: 48 ms\n"
     ]
    }
   ],
   "source": [
    "%%time\n",
    "# count occurance for each content id\n",
    "content_id_counter = Counter()\n",
    "for content_ids in correlations['content_ids'].values:\n",
    "    for c in content_ids.split(' '):\n",
    "        content_id_counter[c] += 1"
   ]
  },
  {
   "cell_type": "code",
   "execution_count": 24,
   "id": "c5fe982d-faec-40e4-8e56-5ee598a9b69f",
   "metadata": {},
   "outputs": [
    {
     "data": {
      "text/html": [
       "<div>\n",
       "<style scoped>\n",
       "    .dataframe tbody tr th:only-of-type {\n",
       "        vertical-align: middle;\n",
       "    }\n",
       "\n",
       "    .dataframe tbody tr th {\n",
       "        vertical-align: top;\n",
       "    }\n",
       "\n",
       "    .dataframe thead th {\n",
       "        text-align: right;\n",
       "    }\n",
       "</style>\n",
       "<table border=\"1\" class=\"dataframe\">\n",
       "  <thead>\n",
       "    <tr style=\"text-align: right;\">\n",
       "      <th></th>\n",
       "      <th>topic_id</th>\n",
       "      <th>content_ids</th>\n",
       "      <th>number_of_content_ids</th>\n",
       "    </tr>\n",
       "  </thead>\n",
       "  <tbody>\n",
       "    <tr>\n",
       "      <th>0</th>\n",
       "      <td>t_00004da3a1b2</td>\n",
       "      <td>c_1108dd0c7a5d c_376c5a8eb028 c_5bc0e1e2cba0 c...</td>\n",
       "      <td>4</td>\n",
       "    </tr>\n",
       "    <tr>\n",
       "      <th>1</th>\n",
       "      <td>t_00068291e9a4</td>\n",
       "      <td>c_639ea2ef9c95 c_89ce9367be10 c_ac1672cdcd2c c...</td>\n",
       "      <td>4</td>\n",
       "    </tr>\n",
       "    <tr>\n",
       "      <th>2</th>\n",
       "      <td>t_00069b63a70a</td>\n",
       "      <td>c_11a1dc0bfb99</td>\n",
       "      <td>1</td>\n",
       "    </tr>\n",
       "  </tbody>\n",
       "</table>\n",
       "</div>"
      ],
      "text/plain": [
       "         topic_id                                        content_ids  \\\n",
       "0  t_00004da3a1b2  c_1108dd0c7a5d c_376c5a8eb028 c_5bc0e1e2cba0 c...   \n",
       "1  t_00068291e9a4  c_639ea2ef9c95 c_89ce9367be10 c_ac1672cdcd2c c...   \n",
       "2  t_00069b63a70a                                     c_11a1dc0bfb99   \n",
       "\n",
       "   number_of_content_ids  \n",
       "0                      4  \n",
       "1                      4  \n",
       "2                      1  "
      ]
     },
     "execution_count": 24,
     "metadata": {},
     "output_type": "execute_result"
    }
   ],
   "source": [
    "correlations.head(3)"
   ]
  },
  {
   "cell_type": "code",
   "execution_count": 25,
   "id": "5674239c-76af-479e-9446-07ced7222f28",
   "metadata": {},
   "outputs": [
    {
     "name": "stdout",
     "output_type": "stream",
     "text": [
      "<class 'pandas.core.frame.DataFrame'>\n",
      "RangeIndex: 61517 entries, 0 to 61516\n",
      "Data columns (total 3 columns):\n",
      " #   Column                 Non-Null Count  Dtype \n",
      "---  ------                 --------------  ----- \n",
      " 0   topic_id               61517 non-null  object\n",
      " 1   content_ids            61517 non-null  object\n",
      " 2   number_of_content_ids  61517 non-null  int64 \n",
      "dtypes: int64(1), object(2)\n",
      "memory usage: 1.4+ MB\n"
     ]
    }
   ],
   "source": [
    "correlations.info()"
   ]
  },
  {
   "cell_type": "markdown",
   "id": "789bca2f-9219-45c8-9317-374b237b9146",
   "metadata": {},
   "source": [
    "### Correlation highlevel statistic\n",
    "\n",
    "#### Factors\n",
    "- Only 61517 unique topic id in the correlation.csv, not all the topic has related content so can use correlation join with other csv file to generate training data\n",
    "- 154047 unqiue content ids in the correlation.csv, same as content.csv which means all the contents have correlated topics\n",
    "- Max number of cotent is 293, much higher than the median or average, worth to take look later on\n",
    "- Most popular content is c_dd739e116435, correlated to 241 topics, worth to take look, it can also treated as popular candidates when making recommendation"
   ]
  },
  {
   "cell_type": "code",
   "execution_count": 26,
   "id": "1b604965-32f4-4449-a466-c81bb6aa9983",
   "metadata": {},
   "outputs": [
    {
     "name": "stdout",
     "output_type": "stream",
     "text": [
      "-------------------------------------------------------------------------------------------------------------------------------------\n",
      "Total have 61517 unique topic ids, min ID is t_00004da3a1b2, max ID is t_fffe811a6da9\n",
      "-------------------------------------------------------------------------------------------------------------------------------------\n",
      "No of content id statistic is  {'count': 61517.0, 'mean': 4.550270656891591, 'std': 6.70025541708405, 'min': 1.0, '25%': 2.0, '50%': 3.0, '75%': 5.0, 'max': 293.0}, no of unique content id is 154047\n",
      "CPU times: user 11.9 ms, sys: 0 ns, total: 11.9 ms\n",
      "Wall time: 11.4 ms\n"
     ]
    }
   ],
   "source": [
    "%%time\n",
    "# id\n",
    "print(\"-------------------------------------------------------------------------------------------------------------------------------------\")\n",
    "print(f\"Total have {correlations.topic_id.nunique()} unique topic ids, min ID is {sorted(correlations.topic_id.values)[0]}, max ID is {sorted(correlations.topic_id.values)[-1]}\")\n",
    "print(\"-------------------------------------------------------------------------------------------------------------------------------------\")\n",
    "print(f\"No of content id statistic is  {correlations.number_of_content_ids.describe().to_dict()}, no of unique content id is {len(set(content_id_counter.keys()))}\")"
   ]
  },
  {
   "cell_type": "code",
   "execution_count": 27,
   "id": "c1511bcc-9506-4df0-99d3-2c0cf3b633a0",
   "metadata": {},
   "outputs": [
    {
     "data": {
      "text/plain": [
       "[('c_dd739e116435', 241),\n",
       " ('c_2f8849826d71', 75),\n",
       " ('c_4f5925b37bdf', 54),\n",
       " ('c_59778b25b537', 52),\n",
       " ('c_04e6b34426c6', 48),\n",
       " ('c_d2b3b43d838a', 44),\n",
       " ('c_6d3b0fc13589', 43),\n",
       " ('c_3856cf0f321a', 39),\n",
       " ('c_76ea3f6f2dca', 36),\n",
       " ('c_5a3c3fe31842', 33)]"
      ]
     },
     "execution_count": 27,
     "metadata": {},
     "output_type": "execute_result"
    }
   ],
   "source": [
    "# print most 10 popular content ids\n",
    "content_id_counter.most_common(10)"
   ]
  },
  {
   "cell_type": "code",
   "execution_count": 28,
   "id": "dd158b59-7768-4961-aa3c-75d1d0cb886d",
   "metadata": {},
   "outputs": [
    {
     "data": {
      "text/html": [
       "<div>\n",
       "<style scoped>\n",
       "    .dataframe tbody tr th:only-of-type {\n",
       "        vertical-align: middle;\n",
       "    }\n",
       "\n",
       "    .dataframe tbody tr th {\n",
       "        vertical-align: top;\n",
       "    }\n",
       "\n",
       "    .dataframe thead th {\n",
       "        text-align: right;\n",
       "    }\n",
       "</style>\n",
       "<table border=\"1\" class=\"dataframe\">\n",
       "  <thead>\n",
       "    <tr style=\"text-align: right;\">\n",
       "      <th></th>\n",
       "      <th>id</th>\n",
       "      <th>title</th>\n",
       "      <th>description</th>\n",
       "      <th>kind</th>\n",
       "      <th>text</th>\n",
       "      <th>language</th>\n",
       "      <th>copyright_holder</th>\n",
       "      <th>license</th>\n",
       "      <th>no_of_words_in_title</th>\n",
       "      <th>no_of_words_in_desc</th>\n",
       "    </tr>\n",
       "  </thead>\n",
       "  <tbody>\n",
       "    <tr>\n",
       "      <th>2885</th>\n",
       "      <td>c_04e6b34426c6</td>\n",
       "      <td>Glossary</td>\n",
       "      <td>NaN</td>\n",
       "      <td>html5</td>\n",
       "      <td>----------------------------------------------...</td>\n",
       "      <td>en</td>\n",
       "      <td>CSU and Merlot</td>\n",
       "      <td>CC BY-NC-SA</td>\n",
       "      <td>1</td>\n",
       "      <td>1</td>\n",
       "    </tr>\n",
       "    <tr>\n",
       "      <th>28663</th>\n",
       "      <td>c_2f8849826d71</td>\n",
       "      <td>InfoPage</td>\n",
       "      <td>NaN</td>\n",
       "      <td>html5</td>\n",
       "      <td>This open text is disseminated via the Open Ed...</td>\n",
       "      <td>en</td>\n",
       "      <td>CSU and Merlot</td>\n",
       "      <td>CC BY-NC-SA</td>\n",
       "      <td>1</td>\n",
       "      <td>1</td>\n",
       "    </tr>\n",
       "    <tr>\n",
       "      <th>33951</th>\n",
       "      <td>c_3856cf0f321a</td>\n",
       "      <td>الدرس الثاني</td>\n",
       "      <td>NaN</td>\n",
       "      <td>video</td>\n",
       "      <td>NaN</td>\n",
       "      <td>ar</td>\n",
       "      <td>NaN</td>\n",
       "      <td>NaN</td>\n",
       "      <td>2</td>\n",
       "      <td>1</td>\n",
       "    </tr>\n",
       "    <tr>\n",
       "      <th>47728</th>\n",
       "      <td>c_4f5925b37bdf</td>\n",
       "      <td>Index</td>\n",
       "      <td>NaN</td>\n",
       "      <td>html5</td>\n",
       "      <td>NaN</td>\n",
       "      <td>en</td>\n",
       "      <td>NaN</td>\n",
       "      <td>NaN</td>\n",
       "      <td>1</td>\n",
       "      <td>1</td>\n",
       "    </tr>\n",
       "    <tr>\n",
       "      <th>53915</th>\n",
       "      <td>c_59778b25b537</td>\n",
       "      <td>Pasos siguientes</td>\n",
       "      <td>Descubra los pasos siguientes y recursos adici...</td>\n",
       "      <td>html5</td>\n",
       "      <td>Para recibir el certificado que necesita para ...</td>\n",
       "      <td>es</td>\n",
       "      <td>HP LIFE</td>\n",
       "      <td>CC BY</td>\n",
       "      <td>2</td>\n",
       "      <td>50</td>\n",
       "    </tr>\n",
       "    <tr>\n",
       "      <th>54375</th>\n",
       "      <td>c_5a3c3fe31842</td>\n",
       "      <td>Student Getting Started Guide</td>\n",
       "      <td>Congratulations! You've got a free textbook. D...</td>\n",
       "      <td>document</td>\n",
       "      <td>Student getting\\nstarted guide\\nCongratulation...</td>\n",
       "      <td>en</td>\n",
       "      <td>Rice University</td>\n",
       "      <td>CC BY</td>\n",
       "      <td>4</td>\n",
       "      <td>15</td>\n",
       "    </tr>\n",
       "    <tr>\n",
       "      <th>65782</th>\n",
       "      <td>c_6d3b0fc13589</td>\n",
       "      <td>Using context clues to figure out new words | ...</td>\n",
       "      <td>When you're reading, it can be frustrating to ...</td>\n",
       "      <td>video</td>\n",
       "      <td>- [Instructor] Hello readers. You know that fe...</td>\n",
       "      <td>en</td>\n",
       "      <td>Khan Academy</td>\n",
       "      <td>CC BY-NC-SA</td>\n",
       "      <td>10</td>\n",
       "      <td>26</td>\n",
       "    </tr>\n",
       "    <tr>\n",
       "      <th>71414</th>\n",
       "      <td>c_76ea3f6f2dca</td>\n",
       "      <td>الدرس الأول</td>\n",
       "      <td>NaN</td>\n",
       "      <td>video</td>\n",
       "      <td>NaN</td>\n",
       "      <td>ar</td>\n",
       "      <td>NaN</td>\n",
       "      <td>NaN</td>\n",
       "      <td>2</td>\n",
       "      <td>1</td>\n",
       "    </tr>\n",
       "    <tr>\n",
       "      <th>126834</th>\n",
       "      <td>c_d2b3b43d838a</td>\n",
       "      <td>index.js</td>\n",
       "      <td>NaN</td>\n",
       "      <td>html5</td>\n",
       "      <td>NaN</td>\n",
       "      <td>en</td>\n",
       "      <td>NaN</td>\n",
       "      <td>NaN</td>\n",
       "      <td>1</td>\n",
       "      <td>1</td>\n",
       "    </tr>\n",
       "    <tr>\n",
       "      <th>133372</th>\n",
       "      <td>c_dd739e116435</td>\n",
       "      <td>বই</td>\n",
       "      <td>NaN</td>\n",
       "      <td>document</td>\n",
       "      <td>NaN</td>\n",
       "      <td>bn</td>\n",
       "      <td>NaN</td>\n",
       "      <td>NaN</td>\n",
       "      <td>1</td>\n",
       "      <td>1</td>\n",
       "    </tr>\n",
       "  </tbody>\n",
       "</table>\n",
       "</div>"
      ],
      "text/plain": [
       "                    id                                              title  \\\n",
       "2885    c_04e6b34426c6                                           Glossary   \n",
       "28663   c_2f8849826d71                                           InfoPage   \n",
       "33951   c_3856cf0f321a                                       الدرس الثاني   \n",
       "47728   c_4f5925b37bdf                                              Index   \n",
       "53915   c_59778b25b537                                   Pasos siguientes   \n",
       "54375   c_5a3c3fe31842                      Student Getting Started Guide   \n",
       "65782   c_6d3b0fc13589  Using context clues to figure out new words | ...   \n",
       "71414   c_76ea3f6f2dca                                        الدرس الأول   \n",
       "126834  c_d2b3b43d838a                                           index.js   \n",
       "133372  c_dd739e116435                                                 বই   \n",
       "\n",
       "                                              description      kind  \\\n",
       "2885                                                  NaN     html5   \n",
       "28663                                                 NaN     html5   \n",
       "33951                                                 NaN     video   \n",
       "47728                                                 NaN     html5   \n",
       "53915   Descubra los pasos siguientes y recursos adici...     html5   \n",
       "54375   Congratulations! You've got a free textbook. D...  document   \n",
       "65782   When you're reading, it can be frustrating to ...     video   \n",
       "71414                                                 NaN     video   \n",
       "126834                                                NaN     html5   \n",
       "133372                                                NaN  document   \n",
       "\n",
       "                                                     text language  \\\n",
       "2885    ----------------------------------------------...       en   \n",
       "28663   This open text is disseminated via the Open Ed...       en   \n",
       "33951                                                 NaN       ar   \n",
       "47728                                                 NaN       en   \n",
       "53915   Para recibir el certificado que necesita para ...       es   \n",
       "54375   Student getting\\nstarted guide\\nCongratulation...       en   \n",
       "65782   - [Instructor] Hello readers. You know that fe...       en   \n",
       "71414                                                 NaN       ar   \n",
       "126834                                                NaN       en   \n",
       "133372                                                NaN       bn   \n",
       "\n",
       "       copyright_holder      license  no_of_words_in_title  \\\n",
       "2885     CSU and Merlot  CC BY-NC-SA                     1   \n",
       "28663    CSU and Merlot  CC BY-NC-SA                     1   \n",
       "33951               NaN          NaN                     2   \n",
       "47728               NaN          NaN                     1   \n",
       "53915           HP LIFE        CC BY                     2   \n",
       "54375   Rice University        CC BY                     4   \n",
       "65782      Khan Academy  CC BY-NC-SA                    10   \n",
       "71414               NaN          NaN                     2   \n",
       "126834              NaN          NaN                     1   \n",
       "133372              NaN          NaN                     1   \n",
       "\n",
       "        no_of_words_in_desc  \n",
       "2885                      1  \n",
       "28663                     1  \n",
       "33951                     1  \n",
       "47728                     1  \n",
       "53915                    50  \n",
       "54375                    15  \n",
       "65782                    26  \n",
       "71414                     1  \n",
       "126834                    1  \n",
       "133372                    1  "
      ]
     },
     "execution_count": 28,
     "metadata": {},
     "output_type": "execute_result"
    }
   ],
   "source": [
    "# take a look at most popular contents - looks like nothing special\n",
    "top10_content_ids = [d[0] for d in content_id_counter.most_common(10)]\n",
    "contents[contents['id'].isin(top10_content_ids)]"
   ]
  },
  {
   "cell_type": "code",
   "execution_count": 31,
   "id": "07b88c5f-8c04-4f4b-af7d-7f8c2906cc51",
   "metadata": {},
   "outputs": [
    {
     "data": {
      "text/html": [
       "<div>\n",
       "<style scoped>\n",
       "    .dataframe tbody tr th:only-of-type {\n",
       "        vertical-align: middle;\n",
       "    }\n",
       "\n",
       "    .dataframe tbody tr th {\n",
       "        vertical-align: top;\n",
       "    }\n",
       "\n",
       "    .dataframe thead th {\n",
       "        text-align: right;\n",
       "    }\n",
       "</style>\n",
       "<table border=\"1\" class=\"dataframe\">\n",
       "  <thead>\n",
       "    <tr style=\"text-align: right;\">\n",
       "      <th></th>\n",
       "      <th>topic_id</th>\n",
       "      <th>content_ids</th>\n",
       "      <th>number_of_content_ids</th>\n",
       "    </tr>\n",
       "  </thead>\n",
       "  <tbody>\n",
       "    <tr>\n",
       "      <th>47249</th>\n",
       "      <td>t_c5673d1b5642</td>\n",
       "      <td>c_004549091742 c_005e9fb8e930 c_019f6e9630d7 c...</td>\n",
       "      <td>293</td>\n",
       "    </tr>\n",
       "  </tbody>\n",
       "</table>\n",
       "</div>"
      ],
      "text/plain": [
       "             topic_id                                        content_ids  \\\n",
       "47249  t_c5673d1b5642  c_004549091742 c_005e9fb8e930 c_019f6e9630d7 c...   \n",
       "\n",
       "       number_of_content_ids  \n",
       "47249                    293  "
      ]
     },
     "execution_count": 31,
     "metadata": {},
     "output_type": "execute_result"
    }
   ],
   "source": [
    "correlations.loc[correlations['number_of_content_ids'] == correlations['number_of_content_ids'].max()]"
   ]
  },
  {
   "cell_type": "code",
   "execution_count": 32,
   "id": "ed114b19-be49-40f3-952e-0621b8dd50c4",
   "metadata": {},
   "outputs": [
    {
     "data": {
      "text/html": [
       "<div>\n",
       "<style scoped>\n",
       "    .dataframe tbody tr th:only-of-type {\n",
       "        vertical-align: middle;\n",
       "    }\n",
       "\n",
       "    .dataframe tbody tr th {\n",
       "        vertical-align: top;\n",
       "    }\n",
       "\n",
       "    .dataframe thead th {\n",
       "        text-align: right;\n",
       "    }\n",
       "</style>\n",
       "<table border=\"1\" class=\"dataframe\">\n",
       "  <thead>\n",
       "    <tr style=\"text-align: right;\">\n",
       "      <th></th>\n",
       "      <th>id</th>\n",
       "      <th>title</th>\n",
       "      <th>description</th>\n",
       "      <th>channel</th>\n",
       "      <th>category</th>\n",
       "      <th>level</th>\n",
       "      <th>language</th>\n",
       "      <th>parent</th>\n",
       "      <th>has_content</th>\n",
       "      <th>no_of_words_in_title</th>\n",
       "      <th>no_of_words_in_desc</th>\n",
       "    </tr>\n",
       "  </thead>\n",
       "  <tbody>\n",
       "    <tr>\n",
       "      <th>59116</th>\n",
       "      <td>t_c5673d1b5642</td>\n",
       "      <td>10-13 años</td>\n",
       "      <td>NaN</td>\n",
       "      <td>f41d17</td>\n",
       "      <td>source</td>\n",
       "      <td>2</td>\n",
       "      <td>es</td>\n",
       "      <td>t_caa73c7fb6a8</td>\n",
       "      <td>True</td>\n",
       "      <td>2</td>\n",
       "      <td>1</td>\n",
       "    </tr>\n",
       "  </tbody>\n",
       "</table>\n",
       "</div>"
      ],
      "text/plain": [
       "                   id       title description channel category  level  \\\n",
       "59116  t_c5673d1b5642  10-13 años         NaN  f41d17   source      2   \n",
       "\n",
       "      language          parent  has_content  no_of_words_in_title  \\\n",
       "59116       es  t_caa73c7fb6a8         True                     2   \n",
       "\n",
       "       no_of_words_in_desc  \n",
       "59116                    1  "
      ]
     },
     "execution_count": 32,
     "metadata": {},
     "output_type": "execute_result"
    }
   ],
   "source": [
    "# take a look at topic has most content\n",
    "topics.loc[topics['id'] == 't_c5673d1b5642']"
   ]
  },
  {
   "cell_type": "markdown",
   "id": "8cbf7d74-566b-41d0-8aca-32c9c9500563",
   "metadata": {},
   "source": [
    "### Sample submission\n",
    " A submission file in the correct format. See the Evaluation page for more details. You must use this file to identify which topics in the test set require predictions.\n",
    " - Not too much need to take look at this file, just make sure following the below format should be fine"
   ]
  },
  {
   "cell_type": "code",
   "execution_count": 33,
   "id": "6a915377-81f8-4be2-af89-89efaf96eabc",
   "metadata": {},
   "outputs": [
    {
     "data": {
      "text/html": [
       "<div>\n",
       "<style scoped>\n",
       "    .dataframe tbody tr th:only-of-type {\n",
       "        vertical-align: middle;\n",
       "    }\n",
       "\n",
       "    .dataframe tbody tr th {\n",
       "        vertical-align: top;\n",
       "    }\n",
       "\n",
       "    .dataframe thead th {\n",
       "        text-align: right;\n",
       "    }\n",
       "</style>\n",
       "<table border=\"1\" class=\"dataframe\">\n",
       "  <thead>\n",
       "    <tr style=\"text-align: right;\">\n",
       "      <th></th>\n",
       "      <th>topic_id</th>\n",
       "      <th>content_ids</th>\n",
       "    </tr>\n",
       "  </thead>\n",
       "  <tbody>\n",
       "    <tr>\n",
       "      <th>0</th>\n",
       "      <td>t_00004da3a1b2</td>\n",
       "      <td>c_1108dd0c7a5d c_376c5a8eb028 c_5bc0e1e2cba0 c...</td>\n",
       "    </tr>\n",
       "    <tr>\n",
       "      <th>1</th>\n",
       "      <td>t_00068291e9a4</td>\n",
       "      <td>c_639ea2ef9c95 c_89ce9367be10 c_ac1672cdcd2c c...</td>\n",
       "    </tr>\n",
       "    <tr>\n",
       "      <th>2</th>\n",
       "      <td>t_00069b63a70a</td>\n",
       "      <td>c_11a1dc0bfb99</td>\n",
       "    </tr>\n",
       "    <tr>\n",
       "      <th>3</th>\n",
       "      <td>t_0006d41a73a8</td>\n",
       "      <td>c_0c6473c3480d c_1c57a1316568 c_5e375cf14c47 c...</td>\n",
       "    </tr>\n",
       "    <tr>\n",
       "      <th>4</th>\n",
       "      <td>t_4054df11a74e</td>\n",
       "      <td>c_3695c5dc1df6 c_f2d184a98231</td>\n",
       "    </tr>\n",
       "  </tbody>\n",
       "</table>\n",
       "</div>"
      ],
      "text/plain": [
       "         topic_id                                        content_ids\n",
       "0  t_00004da3a1b2  c_1108dd0c7a5d c_376c5a8eb028 c_5bc0e1e2cba0 c...\n",
       "1  t_00068291e9a4  c_639ea2ef9c95 c_89ce9367be10 c_ac1672cdcd2c c...\n",
       "2  t_00069b63a70a                                     c_11a1dc0bfb99\n",
       "3  t_0006d41a73a8  c_0c6473c3480d c_1c57a1316568 c_5e375cf14c47 c...\n",
       "4  t_4054df11a74e                      c_3695c5dc1df6 c_f2d184a98231"
      ]
     },
     "execution_count": 33,
     "metadata": {},
     "output_type": "execute_result"
    }
   ],
   "source": [
    "# This is just a sample submission, in the test enviornment we need to generate it with test data, test data will have new content.csv and topic.csv but correlation.csv will be the same\n",
    "sample_sub"
   ]
  },
  {
   "cell_type": "markdown",
   "id": "e31c024f-a67c-4d36-acf9-ab1ba79b3b0b",
   "metadata": {},
   "source": [
    "## Content & topics\n",
    "\n",
    "- merge content and topic by using correlation dataframe, see whether any feature correlation between 2 datasets"
   ]
  },
  {
   "cell_type": "code",
   "execution_count": 34,
   "id": "989411d2-d837-4836-9bbd-a844e4188748",
   "metadata": {},
   "outputs": [
    {
     "name": "stdout",
     "output_type": "stream",
     "text": [
      "CPU times: user 47.2 ms, sys: 15.7 ms, total: 62.9 ms\n",
      "Wall time: 81.8 ms\n"
     ]
    },
    {
     "data": {
      "text/html": [
       "<div>\n",
       "<style scoped>\n",
       "    .dataframe tbody tr th:only-of-type {\n",
       "        vertical-align: middle;\n",
       "    }\n",
       "\n",
       "    .dataframe tbody tr th {\n",
       "        vertical-align: top;\n",
       "    }\n",
       "\n",
       "    .dataframe thead th {\n",
       "        text-align: right;\n",
       "    }\n",
       "</style>\n",
       "<table border=\"1\" class=\"dataframe\">\n",
       "  <thead>\n",
       "    <tr style=\"text-align: right;\">\n",
       "      <th></th>\n",
       "      <th>topic_id</th>\n",
       "      <th>content_id</th>\n",
       "      <th>number_of_content_ids</th>\n",
       "    </tr>\n",
       "  </thead>\n",
       "  <tbody>\n",
       "    <tr>\n",
       "      <th>0</th>\n",
       "      <td>t_00004da3a1b2</td>\n",
       "      <td>c_1108dd0c7a5d</td>\n",
       "      <td>4</td>\n",
       "    </tr>\n",
       "    <tr>\n",
       "      <th>0</th>\n",
       "      <td>t_00004da3a1b2</td>\n",
       "      <td>c_376c5a8eb028</td>\n",
       "      <td>4</td>\n",
       "    </tr>\n",
       "    <tr>\n",
       "      <th>0</th>\n",
       "      <td>t_00004da3a1b2</td>\n",
       "      <td>c_5bc0e1e2cba0</td>\n",
       "      <td>4</td>\n",
       "    </tr>\n",
       "    <tr>\n",
       "      <th>0</th>\n",
       "      <td>t_00004da3a1b2</td>\n",
       "      <td>c_76231f9d0b5e</td>\n",
       "      <td>4</td>\n",
       "    </tr>\n",
       "    <tr>\n",
       "      <th>1</th>\n",
       "      <td>t_00068291e9a4</td>\n",
       "      <td>c_639ea2ef9c95</td>\n",
       "      <td>4</td>\n",
       "    </tr>\n",
       "  </tbody>\n",
       "</table>\n",
       "</div>"
      ],
      "text/plain": [
       "         topic_id      content_id  number_of_content_ids\n",
       "0  t_00004da3a1b2  c_1108dd0c7a5d                      4\n",
       "0  t_00004da3a1b2  c_376c5a8eb028                      4\n",
       "0  t_00004da3a1b2  c_5bc0e1e2cba0                      4\n",
       "0  t_00004da3a1b2  c_76231f9d0b5e                      4\n",
       "1  t_00068291e9a4  c_639ea2ef9c95                      4"
      ]
     },
     "execution_count": 34,
     "metadata": {},
     "output_type": "execute_result"
    }
   ],
   "source": [
    "%%time\n",
    "# explode column content_ids -> convert to list -> explode from signle row to multiple rows\n",
    "correlations['content_id'] = correlations['content_ids'].apply(lambda x : str(x).split(' '))\n",
    "correlations = correlations.explode('content_id')\n",
    "correlations = correlations[['topic_id', 'content_id', 'number_of_content_ids']]\n",
    "correlations.head()"
   ]
  },
  {
   "cell_type": "code",
   "execution_count": 35,
   "id": "75e37be8-dd2f-49f2-b603-ae856489849d",
   "metadata": {},
   "outputs": [
    {
     "name": "stdout",
     "output_type": "stream",
     "text": [
      "CPU times: user 159 ms, sys: 28.5 ms, total: 187 ms\n",
      "Wall time: 187 ms\n"
     ]
    },
    {
     "data": {
      "text/html": [
       "<div>\n",
       "<style scoped>\n",
       "    .dataframe tbody tr th:only-of-type {\n",
       "        vertical-align: middle;\n",
       "    }\n",
       "\n",
       "    .dataframe tbody tr th {\n",
       "        vertical-align: top;\n",
       "    }\n",
       "\n",
       "    .dataframe thead th {\n",
       "        text-align: right;\n",
       "    }\n",
       "</style>\n",
       "<table border=\"1\" class=\"dataframe\">\n",
       "  <thead>\n",
       "    <tr style=\"text-align: right;\">\n",
       "      <th></th>\n",
       "      <th>topic_id</th>\n",
       "      <th>content_id</th>\n",
       "      <th>number_of_content_ids</th>\n",
       "      <th>topic_title</th>\n",
       "      <th>topic_description</th>\n",
       "      <th>topic_channel</th>\n",
       "      <th>topic_category</th>\n",
       "      <th>topic_level</th>\n",
       "      <th>topic_language</th>\n",
       "      <th>topic_parent</th>\n",
       "      <th>...</th>\n",
       "      <th>topic_no_of_words_in_desc</th>\n",
       "      <th>content_title</th>\n",
       "      <th>content_description</th>\n",
       "      <th>content_kind</th>\n",
       "      <th>content_text</th>\n",
       "      <th>content_language</th>\n",
       "      <th>content_copyright_holder</th>\n",
       "      <th>content_license</th>\n",
       "      <th>content_no_of_words_in_title</th>\n",
       "      <th>content_no_of_words_in_desc</th>\n",
       "    </tr>\n",
       "  </thead>\n",
       "  <tbody>\n",
       "    <tr>\n",
       "      <th>0</th>\n",
       "      <td>t_00004da3a1b2</td>\n",
       "      <td>c_1108dd0c7a5d</td>\n",
       "      <td>4</td>\n",
       "      <td>Откриването на резисторите</td>\n",
       "      <td>Изследване на материали, които предизвикват на...</td>\n",
       "      <td>000cf7</td>\n",
       "      <td>source</td>\n",
       "      <td>4</td>\n",
       "      <td>bg</td>\n",
       "      <td>t_16e29365b50d</td>\n",
       "      <td>...</td>\n",
       "      <td>17</td>\n",
       "      <td>Молив като резистор</td>\n",
       "      <td>Моливът причинява промяна в отклонението, подо...</td>\n",
       "      <td>video</td>\n",
       "      <td>NaN</td>\n",
       "      <td>bg</td>\n",
       "      <td>NaN</td>\n",
       "      <td>NaN</td>\n",
       "      <td>3</td>\n",
       "      <td>12</td>\n",
       "    </tr>\n",
       "    <tr>\n",
       "      <th>1</th>\n",
       "      <td>t_00004da3a1b2</td>\n",
       "      <td>c_376c5a8eb028</td>\n",
       "      <td>4</td>\n",
       "      <td>Откриването на резисторите</td>\n",
       "      <td>Изследване на материали, които предизвикват на...</td>\n",
       "      <td>000cf7</td>\n",
       "      <td>source</td>\n",
       "      <td>4</td>\n",
       "      <td>bg</td>\n",
       "      <td>t_16e29365b50d</td>\n",
       "      <td>...</td>\n",
       "      <td>17</td>\n",
       "      <td>Да чуем променливото съпротивление</td>\n",
       "      <td>Тук чертаем линия на лист хартия и я използвам...</td>\n",
       "      <td>video</td>\n",
       "      <td>NaN</td>\n",
       "      <td>bg</td>\n",
       "      <td>NaN</td>\n",
       "      <td>NaN</td>\n",
       "      <td>4</td>\n",
       "      <td>22</td>\n",
       "    </tr>\n",
       "    <tr>\n",
       "      <th>2</th>\n",
       "      <td>t_00004da3a1b2</td>\n",
       "      <td>c_5bc0e1e2cba0</td>\n",
       "      <td>4</td>\n",
       "      <td>Откриването на резисторите</td>\n",
       "      <td>Изследване на материали, които предизвикват на...</td>\n",
       "      <td>000cf7</td>\n",
       "      <td>source</td>\n",
       "      <td>4</td>\n",
       "      <td>bg</td>\n",
       "      <td>t_16e29365b50d</td>\n",
       "      <td>...</td>\n",
       "      <td>17</td>\n",
       "      <td>Променлив резистор (реостат) с графит от молив</td>\n",
       "      <td>Използваме сърцевината на молива (неговия граф...</td>\n",
       "      <td>video</td>\n",
       "      <td>NaN</td>\n",
       "      <td>bg</td>\n",
       "      <td>NaN</td>\n",
       "      <td>NaN</td>\n",
       "      <td>7</td>\n",
       "      <td>23</td>\n",
       "    </tr>\n",
       "  </tbody>\n",
       "</table>\n",
       "<p>3 rows × 22 columns</p>\n",
       "</div>"
      ],
      "text/plain": [
       "         topic_id      content_id  number_of_content_ids  \\\n",
       "0  t_00004da3a1b2  c_1108dd0c7a5d                      4   \n",
       "1  t_00004da3a1b2  c_376c5a8eb028                      4   \n",
       "2  t_00004da3a1b2  c_5bc0e1e2cba0                      4   \n",
       "\n",
       "                  topic_title  \\\n",
       "0  Откриването на резисторите   \n",
       "1  Откриването на резисторите   \n",
       "2  Откриването на резисторите   \n",
       "\n",
       "                                   topic_description topic_channel  \\\n",
       "0  Изследване на материали, които предизвикват на...        000cf7   \n",
       "1  Изследване на материали, които предизвикват на...        000cf7   \n",
       "2  Изследване на материали, които предизвикват на...        000cf7   \n",
       "\n",
       "  topic_category  topic_level topic_language    topic_parent  ...  \\\n",
       "0         source            4             bg  t_16e29365b50d  ...   \n",
       "1         source            4             bg  t_16e29365b50d  ...   \n",
       "2         source            4             bg  t_16e29365b50d  ...   \n",
       "\n",
       "   topic_no_of_words_in_desc                                   content_title  \\\n",
       "0                         17                             Молив като резистор   \n",
       "1                         17              Да чуем променливото съпротивление   \n",
       "2                         17  Променлив резистор (реостат) с графит от молив   \n",
       "\n",
       "                                 content_description content_kind  \\\n",
       "0  Моливът причинява промяна в отклонението, подо...        video   \n",
       "1  Тук чертаем линия на лист хартия и я използвам...        video   \n",
       "2  Използваме сърцевината на молива (неговия граф...        video   \n",
       "\n",
       "  content_text content_language content_copyright_holder content_license  \\\n",
       "0          NaN               bg                      NaN             NaN   \n",
       "1          NaN               bg                      NaN             NaN   \n",
       "2          NaN               bg                      NaN             NaN   \n",
       "\n",
       "  content_no_of_words_in_title content_no_of_words_in_desc  \n",
       "0                            3                          12  \n",
       "1                            4                          22  \n",
       "2                            7                          23  \n",
       "\n",
       "[3 rows x 22 columns]"
      ]
     },
     "execution_count": 35,
     "metadata": {},
     "output_type": "execute_result"
    }
   ],
   "source": [
    "%%time\n",
    "# rename columns before join\n",
    "topics.columns = ['topic_id', 'topic_title', 'topic_description', 'topic_channel', 'topic_category', 'topic_level', 'topic_language', 'topic_parent', 'topic_has_content', 'topic_no_of_words_in_title', 'topic_no_of_words_in_desc']\n",
    "\n",
    "# renmae columns before join\n",
    "contents.columns = ['content_id', 'content_title', 'content_description', 'content_kind', 'content_text', 'content_language', 'content_copyright_holder', 'content_license', 'content_no_of_words_in_title', 'content_no_of_words_in_desc']\n",
    "\n",
    "# join with topic.csv and content.csv\n",
    "corr = pd.merge(correlations, topics, on=['topic_id'], how='left')\n",
    "corr = pd.merge(corr, contents, on=['content_id'], how='left')\n",
    "\n",
    "# drop uncessary columns\n",
    "corr.drop(columns=['content_copyright_holder', 'content_license'])\n",
    "\n",
    "corr.head(3)"
   ]
  },
  {
   "cell_type": "markdown",
   "id": "fb22c121-a3f8-42b3-949c-ac9020162d2b",
   "metadata": {},
   "source": [
    "### check whether paired topic and content have the same language\n",
    "\n",
    "#### Factor\n",
    "- over 99% pairs have the same language, so language could be hard rule or a feature in your model\n",
    "- most different language pair have English which is also make sense since this is most popular language in the world"
   ]
  },
  {
   "cell_type": "code",
   "execution_count": 36,
   "id": "bcb1563c-1fcc-414b-a900-ab35dcf80281",
   "metadata": {},
   "outputs": [
    {
     "name": "stdout",
     "output_type": "stream",
     "text": [
      "Number of 278833 pairs have same language \n",
      "Number of 1086 pairs have different language \n",
      "CPU times: user 77.4 ms, sys: 24.3 ms, total: 102 ms\n",
      "Wall time: 101 ms\n"
     ]
    }
   ],
   "source": [
    "%%time\n",
    "# check whether topic and content have the same language\n",
    "print(f\"Number of {len(corr.loc[corr['topic_language'] == corr['content_language']])} pairs have same language \")\n",
    "print(f\"Number of {len(corr.loc[corr['topic_language'] != corr['content_language']])} pairs have different language \")"
   ]
  },
  {
   "cell_type": "code",
   "execution_count": 37,
   "id": "1f531f55-9725-40d1-b6b3-4e329de13e32",
   "metadata": {},
   "outputs": [
    {
     "data": {
      "text/html": [
       "<div>\n",
       "<style scoped>\n",
       "    .dataframe tbody tr th:only-of-type {\n",
       "        vertical-align: middle;\n",
       "    }\n",
       "\n",
       "    .dataframe tbody tr th {\n",
       "        vertical-align: top;\n",
       "    }\n",
       "\n",
       "    .dataframe thead th {\n",
       "        text-align: right;\n",
       "    }\n",
       "</style>\n",
       "<table border=\"1\" class=\"dataframe\">\n",
       "  <thead>\n",
       "    <tr style=\"text-align: right;\">\n",
       "      <th></th>\n",
       "      <th>topic_language</th>\n",
       "      <th>content_language</th>\n",
       "    </tr>\n",
       "  </thead>\n",
       "  <tbody>\n",
       "    <tr>\n",
       "      <th>918</th>\n",
       "      <td>es</td>\n",
       "      <td>en</td>\n",
       "    </tr>\n",
       "    <tr>\n",
       "      <th>1063</th>\n",
       "      <td>en</td>\n",
       "      <td>zh</td>\n",
       "    </tr>\n",
       "    <tr>\n",
       "      <th>2736</th>\n",
       "      <td>ar</td>\n",
       "      <td>en</td>\n",
       "    </tr>\n",
       "    <tr>\n",
       "      <th>3933</th>\n",
       "      <td>en</td>\n",
       "      <td>ar</td>\n",
       "    </tr>\n",
       "    <tr>\n",
       "      <th>3934</th>\n",
       "      <td>en</td>\n",
       "      <td>pt</td>\n",
       "    </tr>\n",
       "    <tr>\n",
       "      <th>6961</th>\n",
       "      <td>hi</td>\n",
       "      <td>en</td>\n",
       "    </tr>\n",
       "    <tr>\n",
       "      <th>12931</th>\n",
       "      <td>en</td>\n",
       "      <td>kn</td>\n",
       "    </tr>\n",
       "    <tr>\n",
       "      <th>16225</th>\n",
       "      <td>en</td>\n",
       "      <td>es</td>\n",
       "    </tr>\n",
       "    <tr>\n",
       "      <th>38768</th>\n",
       "      <td>en</td>\n",
       "      <td>hi</td>\n",
       "    </tr>\n",
       "    <tr>\n",
       "      <th>42788</th>\n",
       "      <td>en</td>\n",
       "      <td>ur</td>\n",
       "    </tr>\n",
       "    <tr>\n",
       "      <th>169988</th>\n",
       "      <td>mr</td>\n",
       "      <td>hi</td>\n",
       "    </tr>\n",
       "    <tr>\n",
       "      <th>276689</th>\n",
       "      <td>es</td>\n",
       "      <td>ar</td>\n",
       "    </tr>\n",
       "    <tr>\n",
       "      <th>276692</th>\n",
       "      <td>es</td>\n",
       "      <td>pt</td>\n",
       "    </tr>\n",
       "  </tbody>\n",
       "</table>\n",
       "</div>"
      ],
      "text/plain": [
       "       topic_language content_language\n",
       "918                es               en\n",
       "1063               en               zh\n",
       "2736               ar               en\n",
       "3933               en               ar\n",
       "3934               en               pt\n",
       "6961               hi               en\n",
       "12931              en               kn\n",
       "16225              en               es\n",
       "38768              en               hi\n",
       "42788              en               ur\n",
       "169988             mr               hi\n",
       "276689             es               ar\n",
       "276692             es               pt"
      ]
     },
     "execution_count": 37,
     "metadata": {},
     "output_type": "execute_result"
    }
   ],
   "source": [
    "# display correlation have different language pair\n",
    "corr.loc[corr['topic_language'] != corr['content_language']][['topic_language', 'content_language']].drop_duplicates()"
   ]
  },
  {
   "cell_type": "markdown",
   "id": "4b8c52f9-eb2d-4cd5-a9da-d6d9ec62f6e3",
   "metadata": {},
   "source": [
    "### Check whether any word overlap between topic and content\n",
    "\n",
    "#### Factor\n",
    "- There are not too much word overlap between paired topic and content hence for most of data we need to rely on language model\n",
    "- But there do have some exceptions, we can some topic and content overlapped is 24 words in topic and 288 words in desc - so maybe a rule can be setup before modeling -> if any overlap words > 50% treat this content should under this topic"
   ]
  },
  {
   "cell_type": "code",
   "execution_count": 38,
   "id": "445e6022-3e37-4a4d-9d8d-8f640534d8aa",
   "metadata": {},
   "outputs": [],
   "source": [
    "def word_overlap(r):\n",
    "    \n",
    "    topic_title = str(r['topic_title']).split(' ')\n",
    "    topic_description = str(r['topic_description']).split(' ')\n",
    "    content_title = str(r['content_title']).split(' ')\n",
    "    content_description = str(r['content_description']).split(' ')\n",
    "    \n",
    "    topic_overlap = set(topic_title).intersection(set(content_title))\n",
    "    desc_overlap = set(topic_description).intersection(set(content_description))\n",
    "    \n",
    "    return [list(topic_overlap), len(topic_overlap), list(desc_overlap), len(desc_overlap)]\n",
    "    "
   ]
  },
  {
   "cell_type": "code",
   "execution_count": 39,
   "id": "bdcc5035-9a64-4405-b481-87a147e4e25b",
   "metadata": {},
   "outputs": [
    {
     "name": "stdout",
     "output_type": "stream",
     "text": [
      "CPU times: user 4.28 s, sys: 46.8 ms, total: 4.32 s\n",
      "Wall time: 4.32 s\n"
     ]
    },
    {
     "data": {
      "text/html": [
       "<div>\n",
       "<style scoped>\n",
       "    .dataframe tbody tr th:only-of-type {\n",
       "        vertical-align: middle;\n",
       "    }\n",
       "\n",
       "    .dataframe tbody tr th {\n",
       "        vertical-align: top;\n",
       "    }\n",
       "\n",
       "    .dataframe thead th {\n",
       "        text-align: right;\n",
       "    }\n",
       "</style>\n",
       "<table border=\"1\" class=\"dataframe\">\n",
       "  <thead>\n",
       "    <tr style=\"text-align: right;\">\n",
       "      <th></th>\n",
       "      <th>title_overlap_words</th>\n",
       "      <th>no_of_title_overlapped</th>\n",
       "      <th>desc_overlap_words</th>\n",
       "      <th>no_of_content_overlapped</th>\n",
       "    </tr>\n",
       "  </thead>\n",
       "  <tbody>\n",
       "    <tr>\n",
       "      <th>0</th>\n",
       "      <td>[]</td>\n",
       "      <td>0</td>\n",
       "      <td>[в, отклонението,, на]</td>\n",
       "      <td>3</td>\n",
       "    </tr>\n",
       "    <tr>\n",
       "      <th>1</th>\n",
       "      <td>[]</td>\n",
       "      <td>0</td>\n",
       "      <td>[с, на]</td>\n",
       "      <td>2</td>\n",
       "    </tr>\n",
       "    <tr>\n",
       "      <th>2</th>\n",
       "      <td>[]</td>\n",
       "      <td>0</td>\n",
       "      <td>[на]</td>\n",
       "      <td>1</td>\n",
       "    </tr>\n",
       "    <tr>\n",
       "      <th>3</th>\n",
       "      <td>[на]</td>\n",
       "      <td>1</td>\n",
       "      <td>[когато, на, се]</td>\n",
       "      <td>3</td>\n",
       "    </tr>\n",
       "    <tr>\n",
       "      <th>4</th>\n",
       "      <td>[de, e]</td>\n",
       "      <td>2</td>\n",
       "      <td>[]</td>\n",
       "      <td>0</td>\n",
       "    </tr>\n",
       "    <tr>\n",
       "      <th>...</th>\n",
       "      <td>...</td>\n",
       "      <td>...</td>\n",
       "      <td>...</td>\n",
       "      <td>...</td>\n",
       "    </tr>\n",
       "    <tr>\n",
       "      <th>279914</th>\n",
       "      <td>[El, periódico]</td>\n",
       "      <td>2</td>\n",
       "      <td>[nan]</td>\n",
       "      <td>1</td>\n",
       "    </tr>\n",
       "    <tr>\n",
       "      <th>279915</th>\n",
       "      <td>[]</td>\n",
       "      <td>0</td>\n",
       "      <td>[inscribed]</td>\n",
       "      <td>1</td>\n",
       "    </tr>\n",
       "    <tr>\n",
       "      <th>279916</th>\n",
       "      <td>[]</td>\n",
       "      <td>0</td>\n",
       "      <td>[of]</td>\n",
       "      <td>1</td>\n",
       "    </tr>\n",
       "    <tr>\n",
       "      <th>279917</th>\n",
       "      <td>[]</td>\n",
       "      <td>0</td>\n",
       "      <td>[nan]</td>\n",
       "      <td>1</td>\n",
       "    </tr>\n",
       "    <tr>\n",
       "      <th>279918</th>\n",
       "      <td>[]</td>\n",
       "      <td>0</td>\n",
       "      <td>[]</td>\n",
       "      <td>0</td>\n",
       "    </tr>\n",
       "  </tbody>\n",
       "</table>\n",
       "<p>279919 rows × 4 columns</p>\n",
       "</div>"
      ],
      "text/plain": [
       "       title_overlap_words  no_of_title_overlapped      desc_overlap_words  \\\n",
       "0                       []                       0  [в, отклонението,, на]   \n",
       "1                       []                       0                 [с, на]   \n",
       "2                       []                       0                    [на]   \n",
       "3                     [на]                       1        [когато, на, се]   \n",
       "4                  [de, e]                       2                      []   \n",
       "...                    ...                     ...                     ...   \n",
       "279914     [El, periódico]                       2                   [nan]   \n",
       "279915                  []                       0             [inscribed]   \n",
       "279916                  []                       0                    [of]   \n",
       "279917                  []                       0                   [nan]   \n",
       "279918                  []                       0                      []   \n",
       "\n",
       "        no_of_content_overlapped  \n",
       "0                              3  \n",
       "1                              2  \n",
       "2                              1  \n",
       "3                              3  \n",
       "4                              0  \n",
       "...                          ...  \n",
       "279914                         1  \n",
       "279915                         1  \n",
       "279916                         1  \n",
       "279917                         1  \n",
       "279918                         0  \n",
       "\n",
       "[279919 rows x 4 columns]"
      ]
     },
     "execution_count": 39,
     "metadata": {},
     "output_type": "execute_result"
    }
   ],
   "source": [
    "%%time\n",
    "world_overlap = corr.apply(lambda row : word_overlap(row), axis=1, result_type='expand').reset_index().drop(columns=['index'])\n",
    "world_overlap.columns = ['title_overlap_words', 'no_of_title_overlapped', 'desc_overlap_words', 'no_of_content_overlapped']\n",
    "world_overlap"
   ]
  },
  {
   "cell_type": "code",
   "execution_count": 40,
   "id": "ee0dc88b-f6d6-4290-a901-b843bd7e919a",
   "metadata": {},
   "outputs": [
    {
     "data": {
      "text/html": [
       "<div>\n",
       "<style scoped>\n",
       "    .dataframe tbody tr th:only-of-type {\n",
       "        vertical-align: middle;\n",
       "    }\n",
       "\n",
       "    .dataframe tbody tr th {\n",
       "        vertical-align: top;\n",
       "    }\n",
       "\n",
       "    .dataframe thead th {\n",
       "        text-align: right;\n",
       "    }\n",
       "</style>\n",
       "<table border=\"1\" class=\"dataframe\">\n",
       "  <thead>\n",
       "    <tr style=\"text-align: right;\">\n",
       "      <th></th>\n",
       "      <th>count</th>\n",
       "      <th>mean</th>\n",
       "      <th>std</th>\n",
       "      <th>min</th>\n",
       "      <th>25%</th>\n",
       "      <th>50%</th>\n",
       "      <th>75%</th>\n",
       "      <th>max</th>\n",
       "    </tr>\n",
       "  </thead>\n",
       "  <tbody>\n",
       "    <tr>\n",
       "      <th>no_of_title_overlapped</th>\n",
       "      <td>279919.0</td>\n",
       "      <td>1.135579</td>\n",
       "      <td>1.708434</td>\n",
       "      <td>0.0</td>\n",
       "      <td>0.0</td>\n",
       "      <td>0.0</td>\n",
       "      <td>2.0</td>\n",
       "      <td>24.0</td>\n",
       "    </tr>\n",
       "    <tr>\n",
       "      <th>no_of_content_overlapped</th>\n",
       "      <td>279919.0</td>\n",
       "      <td>1.564678</td>\n",
       "      <td>5.126405</td>\n",
       "      <td>0.0</td>\n",
       "      <td>0.0</td>\n",
       "      <td>1.0</td>\n",
       "      <td>2.0</td>\n",
       "      <td>288.0</td>\n",
       "    </tr>\n",
       "  </tbody>\n",
       "</table>\n",
       "</div>"
      ],
      "text/plain": [
       "                             count      mean       std  min  25%  50%  75%  \\\n",
       "no_of_title_overlapped    279919.0  1.135579  1.708434  0.0  0.0  0.0  2.0   \n",
       "no_of_content_overlapped  279919.0  1.564678  5.126405  0.0  0.0  1.0  2.0   \n",
       "\n",
       "                            max  \n",
       "no_of_title_overlapped     24.0  \n",
       "no_of_content_overlapped  288.0  "
      ]
     },
     "execution_count": 40,
     "metadata": {},
     "output_type": "execute_result"
    }
   ],
   "source": [
    "world_overlap.describe().T"
   ]
  },
  {
   "cell_type": "code",
   "execution_count": null,
   "id": "9194b602-999f-46a4-86a0-b149e4e569ef",
   "metadata": {},
   "outputs": [],
   "source": []
  }
 ],
 "metadata": {
  "kernelspec": {
   "display_name": "Python 3 (ipykernel)",
   "language": "python",
   "name": "python3"
  },
  "language_info": {
   "codemirror_mode": {
    "name": "ipython",
    "version": 3
   },
   "file_extension": ".py",
   "mimetype": "text/x-python",
   "name": "python",
   "nbconvert_exporter": "python",
   "pygments_lexer": "ipython3",
   "version": "3.9.16"
  }
 },
 "nbformat": 4,
 "nbformat_minor": 5
}
