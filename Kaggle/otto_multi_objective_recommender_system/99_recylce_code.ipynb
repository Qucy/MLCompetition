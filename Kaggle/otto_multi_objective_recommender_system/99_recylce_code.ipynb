{
 "cells": [
  {
   "cell_type": "code",
   "execution_count": null,
   "id": "7e7628f9-6574-45be-9c8e-9cb4a58b7f43",
   "metadata": {},
   "outputs": [],
   "source": [
    "# %%time\n",
    "# # item feature - is ordered item has been clicked or put into carts before\n",
    "# # one obersavtion is that clicked or carted items are more likely to be purchased\n",
    "# df_order = (\n",
    "#     df.filter(\n",
    "#         pl.col('type') == 2\n",
    "#     )\n",
    "#     .select(\n",
    "#         pl.col(['session', 'aid'])\n",
    "#     )\n",
    "# )\n",
    "\n",
    "# df_cart = (\n",
    "#     df.filter(\n",
    "#         pl.col('type') == 1\n",
    "#     )\n",
    "#     .with_column(\n",
    "#         pl.lit(1).cast(pl.Int8).alias('is_carted')\n",
    "#     )\n",
    "#     .select(\n",
    "#         pl.col(['session', 'aid', 'is_carted'])\n",
    "#     )\n",
    "# )\n",
    "\n",
    "# df_click = (\n",
    "#     df.filter(\n",
    "#         pl.col('type') == 0\n",
    "#     )\n",
    "#     .with_column(\n",
    "#         pl.lit(1).cast(pl.Int8).alias('is_clicked')\n",
    "#     )\n",
    "#     .select(\n",
    "#         pl.col(['session', 'aid', 'is_clicked'])\n",
    "#     )\n",
    "# )\n",
    "\n",
    "# # left join order dataframe with cart dataframe\n",
    "# item_order_interactions = (\n",
    "#     df_order.join(\n",
    "#         df_cart,\n",
    "#         on=['session', 'aid'],\n",
    "#         how='left'\n",
    "#     )\n",
    "#     .join(\n",
    "#         df_click,\n",
    "#         on=['session', 'aid'],\n",
    "#         how='left'\n",
    "#     )\n",
    "#     .unique(\n",
    "#         subset=['session', 'aid']\n",
    "#     )\n",
    "#     .with_columns([\n",
    "#         pl.col('is_clicked').fill_null(pl.lit(0)),\n",
    "#         pl.col('is_carted').fill_null(pl.lit(0))\n",
    "#     ])\n",
    "# )\n",
    "\n",
    "# item_order_interactions"
   ]
  },
  {
   "cell_type": "code",
   "execution_count": null,
   "id": "f7b5065e-f797-4ae9-987b-20dee36a23a9",
   "metadata": {},
   "outputs": [],
   "source": [
    "%%time\n",
    "df = (\n",
    "    df.with_column(\n",
    "        pl.when(pl.col('type') == 2).then(1).otherwise(0).alias('gt')\n",
    "    )\n",
    "    .sort(\n",
    "        by=['session', 'aid', 'type'], reverse=[False,False,True]  # sort by session, aid and type\n",
    "    )\n",
    "    .unique(\n",
    "        subset=['session', 'aid'], keep='first' # only keep the type == order as positive label\n",
    "    )\n",
    ")\n",
    "df.head(3)"
   ]
  },
  {
   "cell_type": "code",
   "execution_count": null,
   "id": "397709ed-977a-47a8-b6bc-1069124e93bd",
   "metadata": {},
   "outputs": [],
   "source": [
    "# retrieve df carts and orders\n",
    "df_down_sampled = (\n",
    "    df.filter(\n",
    "        # (pl.col('u_orders') > 0) | (pl.col('u_carts') > 0) # only keep data if # order and # cart greater than 0 \n",
    "        pl.col('u_orders') > 0 # only keep data if # order > 0\n",
    "    )\n",
    ")\n",
    "df_down_sampled"
   ]
  },
  {
   "cell_type": "code",
   "execution_count": null,
   "id": "dc08eef7-ddfb-49e7-aa49-d580d5fdba8e",
   "metadata": {},
   "outputs": [],
   "source": []
  }
 ],
 "metadata": {
  "kernelspec": {
   "display_name": "Python 3 (ipykernel)",
   "language": "python",
   "name": "python3"
  },
  "language_info": {
   "codemirror_mode": {
    "name": "ipython",
    "version": 3
   },
   "file_extension": ".py",
   "mimetype": "text/x-python",
   "name": "python",
   "nbconvert_exporter": "python",
   "pygments_lexer": "ipython3",
   "version": "3.9.16"
  }
 },
 "nbformat": 4,
 "nbformat_minor": 5
}
