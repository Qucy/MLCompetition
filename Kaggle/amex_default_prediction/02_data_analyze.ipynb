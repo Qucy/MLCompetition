{
 "cells": [
  {
   "cell_type": "code",
   "execution_count": 1,
   "id": "936de908",
   "metadata": {},
   "outputs": [],
   "source": [
    "import pandas as pd\n",
    "import numpy as np\n",
    "import gc\n",
    "from matplotlib import pyplot as plt\n",
    "import seaborn as sns\n",
    "%matplotlib inline"
   ]
  },
  {
   "cell_type": "markdown",
   "id": "76b45e89",
   "metadata": {},
   "source": [
    "### 1 - Labels\n",
    "\n",
    "- 458913 labels, no NA values and duplicated customer IDs\n",
    "- 0 stands for good customer(no default), 1 stands for bad customer(default)\n",
    "- 340,085 good customers and 118,828 bad customers in our dataset\n",
    "- After up sampling 20x for good customer, in the real scenario around 98.2% is good customer and 1.71% are bad customer\n",
    "\n",
    "#### insights\n",
    "- The classes are imbalanced. A StratifiedKFold for cross-validation is recommended.\n",
    "- Because the classes are imbalanced, accuracy would be a bad metric to evaluate a classifier. The competition metric is a mix of area under the roc curve (auc) and recall."
   ]
  },
  {
   "cell_type": "code",
   "execution_count": 2,
   "id": "67f34c13",
   "metadata": {},
   "outputs": [
    {
     "data": {
      "text/html": [
       "<div>\n",
       "<style scoped>\n",
       "    .dataframe tbody tr th:only-of-type {\n",
       "        vertical-align: middle;\n",
       "    }\n",
       "\n",
       "    .dataframe tbody tr th {\n",
       "        vertical-align: top;\n",
       "    }\n",
       "\n",
       "    .dataframe thead th {\n",
       "        text-align: right;\n",
       "    }\n",
       "</style>\n",
       "<table border=\"1\" class=\"dataframe\">\n",
       "  <thead>\n",
       "    <tr style=\"text-align: right;\">\n",
       "      <th></th>\n",
       "      <th>customer_ID</th>\n",
       "      <th>target</th>\n",
       "    </tr>\n",
       "  </thead>\n",
       "  <tbody>\n",
       "    <tr>\n",
       "      <th>0</th>\n",
       "      <td>0000099d6bd597052cdcda90ffabf56573fe9d7c79be5f...</td>\n",
       "      <td>0</td>\n",
       "    </tr>\n",
       "    <tr>\n",
       "      <th>1</th>\n",
       "      <td>00000fd6641609c6ece5454664794f0340ad84dddce9a2...</td>\n",
       "      <td>0</td>\n",
       "    </tr>\n",
       "  </tbody>\n",
       "</table>\n",
       "</div>"
      ],
      "text/plain": [
       "                                         customer_ID  target\n",
       "0  0000099d6bd597052cdcda90ffabf56573fe9d7c79be5f...       0\n",
       "1  00000fd6641609c6ece5454664794f0340ad84dddce9a2...       0"
      ]
     },
     "execution_count": 2,
     "metadata": {},
     "output_type": "execute_result"
    }
   ],
   "source": [
    "train_y = pd.read_csv('./data/amex-default-prediction/train_labels.csv')\n",
    "\n",
    "train_y.head(2)"
   ]
  },
  {
   "cell_type": "code",
   "execution_count": 3,
   "id": "75a37cd9",
   "metadata": {},
   "outputs": [
    {
     "name": "stdout",
     "output_type": "stream",
     "text": [
      "<class 'pandas.core.frame.DataFrame'>\n",
      "RangeIndex: 458913 entries, 0 to 458912\n",
      "Data columns (total 2 columns):\n",
      " #   Column       Non-Null Count   Dtype \n",
      "---  ------       --------------   ----- \n",
      " 0   customer_ID  458913 non-null  object\n",
      " 1   target       458913 non-null  int64 \n",
      "dtypes: int64(1), object(1)\n",
      "memory usage: 7.0+ MB\n"
     ]
    }
   ],
   "source": [
    "train_y.info()"
   ]
  },
  {
   "cell_type": "code",
   "execution_count": 4,
   "id": "cb37d8c7",
   "metadata": {},
   "outputs": [
    {
     "data": {
      "text/plain": [
       "False"
      ]
     },
     "execution_count": 4,
     "metadata": {},
     "output_type": "execute_result"
    }
   ],
   "source": [
    "train_y.customer_ID.duplicated().any()"
   ]
  },
  {
   "cell_type": "code",
   "execution_count": 5,
   "id": "1ccc447c",
   "metadata": {},
   "outputs": [
    {
     "data": {
      "text/html": [
       "<div>\n",
       "<style scoped>\n",
       "    .dataframe tbody tr th:only-of-type {\n",
       "        vertical-align: middle;\n",
       "    }\n",
       "\n",
       "    .dataframe tbody tr th {\n",
       "        vertical-align: top;\n",
       "    }\n",
       "\n",
       "    .dataframe thead th {\n",
       "        text-align: right;\n",
       "    }\n",
       "</style>\n",
       "<table border=\"1\" class=\"dataframe\">\n",
       "  <thead>\n",
       "    <tr style=\"text-align: right;\">\n",
       "      <th></th>\n",
       "      <th>absolute</th>\n",
       "      <th>relative</th>\n",
       "      <th>absolute upsampled</th>\n",
       "      <th>relative upsampled</th>\n",
       "    </tr>\n",
       "  </thead>\n",
       "  <tbody>\n",
       "    <tr>\n",
       "      <th>0</th>\n",
       "      <td>340085</td>\n",
       "      <td>0.741066</td>\n",
       "      <td>6801700</td>\n",
       "      <td>0.98283</td>\n",
       "    </tr>\n",
       "    <tr>\n",
       "      <th>1</th>\n",
       "      <td>118828</td>\n",
       "      <td>0.258934</td>\n",
       "      <td>118828</td>\n",
       "      <td>0.01717</td>\n",
       "    </tr>\n",
       "  </tbody>\n",
       "</table>\n",
       "</div>"
      ],
      "text/plain": [
       "   absolute  relative  absolute upsampled  relative upsampled\n",
       "0    340085  0.741066             6801700             0.98283\n",
       "1    118828  0.258934              118828             0.01717"
      ]
     },
     "execution_count": 5,
     "metadata": {},
     "output_type": "execute_result"
    }
   ],
   "source": [
    "label_stats = pd.DataFrame({'absolute': train_y.target.value_counts(),\n",
    "                            'relative': train_y.target.value_counts() / len(train_y)})\n",
    "label_stats['absolute upsampled'] =  label_stats.absolute * np.array([20, 1])\n",
    "label_stats['relative upsampled'] = label_stats['absolute upsampled'] / label_stats['absolute upsampled'].sum()\n",
    "label_stats"
   ]
  },
  {
   "cell_type": "markdown",
   "id": "c26f64a9",
   "metadata": {},
   "source": [
    "## 2 - Data\n",
    "\n",
    "- The data has been resize and use feather format - training and testing are now only 2.2 ang 4.4 GB\n",
    "- Through info function we know that lots of columns have NA values\n",
    "\n",
    "\n",
    "### Insights\n",
    "- Need to be careful when play around with huge amount of data, use del and gc function if necessary\n",
    "- Need to handle NA value but using global average may not be the best solution, customer level average could be better"
   ]
  },
  {
   "cell_type": "code",
   "execution_count": 6,
   "id": "70c0195f",
   "metadata": {},
   "outputs": [
    {
     "name": "stdout",
     "output_type": "stream",
     "text": [
      "(5531451, 190) (11363762, 190)\n"
     ]
    }
   ],
   "source": [
    "# loading training and testing features\n",
    "train_x = pd.read_feather('./data/train_x.feather')\n",
    "test_x = pd.read_feather('./data/test_x.feather')\n",
    "\n",
    "print(train_x.shape, test_x.shape)"
   ]
  },
  {
   "cell_type": "code",
   "execution_count": 7,
   "id": "69b6c9b2",
   "metadata": {},
   "outputs": [
    {
     "data": {
      "text/html": [
       "<div>\n",
       "<style scoped>\n",
       "    .dataframe tbody tr th:only-of-type {\n",
       "        vertical-align: middle;\n",
       "    }\n",
       "\n",
       "    .dataframe tbody tr th {\n",
       "        vertical-align: top;\n",
       "    }\n",
       "\n",
       "    .dataframe thead th {\n",
       "        text-align: right;\n",
       "    }\n",
       "</style>\n",
       "<table border=\"1\" class=\"dataframe\">\n",
       "  <thead>\n",
       "    <tr style=\"text-align: right;\">\n",
       "      <th></th>\n",
       "      <th>customer_ID</th>\n",
       "      <th>S_2</th>\n",
       "      <th>P_2</th>\n",
       "      <th>D_39</th>\n",
       "      <th>B_1</th>\n",
       "      <th>B_2</th>\n",
       "      <th>R_1</th>\n",
       "      <th>S_3</th>\n",
       "      <th>D_41</th>\n",
       "      <th>B_3</th>\n",
       "      <th>...</th>\n",
       "      <th>D_136</th>\n",
       "      <th>D_137</th>\n",
       "      <th>D_138</th>\n",
       "      <th>D_139</th>\n",
       "      <th>D_140</th>\n",
       "      <th>D_141</th>\n",
       "      <th>D_142</th>\n",
       "      <th>D_143</th>\n",
       "      <th>D_144</th>\n",
       "      <th>D_145</th>\n",
       "    </tr>\n",
       "  </thead>\n",
       "  <tbody>\n",
       "    <tr>\n",
       "      <th>0</th>\n",
       "      <td>0000099d6bd597052cdcda90ffabf56573fe9d7c79be5f...</td>\n",
       "      <td>2017-03-09</td>\n",
       "      <td>0.938477</td>\n",
       "      <td>0.001734</td>\n",
       "      <td>0.008728</td>\n",
       "      <td>1.006836</td>\n",
       "      <td>0.009224</td>\n",
       "      <td>0.124023</td>\n",
       "      <td>0.008774</td>\n",
       "      <td>0.004707</td>\n",
       "      <td>...</td>\n",
       "      <td>NaN</td>\n",
       "      <td>NaN</td>\n",
       "      <td>NaN</td>\n",
       "      <td>0.002426</td>\n",
       "      <td>0.003706</td>\n",
       "      <td>0.003819</td>\n",
       "      <td>NaN</td>\n",
       "      <td>0.000569</td>\n",
       "      <td>0.000610</td>\n",
       "      <td>0.002674</td>\n",
       "    </tr>\n",
       "    <tr>\n",
       "      <th>1</th>\n",
       "      <td>0000099d6bd597052cdcda90ffabf56573fe9d7c79be5f...</td>\n",
       "      <td>2017-04-07</td>\n",
       "      <td>0.936523</td>\n",
       "      <td>0.005775</td>\n",
       "      <td>0.004925</td>\n",
       "      <td>1.000977</td>\n",
       "      <td>0.006153</td>\n",
       "      <td>0.126709</td>\n",
       "      <td>0.000798</td>\n",
       "      <td>0.002714</td>\n",
       "      <td>...</td>\n",
       "      <td>NaN</td>\n",
       "      <td>NaN</td>\n",
       "      <td>NaN</td>\n",
       "      <td>0.003956</td>\n",
       "      <td>0.003166</td>\n",
       "      <td>0.005032</td>\n",
       "      <td>NaN</td>\n",
       "      <td>0.009575</td>\n",
       "      <td>0.005493</td>\n",
       "      <td>0.009216</td>\n",
       "    </tr>\n",
       "  </tbody>\n",
       "</table>\n",
       "<p>2 rows × 190 columns</p>\n",
       "</div>"
      ],
      "text/plain": [
       "                                         customer_ID         S_2       P_2  \\\n",
       "0  0000099d6bd597052cdcda90ffabf56573fe9d7c79be5f...  2017-03-09  0.938477   \n",
       "1  0000099d6bd597052cdcda90ffabf56573fe9d7c79be5f...  2017-04-07  0.936523   \n",
       "\n",
       "       D_39       B_1       B_2       R_1       S_3      D_41       B_3  ...  \\\n",
       "0  0.001734  0.008728  1.006836  0.009224  0.124023  0.008774  0.004707  ...   \n",
       "1  0.005775  0.004925  1.000977  0.006153  0.126709  0.000798  0.002714  ...   \n",
       "\n",
       "   D_136  D_137  D_138     D_139     D_140     D_141  D_142     D_143  \\\n",
       "0    NaN    NaN    NaN  0.002426  0.003706  0.003819    NaN  0.000569   \n",
       "1    NaN    NaN    NaN  0.003956  0.003166  0.005032    NaN  0.009575   \n",
       "\n",
       "      D_144     D_145  \n",
       "0  0.000610  0.002674  \n",
       "1  0.005493  0.009216  \n",
       "\n",
       "[2 rows x 190 columns]"
      ]
     },
     "execution_count": 7,
     "metadata": {},
     "output_type": "execute_result"
    }
   ],
   "source": [
    "train_x.head(2)"
   ]
  },
  {
   "cell_type": "code",
   "execution_count": 8,
   "id": "c0b1ba41",
   "metadata": {},
   "outputs": [
    {
     "data": {
      "text/html": [
       "<div>\n",
       "<style scoped>\n",
       "    .dataframe tbody tr th:only-of-type {\n",
       "        vertical-align: middle;\n",
       "    }\n",
       "\n",
       "    .dataframe tbody tr th {\n",
       "        vertical-align: top;\n",
       "    }\n",
       "\n",
       "    .dataframe thead th {\n",
       "        text-align: right;\n",
       "    }\n",
       "</style>\n",
       "<table border=\"1\" class=\"dataframe\">\n",
       "  <thead>\n",
       "    <tr style=\"text-align: right;\">\n",
       "      <th></th>\n",
       "      <th>customer_ID</th>\n",
       "      <th>S_2</th>\n",
       "      <th>P_2</th>\n",
       "      <th>D_39</th>\n",
       "      <th>B_1</th>\n",
       "      <th>B_2</th>\n",
       "      <th>R_1</th>\n",
       "      <th>S_3</th>\n",
       "      <th>D_41</th>\n",
       "      <th>B_3</th>\n",
       "      <th>...</th>\n",
       "      <th>D_136</th>\n",
       "      <th>D_137</th>\n",
       "      <th>D_138</th>\n",
       "      <th>D_139</th>\n",
       "      <th>D_140</th>\n",
       "      <th>D_141</th>\n",
       "      <th>D_142</th>\n",
       "      <th>D_143</th>\n",
       "      <th>D_144</th>\n",
       "      <th>D_145</th>\n",
       "    </tr>\n",
       "  </thead>\n",
       "  <tbody>\n",
       "    <tr>\n",
       "      <th>0</th>\n",
       "      <td>00000469ba478561f23a92a868bd366de6f6527a684c9a...</td>\n",
       "      <td>2019-02-19</td>\n",
       "      <td>0.631348</td>\n",
       "      <td>0.001912</td>\n",
       "      <td>0.010727</td>\n",
       "      <td>0.814453</td>\n",
       "      <td>0.007545</td>\n",
       "      <td>0.168701</td>\n",
       "      <td>0.009972</td>\n",
       "      <td>0.002348</td>\n",
       "      <td>...</td>\n",
       "      <td>NaN</td>\n",
       "      <td>NaN</td>\n",
       "      <td>NaN</td>\n",
       "      <td>NaN</td>\n",
       "      <td>0.004669</td>\n",
       "      <td>NaN</td>\n",
       "      <td>NaN</td>\n",
       "      <td>NaN</td>\n",
       "      <td>0.008278</td>\n",
       "      <td>NaN</td>\n",
       "    </tr>\n",
       "    <tr>\n",
       "      <th>1</th>\n",
       "      <td>00000469ba478561f23a92a868bd366de6f6527a684c9a...</td>\n",
       "      <td>2019-03-25</td>\n",
       "      <td>0.586914</td>\n",
       "      <td>0.005276</td>\n",
       "      <td>0.011024</td>\n",
       "      <td>0.811035</td>\n",
       "      <td>0.001817</td>\n",
       "      <td>0.241333</td>\n",
       "      <td>0.000166</td>\n",
       "      <td>0.009132</td>\n",
       "      <td>...</td>\n",
       "      <td>NaN</td>\n",
       "      <td>NaN</td>\n",
       "      <td>NaN</td>\n",
       "      <td>0.000142</td>\n",
       "      <td>0.004940</td>\n",
       "      <td>0.009018</td>\n",
       "      <td>NaN</td>\n",
       "      <td>0.003695</td>\n",
       "      <td>0.003754</td>\n",
       "      <td>0.00146</td>\n",
       "    </tr>\n",
       "  </tbody>\n",
       "</table>\n",
       "<p>2 rows × 190 columns</p>\n",
       "</div>"
      ],
      "text/plain": [
       "                                         customer_ID         S_2       P_2  \\\n",
       "0  00000469ba478561f23a92a868bd366de6f6527a684c9a...  2019-02-19  0.631348   \n",
       "1  00000469ba478561f23a92a868bd366de6f6527a684c9a...  2019-03-25  0.586914   \n",
       "\n",
       "       D_39       B_1       B_2       R_1       S_3      D_41       B_3  ...  \\\n",
       "0  0.001912  0.010727  0.814453  0.007545  0.168701  0.009972  0.002348  ...   \n",
       "1  0.005276  0.011024  0.811035  0.001817  0.241333  0.000166  0.009132  ...   \n",
       "\n",
       "   D_136  D_137  D_138     D_139     D_140     D_141  D_142     D_143  \\\n",
       "0    NaN    NaN    NaN       NaN  0.004669       NaN    NaN       NaN   \n",
       "1    NaN    NaN    NaN  0.000142  0.004940  0.009018    NaN  0.003695   \n",
       "\n",
       "      D_144    D_145  \n",
       "0  0.008278      NaN  \n",
       "1  0.003754  0.00146  \n",
       "\n",
       "[2 rows x 190 columns]"
      ]
     },
     "execution_count": 8,
     "metadata": {},
     "output_type": "execute_result"
    }
   ],
   "source": [
    "test_x.head(2)"
   ]
  },
  {
   "cell_type": "code",
   "execution_count": 9,
   "id": "30ec2c4c",
   "metadata": {},
   "outputs": [
    {
     "name": "stdout",
     "output_type": "stream",
     "text": [
      "train x is using 2.229174881 GBytes\n",
      "test x is using 4.579596214 GBytes\n"
     ]
    }
   ],
   "source": [
    "print(f\"train x is using {train_x.memory_usage().sum() / 1e9} GBytes\")\n",
    "print(f\"test x is using {test_x.memory_usage().sum() / 1e9} GBytes\")"
   ]
  },
  {
   "cell_type": "code",
   "execution_count": 27,
   "id": "c4eb1c67",
   "metadata": {
    "scrolled": false
   },
   "outputs": [
    {
     "name": "stdout",
     "output_type": "stream",
     "text": [
      "<class 'pandas.core.frame.DataFrame'>\n",
      "RangeIndex: 5531451 entries, 0 to 5531450\n",
      "Data columns (total 190 columns):\n",
      " #    Column       Non-Null Count    Dtype  \n",
      "---   ------       --------------    -----  \n",
      " 0    customer_ID  5531451 non-null  object \n",
      " 1    S_2          5531451 non-null  object \n",
      " 2    P_2          5485466 non-null  float16\n",
      " 3    D_39         5531451 non-null  float16\n",
      " 4    B_1          5531451 non-null  float16\n",
      " 5    B_2          5529435 non-null  float16\n",
      " 6    R_1          5531451 non-null  float16\n",
      " 7    S_3          4510907 non-null  float16\n",
      " 8    D_41         5529435 non-null  float16\n",
      " 9    B_3          5529435 non-null  float16\n",
      " 10   D_42         791314 non-null   float16\n",
      " 11   D_43         3873055 non-null  float16\n",
      " 12   D_44         5257132 non-null  float16\n",
      " 13   B_4          5531451 non-null  float16\n",
      " 14   D_45         5529434 non-null  float16\n",
      " 15   B_5          5531451 non-null  float16\n",
      " 16   R_2          5531451 non-null  float16\n",
      " 17   D_46         4319752 non-null  float16\n",
      " 18   D_47         5531451 non-null  float16\n",
      " 19   D_48         4812726 non-null  float16\n",
      " 20   D_49         545534 non-null   float16\n",
      " 21   B_6          5531218 non-null  float16\n",
      " 22   B_7          5531451 non-null  float16\n",
      " 23   B_8          5509183 non-null  float16\n",
      " 24   D_50         2389049 non-null  float16\n",
      " 25   D_51         5531451 non-null  float16\n",
      " 26   B_9          5531451 non-null  float16\n",
      " 27   R_3          5531451 non-null  float16\n",
      " 28   D_52         5501888 non-null  float16\n",
      " 29   P_3          5229959 non-null  float16\n",
      " 30   B_10         5531451 non-null  float16\n",
      " 31   D_53         1446866 non-null  float16\n",
      " 32   S_5          5531451 non-null  float16\n",
      " 33   B_11         5531451 non-null  float16\n",
      " 34   S_6          5531451 non-null  float16\n",
      " 35   D_54         5529435 non-null  float16\n",
      " 36   R_4          5531451 non-null  float16\n",
      " 37   S_7          4510907 non-null  float16\n",
      " 38   B_12         5531451 non-null  float16\n",
      " 39   S_8          5531451 non-null  float16\n",
      " 40   D_55         5346648 non-null  float16\n",
      " 41   D_56         2540508 non-null  float16\n",
      " 42   B_13         5481932 non-null  float16\n",
      " 43   R_5          5531451 non-null  float16\n",
      " 44   D_58         5531451 non-null  float16\n",
      " 45   S_9          2597808 non-null  float16\n",
      " 46   B_14         5531451 non-null  float16\n",
      " 47   D_59         5424726 non-null  float16\n",
      " 48   D_60         5531451 non-null  float16\n",
      " 49   D_61         4933399 non-null  float16\n",
      " 50   B_15         5524528 non-null  float16\n",
      " 51   S_11         5531451 non-null  float16\n",
      " 52   D_62         4773290 non-null  float16\n",
      " 53   D_63         5531451 non-null  object \n",
      " 54   D_64         5314009 non-null  object \n",
      " 55   D_65         5531451 non-null  float16\n",
      " 56   B_16         5529435 non-null  float16\n",
      " 57   B_17         2393853 non-null  float16\n",
      " 58   B_18         5531451 non-null  float16\n",
      " 59   B_19         5529435 non-null  float16\n",
      " 60   D_66         623354 non-null   float16\n",
      " 61   B_20         5529435 non-null  float16\n",
      " 62   D_68         5314948 non-null  float16\n",
      " 63   S_12         5531451 non-null  float16\n",
      " 64   R_6          5531451 non-null  float16\n",
      " 65   S_13         5531451 non-null  float16\n",
      " 66   B_21         5531451 non-null  float16\n",
      " 67   D_69         5336978 non-null  float16\n",
      " 68   B_22         5529435 non-null  float16\n",
      " 69   D_70         5436534 non-null  float16\n",
      " 70   D_71         5531451 non-null  float16\n",
      " 71   D_72         5507743 non-null  float16\n",
      " 72   S_15         5531451 non-null  float16\n",
      " 73   B_23         5531451 non-null  float16\n",
      " 74   D_73         55856 non-null    float16\n",
      " 75   P_4          5531451 non-null  float16\n",
      " 76   D_74         5509678 non-null  float16\n",
      " 77   D_75         5531451 non-null  float16\n",
      " 78   D_76         622497 non-null   float16\n",
      " 79   B_24         5531451 non-null  float16\n",
      " 80   R_7          5531450 non-null  float16\n",
      " 81   D_77         3017539 non-null  float16\n",
      " 82   B_25         5524528 non-null  float16\n",
      " 83   B_26         5529435 non-null  float16\n",
      " 84   D_78         5257132 non-null  float16\n",
      " 85   D_79         5455512 non-null  float16\n",
      " 86   R_8          5531451 non-null  float16\n",
      " 87   R_9          312533 non-null   float16\n",
      " 88   S_16         5531451 non-null  float16\n",
      " 89   D_80         5509678 non-null  float16\n",
      " 90   R_10         5531451 non-null  float16\n",
      " 91   R_11         5531451 non-null  float16\n",
      " 92   B_27         5529435 non-null  float16\n",
      " 93   D_81         5505764 non-null  float16\n",
      " 94   D_82         1472837 non-null  float16\n",
      " 95   S_17         5531451 non-null  float16\n",
      " 96   R_12         5531395 non-null  float16\n",
      " 97   B_28         5531451 non-null  float16\n",
      " 98   R_13         5531451 non-null  float16\n",
      " 99   D_83         5336978 non-null  float16\n",
      " 100  R_14         5531450 non-null  float16\n",
      " 101  R_15         5531451 non-null  float16\n",
      " 102  D_84         5501888 non-null  float16\n",
      " 103  R_16         5531451 non-null  float16\n",
      " 104  B_29         381416 non-null   float16\n",
      " 105  B_30         5529435 non-null  float16\n",
      " 106  S_18         5531451 non-null  float16\n",
      " 107  D_86         5531451 non-null  float16\n",
      " 108  D_87         3865 non-null     float16\n",
      " 109  R_17         5531451 non-null  float16\n",
      " 110  R_18         5531451 non-null  float16\n",
      " 111  D_88         6004 non-null     float16\n",
      " 112  B_31         5531451 non-null  int8   \n",
      " 113  S_19         5531451 non-null  float16\n",
      " 114  R_19         5531451 non-null  float16\n",
      " 115  B_32         5531451 non-null  float16\n",
      " 116  S_20         5531451 non-null  float16\n",
      " 117  R_20         5531376 non-null  float16\n",
      " 118  R_21         5531451 non-null  float16\n",
      " 119  B_33         5529435 non-null  float16\n",
      " 120  D_89         5501888 non-null  float16\n",
      " 121  R_22         5531451 non-null  float16\n",
      " 122  R_23         5531451 non-null  float16\n",
      " 123  D_91         5374235 non-null  float16\n",
      " 124  D_92         5531451 non-null  float16\n",
      " 125  D_93         5531451 non-null  float16\n",
      " 126  D_94         5531451 non-null  float16\n",
      " 127  R_24         5531451 non-null  float16\n",
      " 128  R_25         5531451 non-null  float16\n",
      " 129  D_96         5531451 non-null  float16\n",
      " 130  S_22         5512427 non-null  float16\n",
      " 131  S_23         5531006 non-null  float16\n",
      " 132  S_24         5512858 non-null  float16\n",
      " 133  S_25         5518604 non-null  float16\n",
      " 134  S_26         5530817 non-null  float16\n",
      " 135  D_102        5490796 non-null  float16\n",
      " 136  D_103        5429903 non-null  float16\n",
      " 137  D_104        5429903 non-null  float16\n",
      " 138  D_105        2510020 non-null  float16\n",
      " 139  D_106        541349 non-null   float16\n",
      " 140  D_107        5429903 non-null  float16\n",
      " 141  B_36         5531451 non-null  float16\n",
      " 142  B_37         5531395 non-null  float16\n",
      " 143  R_26         609305 non-null   float16\n",
      " 144  R_27         5402748 non-null  float16\n",
      " 145  B_38         5529435 non-null  float16\n",
      " 146  D_108        28938 non-null    float16\n",
      " 147  D_109        5529854 non-null  float16\n",
      " 148  D_110        31334 non-null    float16\n",
      " 149  D_111        31334 non-null    float16\n",
      " 150  B_39         33632 non-null    float16\n",
      " 151  D_112        5528801 non-null  float16\n",
      " 152  B_40         5531398 non-null  float16\n",
      " 153  S_27         4130516 non-null  float16\n",
      " 154  D_113        5354735 non-null  float16\n",
      " 155  D_114        5354735 non-null  float16\n",
      " 156  D_115        5354735 non-null  float16\n",
      " 157  D_116        5354735 non-null  float16\n",
      " 158  D_117        5354735 non-null  float16\n",
      " 159  D_118        5354735 non-null  float16\n",
      " 160  D_119        5354735 non-null  float16\n",
      " 161  D_120        5354735 non-null  float16\n",
      " 162  D_121        5354735 non-null  float16\n",
      " 163  D_122        5354735 non-null  float16\n",
      " 164  D_123        5354735 non-null  float16\n",
      " 165  D_124        5354735 non-null  float16\n",
      " 166  D_125        5354735 non-null  float16\n",
      " 167  D_126        5414635 non-null  float16\n",
      " 168  D_127        5531451 non-null  float16\n",
      " 169  D_128        5429903 non-null  float16\n",
      " 170  D_129        5429903 non-null  float16\n",
      " 171  B_41         5530761 non-null  float16\n",
      " 172  B_42         71478 non-null    float16\n",
      " 173  D_130        5429903 non-null  float16\n",
      " 174  D_131        5429903 non-null  float16\n",
      " 175  D_132        542577 non-null   float16\n",
      " 176  D_133        5488735 non-null  float16\n",
      " 177  R_28         5531451 non-null  float16\n",
      " 178  D_134        194699 non-null   float16\n",
      " 179  D_135        194699 non-null   float16\n",
      " 180  D_136        194699 non-null   float16\n",
      " 181  D_137        194699 non-null   float16\n",
      " 182  D_138        194699 non-null   float16\n",
      " 183  D_139        5429903 non-null  float16\n",
      " 184  D_140        5490819 non-null  float16\n",
      " 185  D_141        5429903 non-null  float16\n",
      " 186  D_142        944408 non-null   float16\n",
      " 187  D_143        5429903 non-null  float16\n",
      " 188  D_144        5490724 non-null  float16\n",
      " 189  D_145        5429903 non-null  float16\n",
      "dtypes: float16(185), int8(1), object(4)\n",
      "memory usage: 2.1+ GB\n"
     ]
    }
   ],
   "source": [
    "train_x.info(max_cols=200, show_counts=True)"
   ]
  },
  {
   "cell_type": "markdown",
   "id": "594a871f",
   "metadata": {},
   "source": [
    "### 2.1 Date columns\n",
    "\n",
    "### Fact\n",
    "- S_2 is date columns stands for when the statement is happen\n",
    "- No NA value for date column(S_2) - according previous dataframe info\n",
    "- Train date start from 2017-03-01 to 2018-03-31, 13 months\n",
    "- Test date start from 2018-04-01 to 2019-10-31, 19 months\n"
   ]
  },
  {
   "cell_type": "code",
   "execution_count": 28,
   "id": "bfeae76d",
   "metadata": {},
   "outputs": [
    {
     "name": "stdout",
     "output_type": "stream",
     "text": [
      "train_x date is from 2017-03-01 to 2018-03-31\n",
      "test_x date is from 2018-04-01 to 2019-10-31\n"
     ]
    }
   ],
   "source": [
    "print(f\"train_x date is from {train_x.S_2.min()} to {train_x.S_2.max()}\")\n",
    "print(f\"test_x date is from {test_x.S_2.min()} to {test_x.S_2.max()}\")"
   ]
  },
  {
   "cell_type": "markdown",
   "id": "725c40d8",
   "metadata": {},
   "source": [
    "### Fact\n",
    "\n",
    "- For train data set March 2017, April 2017, Sep 2017, Oct 2017, Feb 2018 and March 2018 have more data compared with other month\n",
    "- For testing data set Feb 2019 to March 2019 and Oct 2018 to Jan 2019 have more data compared with other month\n",
    "- For both training and testing data some clients don't have statement data in certain month\n",
    "- Most of clients have 13 statement in both training and testing dataset\n",
    "\n",
    "### Insights\n",
    "- Because we are missing some statements for certain clients during the middle, it may not be a good ideal to use time seriers model, cause it will complexity to handle missing statement"
   ]
  },
  {
   "cell_type": "code",
   "execution_count": 47,
   "id": "11f204ba",
   "metadata": {},
   "outputs": [
    {
     "data": {
      "text/plain": [
       "<AxesSubplot:>"
      ]
     },
     "execution_count": 47,
     "metadata": {},
     "output_type": "execute_result"
    },
    {
     "data": {
      "image/png": "[encoded data removed]",
      "text/plain": [
       "<Figure size 1440x360 with 1 Axes>"
      ]
     },
     "metadata": {
      "needs_background": "light"
     },
     "output_type": "display_data"
    }
   ],
   "source": [
    "# plot histgram for date columns - training data\n",
    "train_x['S_2'].str.slice(0 ,7).hist(figsize=(20, 5))"
   ]
  },
  {
   "cell_type": "code",
   "execution_count": 48,
   "id": "5cb25c86",
   "metadata": {},
   "outputs": [
    {
     "data": {
      "text/plain": [
       "<AxesSubplot:>"
      ]
     },
     "execution_count": 48,
     "metadata": {},
     "output_type": "execute_result"
    },
    {
     "data": {
      "image/png": "[encoded data removed]",
      "text/plain": [
       "<Figure size 1440x360 with 1 Axes>"
      ]
     },
     "metadata": {
      "needs_background": "light"
     },
     "output_type": "display_data"
    }
   ],
   "source": [
    "# plot histgram for date columns - testing data\n",
    "test_x['S_2'].str.slice(0 ,7).hist(figsize=(20, 5))"
   ]
  },
  {
   "cell_type": "code",
   "execution_count": 49,
   "id": "61faa3cd",
   "metadata": {},
   "outputs": [
    {
     "data": {
      "image/png": "[encoded data removed]",
      "text/plain": [
       "<Figure size 864x360 with 2 Axes>"
      ]
     },
     "metadata": {},
     "output_type": "display_data"
    }
   ],
   "source": [
    "# plot pie chart for training and testing statements\n",
    "fig, (ax1, ax2) = plt.subplots(1, 2, figsize=(12, 5))\n",
    "train_sc = train_x.customer_ID.value_counts().value_counts().sort_index(ascending=False).rename('Train statements per customer')\n",
    "ax1.pie(train_sc, labels=train_sc.index)\n",
    "ax1.set_title(train_sc.name)\n",
    "test_sc = test_x.customer_ID.value_counts().value_counts().sort_index(ascending=False).rename('Test statements per customer')\n",
    "ax2.pie(test_sc, labels=test_sc.index)\n",
    "ax2.set_title(test_sc.name)\n",
    "plt.show()"
   ]
  },
  {
   "cell_type": "code",
   "execution_count": 60,
   "id": "fc4e054b",
   "metadata": {},
   "outputs": [
    {
     "data": {
      "image/png": "[encoded data removed]",
      "text/plain": [
       "<Figure size 2880x360 with 1 Axes>"
      ]
     },
     "metadata": {
      "needs_background": "light"
     },
     "output_type": "display_data"
    }
   ],
   "source": [
    "# when did customer get their final statments - training\n",
    "temp = train_x.S_2.groupby(train_x.customer_ID).max()\n",
    "temp.reset_index()['S_2'].hist(figsize=(40, 5))\n",
    "del temp"
   ]
  },
  {
   "cell_type": "code",
   "execution_count": 62,
   "id": "10bfb484",
   "metadata": {},
   "outputs": [
    {
     "data": {
      "image/png": "[encoded data removed]",
      "text/plain": [
       "<Figure size 2880x360 with 1 Axes>"
      ]
     },
     "metadata": {
      "needs_background": "light"
     },
     "output_type": "display_data"
    }
   ],
   "source": [
    "# when did customer get their final statments - testing\n",
    "temp = test_x.S_2.groupby(test_x.customer_ID).max()\n",
    "temp.reset_index()['S_2'].str.slice(0 ,7).hist(figsize=(40, 5))\n",
    "del temp"
   ]
  },
  {
   "cell_type": "markdown",
   "id": "7bf78679",
   "metadata": {},
   "source": [
    "### 2.2 Categorical features\n",
    "\n",
    "#### Fact\n",
    "- 11 categorical features provided by offical and 2 more binary features can be found\n",
    "- 'B_30','B_38','D_114','D_117','D_64','D_68' histgram for 0 and 1 is not same\n",
    "- 'D_116', 'D_126', 'D_120', 'D_63','D_66', 'B_31' histgram for 0 and 1 is almost same\n",
    "-  D_87 most value is NA\n",
    "\n",
    "#### Insights\n",
    "- category feature like 'B_30','B_38','D_114','D_117','D_64','D_68' can provide useful info\n",
    "- category feature like 'D_116', 'D_126', 'D_120', 'D_63','D_66', 'B_31' may not be able to provide useful info\n",
    "- binary feature D_87 can be dropped, since most value is NA\n"
   ]
  },
  {
   "cell_type": "code",
   "execution_count": 65,
   "id": "ca35a223",
   "metadata": {},
   "outputs": [
    {
     "data": {
      "text/html": [
       "<div>\n",
       "<style scoped>\n",
       "    .dataframe tbody tr th:only-of-type {\n",
       "        vertical-align: middle;\n",
       "    }\n",
       "\n",
       "    .dataframe tbody tr th {\n",
       "        vertical-align: top;\n",
       "    }\n",
       "\n",
       "    .dataframe thead th {\n",
       "        text-align: right;\n",
       "    }\n",
       "</style>\n",
       "<table border=\"1\" class=\"dataframe\">\n",
       "  <thead>\n",
       "    <tr style=\"text-align: right;\">\n",
       "      <th></th>\n",
       "      <th>customer_ID</th>\n",
       "      <th>S_2</th>\n",
       "      <th>P_2</th>\n",
       "      <th>D_39</th>\n",
       "      <th>B_1</th>\n",
       "      <th>B_2</th>\n",
       "      <th>R_1</th>\n",
       "      <th>S_3</th>\n",
       "      <th>D_41</th>\n",
       "      <th>B_3</th>\n",
       "      <th>...</th>\n",
       "      <th>D_137</th>\n",
       "      <th>D_138</th>\n",
       "      <th>D_139</th>\n",
       "      <th>D_140</th>\n",
       "      <th>D_141</th>\n",
       "      <th>D_142</th>\n",
       "      <th>D_143</th>\n",
       "      <th>D_144</th>\n",
       "      <th>D_145</th>\n",
       "      <th>target</th>\n",
       "    </tr>\n",
       "  </thead>\n",
       "  <tbody>\n",
       "    <tr>\n",
       "      <th>0</th>\n",
       "      <td>0000099d6bd597052cdcda90ffabf56573fe9d7c79be5f...</td>\n",
       "      <td>2017-03-09</td>\n",
       "      <td>0.938477</td>\n",
       "      <td>0.001734</td>\n",
       "      <td>0.008728</td>\n",
       "      <td>1.006836</td>\n",
       "      <td>0.009224</td>\n",
       "      <td>0.124023</td>\n",
       "      <td>0.008774</td>\n",
       "      <td>0.004707</td>\n",
       "      <td>...</td>\n",
       "      <td>NaN</td>\n",
       "      <td>NaN</td>\n",
       "      <td>0.002426</td>\n",
       "      <td>0.003706</td>\n",
       "      <td>0.003819</td>\n",
       "      <td>NaN</td>\n",
       "      <td>0.000569</td>\n",
       "      <td>0.000610</td>\n",
       "      <td>0.002674</td>\n",
       "      <td>0</td>\n",
       "    </tr>\n",
       "    <tr>\n",
       "      <th>1</th>\n",
       "      <td>0000099d6bd597052cdcda90ffabf56573fe9d7c79be5f...</td>\n",
       "      <td>2017-04-07</td>\n",
       "      <td>0.936523</td>\n",
       "      <td>0.005775</td>\n",
       "      <td>0.004925</td>\n",
       "      <td>1.000977</td>\n",
       "      <td>0.006153</td>\n",
       "      <td>0.126709</td>\n",
       "      <td>0.000798</td>\n",
       "      <td>0.002714</td>\n",
       "      <td>...</td>\n",
       "      <td>NaN</td>\n",
       "      <td>NaN</td>\n",
       "      <td>0.003956</td>\n",
       "      <td>0.003166</td>\n",
       "      <td>0.005032</td>\n",
       "      <td>NaN</td>\n",
       "      <td>0.009575</td>\n",
       "      <td>0.005493</td>\n",
       "      <td>0.009216</td>\n",
       "      <td>0</td>\n",
       "    </tr>\n",
       "  </tbody>\n",
       "</table>\n",
       "<p>2 rows × 191 columns</p>\n",
       "</div>"
      ],
      "text/plain": [
       "                                         customer_ID         S_2       P_2  \\\n",
       "0  0000099d6bd597052cdcda90ffabf56573fe9d7c79be5f...  2017-03-09  0.938477   \n",
       "1  0000099d6bd597052cdcda90ffabf56573fe9d7c79be5f...  2017-04-07  0.936523   \n",
       "\n",
       "       D_39       B_1       B_2       R_1       S_3      D_41       B_3  ...  \\\n",
       "0  0.001734  0.008728  1.006836  0.009224  0.124023  0.008774  0.004707  ...   \n",
       "1  0.005775  0.004925  1.000977  0.006153  0.126709  0.000798  0.002714  ...   \n",
       "\n",
       "   D_137  D_138     D_139     D_140     D_141  D_142     D_143     D_144  \\\n",
       "0    NaN    NaN  0.002426  0.003706  0.003819    NaN  0.000569  0.000610   \n",
       "1    NaN    NaN  0.003956  0.003166  0.005032    NaN  0.009575  0.005493   \n",
       "\n",
       "      D_145  target  \n",
       "0  0.002674       0  \n",
       "1  0.009216       0  \n",
       "\n",
       "[2 rows x 191 columns]"
      ]
     },
     "execution_count": 65,
     "metadata": {},
     "output_type": "execute_result"
    }
   ],
   "source": [
    "# join labels with train_x\n",
    "train = pd.merge(train_x, train_y, on=['customer_ID'], how='inner')\n",
    "del train_x\n",
    "train.head(2)"
   ]
  },
  {
   "cell_type": "code",
   "execution_count": 66,
   "id": "999d5fc6",
   "metadata": {},
   "outputs": [
    {
     "data": {
      "image/png": "[encoded data removed]",
      "text/plain": [
       "<Figure size 1152x1152 with 11 Axes>"
      ]
     },
     "metadata": {
      "needs_background": "light"
     },
     "output_type": "display_data"
    }
   ],
   "source": [
    "cat_features = ['B_30', 'B_38', 'D_114', 'D_116', 'D_117', 'D_120', 'D_126', 'D_63', 'D_64', 'D_66', 'D_68']\n",
    "plt.figure(figsize=(16, 16))\n",
    "for i, f in enumerate(cat_features):\n",
    "    plt.subplot(4, 3, i+1)\n",
    "    temp = pd.DataFrame(train[f][train.target == 0].value_counts(dropna=False, normalize=True).sort_index().rename('count'))\n",
    "    temp.index.name = 'value'\n",
    "    temp.reset_index(inplace=True)\n",
    "    plt.bar(temp.index, temp['count'], alpha=0.5, label='target=0')\n",
    "    temp = pd.DataFrame(train[f][train.target == 1].value_counts(dropna=False, normalize=True).sort_index().rename('count'))\n",
    "    temp.index.name = 'value'\n",
    "    temp.reset_index(inplace=True)\n",
    "    plt.bar(temp.index, temp['count'], alpha=0.5, label='target=1')\n",
    "    plt.xlabel(f)\n",
    "    plt.ylabel('frequency')\n",
    "    plt.legend()\n",
    "    plt.xticks(temp.index, temp.value)\n",
    "plt.suptitle('Categorical features', fontsize=20, y=0.93)\n",
    "plt.show()\n",
    "del temp"
   ]
  },
  {
   "cell_type": "code",
   "execution_count": 69,
   "id": "3294a2b8",
   "metadata": {},
   "outputs": [
    {
     "data": {
      "image/png": "[encoded data removed]",
      "text/plain": [
       "<Figure size 1152x288 with 2 Axes>"
      ]
     },
     "metadata": {
      "needs_background": "light"
     },
     "output_type": "display_data"
    }
   ],
   "source": [
    "bin_features = ['B_31', 'D_87']\n",
    "plt.figure(figsize=(16, 4))\n",
    "for i, f in enumerate(bin_features):\n",
    "    plt.subplot(1, 2, i+1)\n",
    "    temp = pd.DataFrame(train[f][train.target == 0].value_counts(dropna=False, normalize=True).sort_index().rename('count'))\n",
    "    temp.index.name = 'value'\n",
    "    temp.reset_index(inplace=True)\n",
    "    plt.bar(temp.index, temp['count'], alpha=0.5, label='target=0')\n",
    "    temp = pd.DataFrame(train[f][train.target == 1].value_counts(dropna=False, normalize=True).sort_index().rename('count'))\n",
    "    temp.index.name = 'value'\n",
    "    temp.reset_index(inplace=True)\n",
    "    plt.bar(temp.index, temp['count'], alpha=0.5, label='target=1')\n",
    "    plt.xlabel(f)\n",
    "    plt.ylabel('frequency')\n",
    "    plt.legend()\n",
    "    plt.xticks(temp.index, temp.value)\n",
    "plt.suptitle('Binary features', fontsize=20)\n",
    "plt.show()\n",
    "del temp"
   ]
  },
  {
   "cell_type": "markdown",
   "id": "93ca8a70",
   "metadata": {},
   "source": [
    "### 2.3 Numerical features"
   ]
  },
  {
   "cell_type": "code",
   "execution_count": 97,
   "id": "ea8d39c4",
   "metadata": {},
   "outputs": [],
   "source": [
    "# generate columns\n",
    "categorical_columns = cat_features + bin_features\n",
    "\n",
    "delinquency_columns = [x for x in train.columns if x.startswith('D') and x not in categorical_columns]\n",
    "spend_columns = [x for x in train.columns if x.startswith('S') and x != 'S_2' and x not in categorical_columns] # exclude datetime column\n",
    "payment_columns = [x for x in train.columns if x.startswith('P') and x not in categorical_columns]\n",
    "balance_columns = [x for x in train.columns if x.startswith('B') and x not in categorical_columns]\n",
    "risk_columns = [x for x in train.columns if x.startswith('R') and x not in categorical_columns]\n",
    "label = ['target']\n",
    "\n",
    "# function to retrieve label & feature correlation\n",
    "def calc_corr(df, columns):\n",
    "    c_df = df[columns].corr()\n",
    "    c_df = c_df.iloc[0].reset_index()\n",
    "    c_df = c_df.iloc[1:]\n",
    "    c_df.columns = ['col_name', 'corr']\n",
    "    return c_df"
   ]
  },
  {
   "cell_type": "markdown",
   "id": "679e96e3",
   "metadata": {},
   "source": [
    "### 2.3.1 delinquency column correlation"
   ]
  },
  {
   "cell_type": "code",
   "execution_count": 100,
   "id": "ec524860",
   "metadata": {},
   "outputs": [
    {
     "name": "stdout",
     "output_type": "stream",
     "text": [
      "CPU times: user 1min 9s, sys: 2.29 s, total: 1min 12s\n",
      "Wall time: 1min 12s\n"
     ]
    },
    {
     "data": {
      "text/html": [
       "<div>\n",
       "<style scoped>\n",
       "    .dataframe tbody tr th:only-of-type {\n",
       "        vertical-align: middle;\n",
       "    }\n",
       "\n",
       "    .dataframe tbody tr th {\n",
       "        vertical-align: top;\n",
       "    }\n",
       "\n",
       "    .dataframe thead th {\n",
       "        text-align: right;\n",
       "    }\n",
       "</style>\n",
       "<table border=\"1\" class=\"dataframe\">\n",
       "  <thead>\n",
       "    <tr style=\"text-align: right;\">\n",
       "      <th></th>\n",
       "      <th>col_name</th>\n",
       "      <th>corr</th>\n",
       "    </tr>\n",
       "  </thead>\n",
       "  <tbody>\n",
       "    <tr>\n",
       "      <th>1</th>\n",
       "      <td>D_39</td>\n",
       "      <td>0.180007</td>\n",
       "    </tr>\n",
       "    <tr>\n",
       "      <th>2</th>\n",
       "      <td>D_41</td>\n",
       "      <td>0.246780</td>\n",
       "    </tr>\n",
       "    <tr>\n",
       "      <th>3</th>\n",
       "      <td>D_42</td>\n",
       "      <td>0.337734</td>\n",
       "    </tr>\n",
       "  </tbody>\n",
       "</table>\n",
       "</div>"
      ],
      "text/plain": [
       "  col_name      corr\n",
       "1     D_39  0.180007\n",
       "2     D_41  0.246780\n",
       "3     D_42  0.337734"
      ]
     },
     "execution_count": 100,
     "metadata": {},
     "output_type": "execute_result"
    }
   ],
   "source": [
    "%%time\n",
    "d_cols_corr = calc_corr(train, label + delinquency_columns)\n",
    "d_cols_corr.head(3)"
   ]
  },
  {
   "cell_type": "code",
   "execution_count": 101,
   "id": "7f5638e9",
   "metadata": {},
   "outputs": [
    {
     "name": "stdout",
     "output_type": "stream",
     "text": [
      "CPU times: user 154 ms, sys: 8.25 ms, total: 163 ms\n",
      "Wall time: 165 ms\n"
     ]
    },
    {
     "data": {
      "text/plain": [
       "<AxesSubplot:xlabel='col_name'>"
      ]
     },
     "execution_count": 101,
     "metadata": {},
     "output_type": "execute_result"
    },
    {
     "data": {
      "image/png": "[encoded data removed]",
      "text/plain": [
       "<Figure size 2880x720 with 1 Axes>"
      ]
     },
     "metadata": {
      "needs_background": "light"
     },
     "output_type": "display_data"
    }
   ],
   "source": [
    "%%time\n",
    "d_cols_corr.plot.bar(x='col_name', y='corr', rot=0, figsize=(40, 10))"
   ]
  },
  {
   "cell_type": "markdown",
   "id": "b5aebaac",
   "metadata": {},
   "source": [
    "### 2.3.2 Spend features"
   ]
  },
  {
   "cell_type": "code",
   "execution_count": 102,
   "id": "7e55892a",
   "metadata": {},
   "outputs": [
    {
     "name": "stdout",
     "output_type": "stream",
     "text": [
      "CPU times: user 5.99 s, sys: 661 ms, total: 6.65 s\n",
      "Wall time: 7.14 s\n"
     ]
    },
    {
     "data": {
      "text/html": [
       "<div>\n",
       "<style scoped>\n",
       "    .dataframe tbody tr th:only-of-type {\n",
       "        vertical-align: middle;\n",
       "    }\n",
       "\n",
       "    .dataframe tbody tr th {\n",
       "        vertical-align: top;\n",
       "    }\n",
       "\n",
       "    .dataframe thead th {\n",
       "        text-align: right;\n",
       "    }\n",
       "</style>\n",
       "<table border=\"1\" class=\"dataframe\">\n",
       "  <thead>\n",
       "    <tr style=\"text-align: right;\">\n",
       "      <th></th>\n",
       "      <th>col_name</th>\n",
       "      <th>corr</th>\n",
       "    </tr>\n",
       "  </thead>\n",
       "  <tbody>\n",
       "    <tr>\n",
       "      <th>1</th>\n",
       "      <td>S_3</td>\n",
       "      <td>0.323065</td>\n",
       "    </tr>\n",
       "    <tr>\n",
       "      <th>2</th>\n",
       "      <td>S_5</td>\n",
       "      <td>0.044759</td>\n",
       "    </tr>\n",
       "    <tr>\n",
       "      <th>3</th>\n",
       "      <td>S_6</td>\n",
       "      <td>-0.098949</td>\n",
       "    </tr>\n",
       "  </tbody>\n",
       "</table>\n",
       "</div>"
      ],
      "text/plain": [
       "  col_name      corr\n",
       "1      S_3  0.323065\n",
       "2      S_5  0.044759\n",
       "3      S_6 -0.098949"
      ]
     },
     "execution_count": 102,
     "metadata": {},
     "output_type": "execute_result"
    }
   ],
   "source": [
    "%%time\n",
    "s_cols_corr = calc_corr(train, label + spend_columns)\n",
    "s_cols_corr.head(3)"
   ]
  },
  {
   "cell_type": "code",
   "execution_count": 106,
   "id": "574856e7",
   "metadata": {},
   "outputs": [
    {
     "name": "stdout",
     "output_type": "stream",
     "text": [
      "CPU times: user 56 ms, sys: 3.18 ms, total: 59.2 ms\n",
      "Wall time: 58.4 ms\n"
     ]
    },
    {
     "data": {
      "text/plain": [
       "<AxesSubplot:xlabel='col_name'>"
      ]
     },
     "execution_count": 106,
     "metadata": {},
     "output_type": "execute_result"
    },
    {
     "data": {
      "image/png": "[encoded data removed]",
      "text/plain": [
       "<Figure size 1440x576 with 1 Axes>"
      ]
     },
     "metadata": {
      "needs_background": "light"
     },
     "output_type": "display_data"
    }
   ],
   "source": [
    "%%time\n",
    "s_cols_corr.plot.bar(x='col_name', y='corr', rot=0, figsize=(20, 8))"
   ]
  },
  {
   "cell_type": "markdown",
   "id": "7c4b228e",
   "metadata": {},
   "source": [
    "### 2.3.3 payment_columns"
   ]
  },
  {
   "cell_type": "code",
   "execution_count": 107,
   "id": "c5d7b927",
   "metadata": {},
   "outputs": [
    {
     "name": "stdout",
     "output_type": "stream",
     "text": [
      "CPU times: user 337 ms, sys: 99.1 ms, total: 436 ms\n",
      "Wall time: 499 ms\n"
     ]
    },
    {
     "data": {
      "text/html": [
       "<div>\n",
       "<style scoped>\n",
       "    .dataframe tbody tr th:only-of-type {\n",
       "        vertical-align: middle;\n",
       "    }\n",
       "\n",
       "    .dataframe tbody tr th {\n",
       "        vertical-align: top;\n",
       "    }\n",
       "\n",
       "    .dataframe thead th {\n",
       "        text-align: right;\n",
       "    }\n",
       "</style>\n",
       "<table border=\"1\" class=\"dataframe\">\n",
       "  <thead>\n",
       "    <tr style=\"text-align: right;\">\n",
       "      <th></th>\n",
       "      <th>col_name</th>\n",
       "      <th>corr</th>\n",
       "    </tr>\n",
       "  </thead>\n",
       "  <tbody>\n",
       "    <tr>\n",
       "      <th>1</th>\n",
       "      <td>P_2</td>\n",
       "      <td>-0.610765</td>\n",
       "    </tr>\n",
       "    <tr>\n",
       "      <th>2</th>\n",
       "      <td>P_3</td>\n",
       "      <td>-0.243743</td>\n",
       "    </tr>\n",
       "    <tr>\n",
       "      <th>3</th>\n",
       "      <td>P_4</td>\n",
       "      <td>0.237511</td>\n",
       "    </tr>\n",
       "  </tbody>\n",
       "</table>\n",
       "</div>"
      ],
      "text/plain": [
       "  col_name      corr\n",
       "1      P_2 -0.610765\n",
       "2      P_3 -0.243743\n",
       "3      P_4  0.237511"
      ]
     },
     "execution_count": 107,
     "metadata": {},
     "output_type": "execute_result"
    }
   ],
   "source": [
    "%%time\n",
    "p_cols_corr = calc_corr(train, label + payment_columns)\n",
    "p_cols_corr.head(3)"
   ]
  },
  {
   "cell_type": "code",
   "execution_count": 109,
   "id": "cf273428",
   "metadata": {},
   "outputs": [
    {
     "name": "stdout",
     "output_type": "stream",
     "text": [
      "CPU times: user 32.5 ms, sys: 3.59 ms, total: 36.1 ms\n",
      "Wall time: 33.6 ms\n"
     ]
    },
    {
     "data": {
      "text/plain": [
       "<AxesSubplot:xlabel='col_name'>"
      ]
     },
     "execution_count": 109,
     "metadata": {},
     "output_type": "execute_result"
    },
    {
     "data": {
      "image/png": "[encoded data removed]",
      "text/plain": [
       "<Figure size 360x216 with 1 Axes>"
      ]
     },
     "metadata": {
      "needs_background": "light"
     },
     "output_type": "display_data"
    }
   ],
   "source": [
    "%%time\n",
    "p_cols_corr.plot.bar(x='col_name', y='corr', rot=0, figsize=(5, 3))"
   ]
  },
  {
   "cell_type": "markdown",
   "id": "f3dec973",
   "metadata": {},
   "source": [
    "### 2.3.4 balance_columns"
   ]
  },
  {
   "cell_type": "code",
   "execution_count": 110,
   "id": "c21f50a0",
   "metadata": {},
   "outputs": [
    {
     "name": "stdout",
     "output_type": "stream",
     "text": [
      "CPU times: user 15.7 s, sys: 1.2 s, total: 16.9 s\n",
      "Wall time: 17.5 s\n"
     ]
    },
    {
     "data": {
      "text/html": [
       "<div>\n",
       "<style scoped>\n",
       "    .dataframe tbody tr th:only-of-type {\n",
       "        vertical-align: middle;\n",
       "    }\n",
       "\n",
       "    .dataframe tbody tr th {\n",
       "        vertical-align: top;\n",
       "    }\n",
       "\n",
       "    .dataframe thead th {\n",
       "        text-align: right;\n",
       "    }\n",
       "</style>\n",
       "<table border=\"1\" class=\"dataframe\">\n",
       "  <thead>\n",
       "    <tr style=\"text-align: right;\">\n",
       "      <th></th>\n",
       "      <th>col_name</th>\n",
       "      <th>corr</th>\n",
       "    </tr>\n",
       "  </thead>\n",
       "  <tbody>\n",
       "    <tr>\n",
       "      <th>1</th>\n",
       "      <td>B_1</td>\n",
       "      <td>0.389767</td>\n",
       "    </tr>\n",
       "    <tr>\n",
       "      <th>2</th>\n",
       "      <td>B_2</td>\n",
       "      <td>-0.483062</td>\n",
       "    </tr>\n",
       "    <tr>\n",
       "      <th>3</th>\n",
       "      <td>B_3</td>\n",
       "      <td>0.429695</td>\n",
       "    </tr>\n",
       "  </tbody>\n",
       "</table>\n",
       "</div>"
      ],
      "text/plain": [
       "  col_name      corr\n",
       "1      B_1  0.389767\n",
       "2      B_2 -0.483062\n",
       "3      B_3  0.429695"
      ]
     },
     "execution_count": 110,
     "metadata": {},
     "output_type": "execute_result"
    }
   ],
   "source": [
    "%%time\n",
    "b_cols_corr = calc_corr(train, label + balance_columns)\n",
    "b_cols_corr.head(3)"
   ]
  },
  {
   "cell_type": "code",
   "execution_count": 111,
   "id": "1ab0e032",
   "metadata": {},
   "outputs": [
    {
     "name": "stdout",
     "output_type": "stream",
     "text": [
      "CPU times: user 84.2 ms, sys: 4.25 ms, total: 88.5 ms\n",
      "Wall time: 90.2 ms\n"
     ]
    },
    {
     "data": {
      "text/plain": [
       "<AxesSubplot:xlabel='col_name'>"
      ]
     },
     "execution_count": 111,
     "metadata": {},
     "output_type": "execute_result"
    },
    {
     "data": {
      "image/png": "[encoded data removed]",
      "text/plain": [
       "<Figure size 1440x576 with 1 Axes>"
      ]
     },
     "metadata": {
      "needs_background": "light"
     },
     "output_type": "display_data"
    }
   ],
   "source": [
    "%%time\n",
    "b_cols_corr.plot.bar(x='col_name', y='corr', rot=0, figsize=(20, 8))"
   ]
  },
  {
   "cell_type": "markdown",
   "id": "1b196412",
   "metadata": {},
   "source": [
    "### 2.3.5 risk_columns"
   ]
  },
  {
   "cell_type": "code",
   "execution_count": 113,
   "id": "175ae39b",
   "metadata": {},
   "outputs": [
    {
     "name": "stdout",
     "output_type": "stream",
     "text": [
      "CPU times: user 9.15 s, sys: 906 ms, total: 10.1 s\n",
      "Wall time: 10.6 s\n"
     ]
    },
    {
     "data": {
      "text/html": [
       "<div>\n",
       "<style scoped>\n",
       "    .dataframe tbody tr th:only-of-type {\n",
       "        vertical-align: middle;\n",
       "    }\n",
       "\n",
       "    .dataframe tbody tr th {\n",
       "        vertical-align: top;\n",
       "    }\n",
       "\n",
       "    .dataframe thead th {\n",
       "        text-align: right;\n",
       "    }\n",
       "</style>\n",
       "<table border=\"1\" class=\"dataframe\">\n",
       "  <thead>\n",
       "    <tr style=\"text-align: right;\">\n",
       "      <th></th>\n",
       "      <th>col_name</th>\n",
       "      <th>corr</th>\n",
       "    </tr>\n",
       "  </thead>\n",
       "  <tbody>\n",
       "    <tr>\n",
       "      <th>1</th>\n",
       "      <td>R_1</td>\n",
       "      <td>0.365000</td>\n",
       "    </tr>\n",
       "    <tr>\n",
       "      <th>2</th>\n",
       "      <td>R_2</td>\n",
       "      <td>0.263741</td>\n",
       "    </tr>\n",
       "    <tr>\n",
       "      <th>3</th>\n",
       "      <td>R_3</td>\n",
       "      <td>0.286787</td>\n",
       "    </tr>\n",
       "  </tbody>\n",
       "</table>\n",
       "</div>"
      ],
      "text/plain": [
       "  col_name      corr\n",
       "1      R_1  0.365000\n",
       "2      R_2  0.263741\n",
       "3      R_3  0.286787"
      ]
     },
     "execution_count": 113,
     "metadata": {},
     "output_type": "execute_result"
    }
   ],
   "source": [
    "%%time\n",
    "r_cols_corr = calc_corr(train, label + risk_columns)\n",
    "r_cols_corr.head(3)"
   ]
  },
  {
   "cell_type": "code",
   "execution_count": 114,
   "id": "5ed3022e",
   "metadata": {},
   "outputs": [
    {
     "name": "stdout",
     "output_type": "stream",
     "text": [
      "CPU times: user 65.6 ms, sys: 4.25 ms, total: 69.8 ms\n",
      "Wall time: 69 ms\n"
     ]
    },
    {
     "data": {
      "text/plain": [
       "<AxesSubplot:xlabel='col_name'>"
      ]
     },
     "execution_count": 114,
     "metadata": {},
     "output_type": "execute_result"
    },
    {
     "data": {
      "image/png": "[encoded data removed]",
      "text/plain": [
       "<Figure size 1440x576 with 1 Axes>"
      ]
     },
     "metadata": {
      "needs_background": "light"
     },
     "output_type": "display_data"
    }
   ],
   "source": [
    "%%time\n",
    "r_cols_corr.plot.bar(x='col_name', y='corr', rot=0, figsize=(20, 8))"
   ]
  },
  {
   "cell_type": "markdown",
   "id": "772cd469",
   "metadata": {},
   "source": [
    "### 2.3.6 Data anonymization\n",
    "\n",
    "- https://www.kaggle.com/code/raddar/the-data-has-random-uniform-noise-added"
   ]
  },
  {
   "cell_type": "code",
   "execution_count": 125,
   "id": "f0f4f0a5",
   "metadata": {},
   "outputs": [
    {
     "name": "stderr",
     "output_type": "stream",
     "text": [
      "/Users/qucy/opt/anaconda3/lib/python3.8/site-packages/seaborn/distributions.py:2557: FutureWarning: `distplot` is a deprecated function and will be removed in a future version. Please adapt your code to use either `displot` (a figure-level function with similar flexibility) or `histplot` (an axes-level function for histograms).\n",
      "  warnings.warn(msg, FutureWarning)\n"
     ]
    },
    {
     "data": {
      "text/plain": [
       "<AxesSubplot:xlabel='B_2'>"
      ]
     },
     "execution_count": 125,
     "metadata": {},
     "output_type": "execute_result"
    },
    {
     "data": {
      "image/png": "[encoded data removed]",
      "text/plain": [
       "<Figure size 864x576 with 1 Axes>"
      ]
     },
     "metadata": {
      "needs_background": "light"
     },
     "output_type": "display_data"
    }
   ],
   "source": [
    "plt.figure(figsize=(12, 8))\n",
    "sns.distplot(train['B_2'], bins=500, kde=False)"
   ]
  },
  {
   "cell_type": "code",
   "execution_count": 130,
   "id": "4c4375ef",
   "metadata": {},
   "outputs": [
    {
     "data": {
      "text/plain": [
       "array([0.00434983, 0.00101475, 0.00618667, 0.00545991, 0.00858624,\n",
       "       0.00824118, 0.00488697, 0.00546897, 0.00199779, 0.00072632])"
      ]
     },
     "execution_count": 130,
     "metadata": {},
     "output_type": "execute_result"
    }
   ],
   "source": [
    "np.random.uniform(0, 0.01, 10)"
   ]
  },
  {
   "cell_type": "code",
   "execution_count": null,
   "id": "3ed9062a",
   "metadata": {},
   "outputs": [],
   "source": []
  }
 ],
 "metadata": {
  "kernelspec": {
   "display_name": "Python 3",
   "language": "python",
   "name": "python3"
  },
  "language_info": {
   "codemirror_mode": {
    "name": "ipython",
    "version": 3
   },
   "file_extension": ".py",
   "mimetype": "text/x-python",
   "name": "python",
   "nbconvert_exporter": "python",
   "pygments_lexer": "ipython3",
   "version": "3.8.8"
  }
 },
 "nbformat": 4,
 "nbformat_minor": 5
}
