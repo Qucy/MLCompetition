{
 "cells": [
  {
   "cell_type": "code",
   "execution_count": 10,
   "id": "159c9f6c",
   "metadata": {},
   "outputs": [
    {
     "name": "stdout",
     "output_type": "stream",
     "text": [
      "2.9.2\n"
     ]
    }
   ],
   "source": [
    "import warnings\n",
    "import pandas as pd\n",
    "import numpy as np\n",
    "from matplotlib import pyplot as plt\n",
    "from sklearn.preprocessing import MinMaxScaler\n",
    "\n",
    "# tensorflow\n",
    "import tensorflow as tf\n",
    "from tensorflow import keras\n",
    "from tensorflow.keras import Sequential, layers, Model\n",
    "\n",
    "print(tf.__version__)\n",
    "\n",
    "\n",
    "warnings.filterwarnings(\"ignore\", category=UserWarning) \n",
    "\n",
    "training_file = '../training_processed.csv'\n",
    "testing_file = '../智能制造赛道测试集/test/testing.csv'"
   ]
  },
  {
   "cell_type": "markdown",
   "id": "b1349115",
   "metadata": {},
   "source": [
    "## 01 - loading and preprocess data"
   ]
  },
  {
   "cell_type": "code",
   "execution_count": 2,
   "id": "2a510535",
   "metadata": {},
   "outputs": [],
   "source": [
    "# load training & testing file\n",
    "training = pd.read_csv(training_file, low_memory=False)\n",
    "testing = pd.read_csv(testing_file, low_memory=False)\n",
    "\n",
    "numerical_features = [\n",
    "                      # 'oxygen_set_value', # '氧量设定值'\n",
    "                      # 'primary_air_volume', # '一次风量'\n",
    "                      # 'grate_manual_command',  #  '炉排手动指令'\n",
    "                      'main_steam_flow_set_value', # '主蒸汽流量设定值'\n",
    "                      # 'ejector_manual_command', #  '推料器手动指令'\n",
    "                      # 'ejector_automatic_command', # '推料器自动指令'\n",
    "                      # 'nox_content', # NOx含量\n",
    "                      # 'grate_actual_operation_command', # 炉排实际运行指令\n",
    "                      # 'secondary_air_control_door', # 二次风调门\n",
    "                      # 'hcl_content', # HCL含量\n",
    "                      'secondary_air_volume', # 二次风量\n",
    "                      'water_flow', # 给水流量\n",
    "                      # 'so2_content', # SO2含量\n",
    "                      # 'drum_water_level', # 汽包水位\n",
    "                      # 'induced_fan_speed', # 引风机转速\n",
    "                      # 'co_content', # CO含量\n",
    "                      # 'primary_damper' # 一次风调门\n",
    "                      ] \n",
    "\n",
    "categorical_features = ['ejector_automatic_switching_signal', # '推料器自动投退信号'\n",
    "                        'grate_automatic_switching_signal', # '炉排自动投退信号'\n",
    "                        'pusher_on_or_off', # 推料器启停\n",
    "                        'grate_on_or_off'] # 炉排启停\n",
    "\n",
    "label = ['main_steam_flow']"
   ]
  },
  {
   "cell_type": "markdown",
   "id": "c9310088",
   "metadata": {},
   "source": [
    "## 02 feature engineering"
   ]
  },
  {
   "cell_type": "code",
   "execution_count": 3,
   "id": "b5a01253",
   "metadata": {},
   "outputs": [],
   "source": [
    "# append traning and testing dataframe (apply feature engineering together, avoid training and serving skew)\n",
    "# adding label column for testing dataset before merge\n",
    "testing['main_steam_flow'] = 0\n",
    "# concat 2 dataframe\n",
    "data_all = pd.concat([training, testing], axis=0)\n",
    "# sort\n",
    "data_all.sort_values(by=['datetime'], ascending=True, inplace=True)"
   ]
  },
  {
   "cell_type": "code",
   "execution_count": 4,
   "id": "157dbfcd",
   "metadata": {},
   "outputs": [
    {
     "name": "stdout",
     "output_type": "stream",
     "text": [
      "Scaler max value is [   70.0361 35791.0586   100.2972    79.2595], min value is [42.6552  0.     46.8703  0.    ]\n"
     ]
    }
   ],
   "source": [
    "# one-encoding\n",
    "onehot_encoding = pd.get_dummies(data_all[categorical_features].astype(str))\n",
    "# concat back to previous dataframe\n",
    "data_all = pd.concat([data_all, onehot_encoding], axis=1)\n",
    "# drop previous column\n",
    "data_all = data_all.drop(columns=categorical_features)\n",
    "# normalization\n",
    "scaler = MinMaxScaler()\n",
    "# fit scaler\n",
    "scaler.fit(data_all[numerical_features + label])\n",
    "# print log\n",
    "print(f\"Scaler max value is {scaler.data_max_}, min value is {scaler.data_min_}\")\n",
    "# transform data\n",
    "data_all[numerical_features + label] = scaler.transform(data_all[numerical_features + label])"
   ]
  },
  {
   "cell_type": "code",
   "execution_count": 5,
   "id": "c6948487",
   "metadata": {},
   "outputs": [
    {
     "data": {
      "text/html": [
       "<div>\n",
       "<style scoped>\n",
       "    .dataframe tbody tr th:only-of-type {\n",
       "        vertical-align: middle;\n",
       "    }\n",
       "\n",
       "    .dataframe tbody tr th {\n",
       "        vertical-align: top;\n",
       "    }\n",
       "\n",
       "    .dataframe thead th {\n",
       "        text-align: right;\n",
       "    }\n",
       "</style>\n",
       "<table border=\"1\" class=\"dataframe\">\n",
       "  <thead>\n",
       "    <tr style=\"text-align: right;\">\n",
       "      <th></th>\n",
       "      <th>datetime</th>\n",
       "      <th>oxygen_set_value</th>\n",
       "      <th>primary_air_volume</th>\n",
       "      <th>grate_manual_command</th>\n",
       "      <th>main_steam_flow_set_value</th>\n",
       "      <th>ejector_manual_command</th>\n",
       "      <th>ejector_automatic_command</th>\n",
       "      <th>nox_content</th>\n",
       "      <th>grate_actual_operation_command</th>\n",
       "      <th>secondary_air_control_door</th>\n",
       "      <th>...</th>\n",
       "      <th>primary_damper</th>\n",
       "      <th>main_steam_flow</th>\n",
       "      <th>ejector_automatic_switching_signal_False</th>\n",
       "      <th>ejector_automatic_switching_signal_True</th>\n",
       "      <th>grate_automatic_switching_signal_False</th>\n",
       "      <th>grate_automatic_switching_signal_True</th>\n",
       "      <th>pusher_on_or_off_False</th>\n",
       "      <th>pusher_on_or_off_True</th>\n",
       "      <th>grate_on_or_off_False</th>\n",
       "      <th>grate_on_or_off_True</th>\n",
       "    </tr>\n",
       "  </thead>\n",
       "  <tbody>\n",
       "    <tr>\n",
       "      <th>0</th>\n",
       "      <td>2021-12-20 00:00:00</td>\n",
       "      <td>5.5</td>\n",
       "      <td>72919.6563</td>\n",
       "      <td>43.9083</td>\n",
       "      <td>0.633463</td>\n",
       "      <td>53.9083</td>\n",
       "      <td>53.9094</td>\n",
       "      <td>57.4444</td>\n",
       "      <td>43.9078</td>\n",
       "      <td>20.4653</td>\n",
       "      <td>...</td>\n",
       "      <td>75.5532</td>\n",
       "      <td>0.685132</td>\n",
       "      <td>0</td>\n",
       "      <td>1</td>\n",
       "      <td>0</td>\n",
       "      <td>1</td>\n",
       "      <td>0</td>\n",
       "      <td>1</td>\n",
       "      <td>0</td>\n",
       "      <td>1</td>\n",
       "    </tr>\n",
       "  </tbody>\n",
       "</table>\n",
       "<p>1 rows × 27 columns</p>\n",
       "</div>"
      ],
      "text/plain": [
       "              datetime  oxygen_set_value  primary_air_volume  \\\n",
       "0  2021-12-20 00:00:00               5.5          72919.6563   \n",
       "\n",
       "   grate_manual_command  main_steam_flow_set_value  ejector_manual_command  \\\n",
       "0               43.9083                   0.633463                 53.9083   \n",
       "\n",
       "   ejector_automatic_command  nox_content  grate_actual_operation_command  \\\n",
       "0                    53.9094      57.4444                         43.9078   \n",
       "\n",
       "   secondary_air_control_door  ...  primary_damper  main_steam_flow  \\\n",
       "0                     20.4653  ...         75.5532         0.685132   \n",
       "\n",
       "   ejector_automatic_switching_signal_False  \\\n",
       "0                                         0   \n",
       "\n",
       "   ejector_automatic_switching_signal_True  \\\n",
       "0                                        1   \n",
       "\n",
       "   grate_automatic_switching_signal_False  \\\n",
       "0                                       0   \n",
       "\n",
       "   grate_automatic_switching_signal_True  pusher_on_or_off_False  \\\n",
       "0                                      1                       0   \n",
       "\n",
       "   pusher_on_or_off_True  grate_on_or_off_False  grate_on_or_off_True  \n",
       "0                      1                      0                     1  \n",
       "\n",
       "[1 rows x 27 columns]"
      ]
     },
     "execution_count": 5,
     "metadata": {},
     "output_type": "execute_result"
    }
   ],
   "source": [
    "# split data_all back to training and testing\n",
    "training = data_all.iloc[:-1800]\n",
    "testing = data_all.iloc[-1800:]\n",
    "\n",
    "training.head(1)"
   ]
  },
  {
   "cell_type": "code",
   "execution_count": 6,
   "id": "3f90c294",
   "metadata": {},
   "outputs": [
    {
     "data": {
      "text/html": [
       "<div>\n",
       "<style scoped>\n",
       "    .dataframe tbody tr th:only-of-type {\n",
       "        vertical-align: middle;\n",
       "    }\n",
       "\n",
       "    .dataframe tbody tr th {\n",
       "        vertical-align: top;\n",
       "    }\n",
       "\n",
       "    .dataframe thead th {\n",
       "        text-align: right;\n",
       "    }\n",
       "</style>\n",
       "<table border=\"1\" class=\"dataframe\">\n",
       "  <thead>\n",
       "    <tr style=\"text-align: right;\">\n",
       "      <th></th>\n",
       "      <th>datetime</th>\n",
       "      <th>oxygen_set_value</th>\n",
       "      <th>primary_air_volume</th>\n",
       "      <th>grate_manual_command</th>\n",
       "      <th>main_steam_flow_set_value</th>\n",
       "      <th>ejector_manual_command</th>\n",
       "      <th>ejector_automatic_command</th>\n",
       "      <th>nox_content</th>\n",
       "      <th>grate_actual_operation_command</th>\n",
       "      <th>secondary_air_control_door</th>\n",
       "      <th>...</th>\n",
       "      <th>primary_damper</th>\n",
       "      <th>main_steam_flow</th>\n",
       "      <th>ejector_automatic_switching_signal_False</th>\n",
       "      <th>ejector_automatic_switching_signal_True</th>\n",
       "      <th>grate_automatic_switching_signal_False</th>\n",
       "      <th>grate_automatic_switching_signal_True</th>\n",
       "      <th>pusher_on_or_off_False</th>\n",
       "      <th>pusher_on_or_off_True</th>\n",
       "      <th>grate_on_or_off_False</th>\n",
       "      <th>grate_on_or_off_True</th>\n",
       "    </tr>\n",
       "  </thead>\n",
       "  <tbody>\n",
       "    <tr>\n",
       "      <th>257399</th>\n",
       "      <td>2021-12-22 23:29:59</td>\n",
       "      <td>25.0</td>\n",
       "      <td>72773.5469</td>\n",
       "      <td>50.0</td>\n",
       "      <td>0.633463</td>\n",
       "      <td>40.0</td>\n",
       "      <td>70.0</td>\n",
       "      <td>111.5555</td>\n",
       "      <td>50.0</td>\n",
       "      <td>49.4558</td>\n",
       "      <td>...</td>\n",
       "      <td>65.5602</td>\n",
       "      <td>0.732084</td>\n",
       "      <td>1</td>\n",
       "      <td>0</td>\n",
       "      <td>1</td>\n",
       "      <td>0</td>\n",
       "      <td>1</td>\n",
       "      <td>0</td>\n",
       "      <td>1</td>\n",
       "      <td>0</td>\n",
       "    </tr>\n",
       "  </tbody>\n",
       "</table>\n",
       "<p>1 rows × 27 columns</p>\n",
       "</div>"
      ],
      "text/plain": [
       "                   datetime  oxygen_set_value  primary_air_volume  \\\n",
       "257399  2021-12-22 23:29:59              25.0          72773.5469   \n",
       "\n",
       "        grate_manual_command  main_steam_flow_set_value  \\\n",
       "257399                  50.0                   0.633463   \n",
       "\n",
       "        ejector_manual_command  ejector_automatic_command  nox_content  \\\n",
       "257399                    40.0                       70.0     111.5555   \n",
       "\n",
       "        grate_actual_operation_command  secondary_air_control_door  ...  \\\n",
       "257399                            50.0                     49.4558  ...   \n",
       "\n",
       "        primary_damper  main_steam_flow  \\\n",
       "257399         65.5602         0.732084   \n",
       "\n",
       "        ejector_automatic_switching_signal_False  \\\n",
       "257399                                         1   \n",
       "\n",
       "        ejector_automatic_switching_signal_True  \\\n",
       "257399                                        0   \n",
       "\n",
       "        grate_automatic_switching_signal_False  \\\n",
       "257399                                       1   \n",
       "\n",
       "        grate_automatic_switching_signal_True  pusher_on_or_off_False  \\\n",
       "257399                                      0                       1   \n",
       "\n",
       "        pusher_on_or_off_True  grate_on_or_off_False  grate_on_or_off_True  \n",
       "257399                      0                      1                     0  \n",
       "\n",
       "[1 rows x 27 columns]"
      ]
     },
     "execution_count": 6,
     "metadata": {},
     "output_type": "execute_result"
    }
   ],
   "source": [
    "training.tail(1)"
   ]
  },
  {
   "cell_type": "code",
   "execution_count": 7,
   "id": "54a60913",
   "metadata": {},
   "outputs": [
    {
     "data": {
      "text/html": [
       "<div>\n",
       "<style scoped>\n",
       "    .dataframe tbody tr th:only-of-type {\n",
       "        vertical-align: middle;\n",
       "    }\n",
       "\n",
       "    .dataframe tbody tr th {\n",
       "        vertical-align: top;\n",
       "    }\n",
       "\n",
       "    .dataframe thead th {\n",
       "        text-align: right;\n",
       "    }\n",
       "</style>\n",
       "<table border=\"1\" class=\"dataframe\">\n",
       "  <thead>\n",
       "    <tr style=\"text-align: right;\">\n",
       "      <th></th>\n",
       "      <th>datetime</th>\n",
       "      <th>oxygen_set_value</th>\n",
       "      <th>primary_air_volume</th>\n",
       "      <th>grate_manual_command</th>\n",
       "      <th>main_steam_flow_set_value</th>\n",
       "      <th>ejector_manual_command</th>\n",
       "      <th>ejector_automatic_command</th>\n",
       "      <th>nox_content</th>\n",
       "      <th>grate_actual_operation_command</th>\n",
       "      <th>secondary_air_control_door</th>\n",
       "      <th>...</th>\n",
       "      <th>primary_damper</th>\n",
       "      <th>main_steam_flow</th>\n",
       "      <th>ejector_automatic_switching_signal_False</th>\n",
       "      <th>ejector_automatic_switching_signal_True</th>\n",
       "      <th>grate_automatic_switching_signal_False</th>\n",
       "      <th>grate_automatic_switching_signal_True</th>\n",
       "      <th>pusher_on_or_off_False</th>\n",
       "      <th>pusher_on_or_off_True</th>\n",
       "      <th>grate_on_or_off_False</th>\n",
       "      <th>grate_on_or_off_True</th>\n",
       "    </tr>\n",
       "  </thead>\n",
       "  <tbody>\n",
       "    <tr>\n",
       "      <th>0</th>\n",
       "      <td>2021-12-22 23:30:00</td>\n",
       "      <td>25.0</td>\n",
       "      <td>72881.2344</td>\n",
       "      <td>50.0</td>\n",
       "      <td>0.633463</td>\n",
       "      <td>40.0</td>\n",
       "      <td>70.0</td>\n",
       "      <td>111.4074</td>\n",
       "      <td>50.0</td>\n",
       "      <td>49.4537</td>\n",
       "      <td>...</td>\n",
       "      <td>65.537</td>\n",
       "      <td>0.0</td>\n",
       "      <td>1</td>\n",
       "      <td>0</td>\n",
       "      <td>1</td>\n",
       "      <td>0</td>\n",
       "      <td>1</td>\n",
       "      <td>0</td>\n",
       "      <td>1</td>\n",
       "      <td>0</td>\n",
       "    </tr>\n",
       "  </tbody>\n",
       "</table>\n",
       "<p>1 rows × 27 columns</p>\n",
       "</div>"
      ],
      "text/plain": [
       "              datetime  oxygen_set_value  primary_air_volume  \\\n",
       "0  2021-12-22 23:30:00              25.0          72881.2344   \n",
       "\n",
       "   grate_manual_command  main_steam_flow_set_value  ejector_manual_command  \\\n",
       "0                  50.0                   0.633463                    40.0   \n",
       "\n",
       "   ejector_automatic_command  nox_content  grate_actual_operation_command  \\\n",
       "0                       70.0     111.4074                            50.0   \n",
       "\n",
       "   secondary_air_control_door  ...  primary_damper  main_steam_flow  \\\n",
       "0                     49.4537  ...          65.537              0.0   \n",
       "\n",
       "   ejector_automatic_switching_signal_False  \\\n",
       "0                                         1   \n",
       "\n",
       "   ejector_automatic_switching_signal_True  \\\n",
       "0                                        0   \n",
       "\n",
       "   grate_automatic_switching_signal_False  \\\n",
       "0                                       1   \n",
       "\n",
       "   grate_automatic_switching_signal_True  pusher_on_or_off_False  \\\n",
       "0                                      0                       1   \n",
       "\n",
       "   pusher_on_or_off_True  grate_on_or_off_False  grate_on_or_off_True  \n",
       "0                      0                      1                     0  \n",
       "\n",
       "[1 rows x 27 columns]"
      ]
     },
     "execution_count": 7,
     "metadata": {},
     "output_type": "execute_result"
    }
   ],
   "source": [
    "testing.head(1)"
   ]
  },
  {
   "cell_type": "code",
   "execution_count": 8,
   "id": "25286d7f",
   "metadata": {},
   "outputs": [
    {
     "data": {
      "text/html": [
       "<div>\n",
       "<style scoped>\n",
       "    .dataframe tbody tr th:only-of-type {\n",
       "        vertical-align: middle;\n",
       "    }\n",
       "\n",
       "    .dataframe tbody tr th {\n",
       "        vertical-align: top;\n",
       "    }\n",
       "\n",
       "    .dataframe thead th {\n",
       "        text-align: right;\n",
       "    }\n",
       "</style>\n",
       "<table border=\"1\" class=\"dataframe\">\n",
       "  <thead>\n",
       "    <tr style=\"text-align: right;\">\n",
       "      <th></th>\n",
       "      <th>datetime</th>\n",
       "      <th>oxygen_set_value</th>\n",
       "      <th>primary_air_volume</th>\n",
       "      <th>grate_manual_command</th>\n",
       "      <th>main_steam_flow_set_value</th>\n",
       "      <th>ejector_manual_command</th>\n",
       "      <th>ejector_automatic_command</th>\n",
       "      <th>nox_content</th>\n",
       "      <th>grate_actual_operation_command</th>\n",
       "      <th>secondary_air_control_door</th>\n",
       "      <th>...</th>\n",
       "      <th>primary_damper</th>\n",
       "      <th>main_steam_flow</th>\n",
       "      <th>ejector_automatic_switching_signal_False</th>\n",
       "      <th>ejector_automatic_switching_signal_True</th>\n",
       "      <th>grate_automatic_switching_signal_False</th>\n",
       "      <th>grate_automatic_switching_signal_True</th>\n",
       "      <th>pusher_on_or_off_False</th>\n",
       "      <th>pusher_on_or_off_True</th>\n",
       "      <th>grate_on_or_off_False</th>\n",
       "      <th>grate_on_or_off_True</th>\n",
       "    </tr>\n",
       "  </thead>\n",
       "  <tbody>\n",
       "    <tr>\n",
       "      <th>1799</th>\n",
       "      <td>2021-12-22 23:59:59</td>\n",
       "      <td>25.0</td>\n",
       "      <td>78989.5</td>\n",
       "      <td>50.0</td>\n",
       "      <td>0.633463</td>\n",
       "      <td>100.0</td>\n",
       "      <td>100.0</td>\n",
       "      <td>72.0556</td>\n",
       "      <td>50.0</td>\n",
       "      <td>20.6852</td>\n",
       "      <td>...</td>\n",
       "      <td>70.5995</td>\n",
       "      <td>0.0</td>\n",
       "      <td>0</td>\n",
       "      <td>1</td>\n",
       "      <td>0</td>\n",
       "      <td>1</td>\n",
       "      <td>1</td>\n",
       "      <td>0</td>\n",
       "      <td>1</td>\n",
       "      <td>0</td>\n",
       "    </tr>\n",
       "  </tbody>\n",
       "</table>\n",
       "<p>1 rows × 27 columns</p>\n",
       "</div>"
      ],
      "text/plain": [
       "                 datetime  oxygen_set_value  primary_air_volume  \\\n",
       "1799  2021-12-22 23:59:59              25.0             78989.5   \n",
       "\n",
       "      grate_manual_command  main_steam_flow_set_value  ejector_manual_command  \\\n",
       "1799                  50.0                   0.633463                   100.0   \n",
       "\n",
       "      ejector_automatic_command  nox_content  grate_actual_operation_command  \\\n",
       "1799                      100.0      72.0556                            50.0   \n",
       "\n",
       "      secondary_air_control_door  ...  primary_damper  main_steam_flow  \\\n",
       "1799                     20.6852  ...         70.5995              0.0   \n",
       "\n",
       "      ejector_automatic_switching_signal_False  \\\n",
       "1799                                         0   \n",
       "\n",
       "      ejector_automatic_switching_signal_True  \\\n",
       "1799                                        1   \n",
       "\n",
       "      grate_automatic_switching_signal_False  \\\n",
       "1799                                       0   \n",
       "\n",
       "      grate_automatic_switching_signal_True  pusher_on_or_off_False  \\\n",
       "1799                                      1                       1   \n",
       "\n",
       "      pusher_on_or_off_True  grate_on_or_off_False  grate_on_or_off_True  \n",
       "1799                      0                      1                     0  \n",
       "\n",
       "[1 rows x 27 columns]"
      ]
     },
     "execution_count": 8,
     "metadata": {},
     "output_type": "execute_result"
    }
   ],
   "source": [
    "testing.tail(1)"
   ]
  },
  {
   "cell_type": "markdown",
   "id": "b0359b79",
   "metadata": {},
   "source": [
    "## 02 - modeling - rnn + nn"
   ]
  },
  {
   "cell_type": "markdown",
   "id": "8bb69e96",
   "metadata": {},
   "source": [
    "### 2.1 train LSTM model\n",
    "\n",
    "#### Define a window function to slice data"
   ]
  },
  {
   "cell_type": "code",
   "execution_count": 133,
   "id": "ae1c3b65",
   "metadata": {},
   "outputs": [],
   "source": [
    "class WindowGenerator():\n",
    "    def __init__(self, input_width, label_width, shift, train_df, val_df, label_columns=None):\n",
    "        # Store the raw data.\n",
    "        self.train_df = train_df\n",
    "        self.val_df = val_df\n",
    "\n",
    "        # Work out the label column indices.\n",
    "        self.label_columns = label_columns\n",
    "        if label_columns is not None:\n",
    "            self.label_columns_indices = {name: i for i, name in enumerate(label_columns)}\n",
    "        self.column_indices = {name: i for i, name in  enumerate(train_df.columns)}\n",
    "\n",
    "        # Work out the window parameters.\n",
    "        self.input_width = input_width\n",
    "        self.label_width = label_width\n",
    "        self.shift = shift\n",
    "\n",
    "        self.total_window_size = input_width + shift\n",
    "\n",
    "        self.input_slice = slice(0, input_width)\n",
    "        self.input_indices = np.arange(self.total_window_size)[self.input_slice]\n",
    "\n",
    "        self.label_start = self.total_window_size - self.label_width\n",
    "        self.labels_slice = slice(self.label_start, None)\n",
    "        self.label_indices = np.arange(self.total_window_size)[self.labels_slice]\n",
    "\n",
    "    def __repr__(self):\n",
    "        return '\\n'.join([\n",
    "            f'Total window size: {self.total_window_size}',\n",
    "            f'Input indices: {self.input_indices}',\n",
    "            f'Label indices: {self.label_indices}',\n",
    "            f'Label column name(s): {self.label_columns}'])\n",
    "    \n",
    "    def split_window(self, features):\n",
    "        inputs = features[:, self.input_slice, :]\n",
    "        labels = features[:, self.labels_slice, :]\n",
    "        if self.label_columns is not None:\n",
    "            labels = tf.stack(\n",
    "                [labels[:, :, self.column_indices[name]] for name in self.label_columns],\n",
    "                axis=-1)\n",
    "        # Slicing doesn't preserve static shape information, so set the shapes\n",
    "        # manually. This way the `tf.data.Datasets` are easier to inspect.\n",
    "        inputs.set_shape([None, self.input_width, None])\n",
    "        labels.set_shape([None, self.label_width, None])\n",
    "        return inputs, labels\n",
    "    \n",
    "    def make_dataset(self, data, is_shuffle=True):\n",
    "        data = np.array(data, dtype=np.float32)\n",
    "        ds = tf.keras.utils.timeseries_dataset_from_array(\n",
    "            data=data,\n",
    "            targets=None,\n",
    "            sequence_length=self.total_window_size,\n",
    "            sequence_stride=1,\n",
    "            shuffle=is_shuffle,\n",
    "            batch_size=32,)\n",
    "        ds = ds.map(self.split_window)\n",
    "        return ds\n",
    "    \n",
    "    @property\n",
    "    def train(self):\n",
    "        return self.make_dataset(self.train_df)\n",
    "\n",
    "    @property\n",
    "    def val(self):\n",
    "        return self.make_dataset(self.val_df)\n",
    "    \n",
    "    @property\n",
    "    def val2(self):\n",
    "        return self.make_dataset(self.val_df, False) # dont shuffle"
   ]
  },
  {
   "cell_type": "code",
   "execution_count": 134,
   "id": "eb8c41d0",
   "metadata": {},
   "outputs": [
    {
     "data": {
      "text/plain": [
       "Total window size: 6\n",
       "Input indices: [0 1 2 3 4 5]\n",
       "Label indices: [5]\n",
       "Label column name(s): ['main_steam_flow']"
      ]
     },
     "execution_count": 134,
     "metadata": {},
     "output_type": "execute_result"
    }
   ],
   "source": [
    "# retrieve features and labels\n",
    "x = training[numerical_features + label]\n",
    "\n",
    "# split training data into train and validation (latest 1800 records for validation, remaining for training)\n",
    "val_num = 7200\n",
    "x_train = x[:-val_num]\n",
    "x_val = x[-val_num:]\n",
    "\n",
    "input_width = 6 # how many time steps are using\n",
    "label_width = 1 # how many labels are predicted one at time\n",
    "shift = 0 # offset between input feature and label\n",
    "\n",
    "# init window generator\n",
    "w_lstm = WindowGenerator(input_width, \n",
    "                         label_width,\n",
    "                         shift,\n",
    "                         train_df=x_train,\n",
    "                         val_df=x_val,\n",
    "                         label_columns=label)\n",
    "\n",
    "w_lstm"
   ]
  },
  {
   "cell_type": "code",
   "execution_count": 135,
   "id": "7d739195",
   "metadata": {},
   "outputs": [
    {
     "name": "stdout",
     "output_type": "stream",
     "text": [
      "Inputs shape (batch, time, features): (32, 6, 4)\n",
      "Labels shape (batch, time, features): (32, 1, 1)\n",
      "tf.Tensor(\n",
      "[[0.6334635  0.09371341 0.61792654 0.7557731 ]\n",
      " [0.6334635  0.09371341 0.6177525  0.7581337 ]\n",
      " [0.6334635  0.09371341 0.6175335  0.7612084 ]\n",
      " [0.6334635  0.08381981 0.6173239  0.7564998 ]\n",
      " [0.6334635  0.08381981 0.6169514  0.7562576 ]\n",
      " [0.6334635  0.08381981 0.6169252  0.75804037]], shape=(6, 4), dtype=float32)\n",
      "tf.Tensor([[0.75804037]], shape=(1, 1), dtype=float32)\n"
     ]
    }
   ],
   "source": [
    "for example_inputs, example_labels in w_lstm.train.take(1):\n",
    "    print(f'Inputs shape (batch, time, features): {example_inputs.shape}')\n",
    "    print(f'Labels shape (batch, time, features): {example_labels.shape}')\n",
    "    \n",
    "    print(example_inputs[0])\n",
    "    print(example_labels[0])"
   ]
  },
  {
   "cell_type": "code",
   "execution_count": 136,
   "id": "6dcbbc2e",
   "metadata": {},
   "outputs": [
    {
     "data": {
      "text/plain": [
       "<tf.Tensor: shape=(5, 4), dtype=float32, numpy=\n",
       "array([[0.6334635 , 0.09371341, 0.61792654, 0.7557731 ],\n",
       "       [0.6334635 , 0.09371341, 0.6177525 , 0.7581337 ],\n",
       "       [0.6334635 , 0.09371341, 0.6175335 , 0.7612084 ],\n",
       "       [0.6334635 , 0.08381981, 0.6173239 , 0.7564998 ],\n",
       "       [0.6334635 , 0.08381981, 0.6169514 , 0.7562576 ]], dtype=float32)>"
      ]
     },
     "execution_count": 136,
     "metadata": {},
     "output_type": "execute_result"
    }
   ],
   "source": [
    "example_inputs[0, :5, :]"
   ]
  },
  {
   "cell_type": "code",
   "execution_count": 137,
   "id": "ed7556fc",
   "metadata": {},
   "outputs": [
    {
     "data": {
      "text/plain": [
       "<tf.Tensor: shape=(3,), dtype=float32, numpy=array([0.6334635 , 0.08381981, 0.6169252 ], dtype=float32)>"
      ]
     },
     "execution_count": 137,
     "metadata": {},
     "output_type": "execute_result"
    }
   ],
   "source": [
    "example_inputs[0, -1, :3]"
   ]
  },
  {
   "cell_type": "markdown",
   "id": "500b1a9c",
   "metadata": {},
   "source": [
    "### Define a customized model"
   ]
  },
  {
   "cell_type": "code",
   "execution_count": 138,
   "id": "417f9624",
   "metadata": {},
   "outputs": [
    {
     "name": "stdout",
     "output_type": "stream",
     "text": [
      "Model: \"model_6\"\n",
      "__________________________________________________________________________________________________\n",
      " Layer (type)                   Output Shape         Param #     Connected to                     \n",
      "==================================================================================================\n",
      " input_15 (InputLayer)          [(None, 6, 4)]       0           []                               \n",
      "                                                                                                  \n",
      " tf.__operators__.getitem_26 (S  (None, 5, 4)        0           ['input_15[0][0]']               \n",
      " licingOpLambda)                                                                                  \n",
      "                                                                                                  \n",
      " tf.__operators__.getitem_27 (S  (None, 3)           0           ['input_15[0][0]']               \n",
      " licingOpLambda)                                                                                  \n",
      "                                                                                                  \n",
      " lstm_38 (LSTM)                 (None, 32)           4736        ['tf.__operators__.getitem_26[0][\n",
      "                                                                 0]']                             \n",
      "                                                                                                  \n",
      " dense_58 (Dense)               (None, 32)           128         ['tf.__operators__.getitem_27[0][\n",
      "                                                                 0]']                             \n",
      "                                                                                                  \n",
      " concatenate_9 (Concatenate)    (None, 64)           0           ['lstm_38[0][0]',                \n",
      "                                                                  'dense_58[0][0]']               \n",
      "                                                                                                  \n",
      " dense_59 (Dense)               (None, 1)            65          ['concatenate_9[0][0]']          \n",
      "                                                                                                  \n",
      "==================================================================================================\n",
      "Total params: 4,929\n",
      "Trainable params: 4,929\n",
      "Non-trainable params: 0\n",
      "__________________________________________________________________________________________________\n"
     ]
    }
   ],
   "source": [
    "# define hyperparameter\n",
    "MAX_EPOCHS = 200\n",
    "patience = 3\n",
    "lr = 1e-3\n",
    "batch_size = 32\n",
    "\n",
    "# using functional API to build model \n",
    "inputs = keras.Input(shape=(6, 4))\n",
    "x1 = layers.LSTM(32)(inputs[:, :5, :])\n",
    "x2 = layers.Dense(32, activation='relu')(inputs[:, -1, :3])\n",
    "x = layers.Concatenate(axis=-1)([x1, x2])\n",
    "outputs = layers.Dense(1)(x)\n",
    "model = tf.keras.Model(inputs=inputs, outputs=outputs)\n",
    "\n",
    "# compile model\n",
    "model.compile(optimizer=tf.keras.optimizers.Adam(learning_rate=lr),\n",
    "              loss=keras.losses.MeanSquaredError(),\n",
    "              metrics=[keras.metrics.MeanAbsoluteError()])\n",
    "\n",
    "\n",
    "# define early stoping\n",
    "early_stopping = tf.keras.callbacks.EarlyStopping(monitor='val_loss',\n",
    "                                                  patience=patience,\n",
    "                                                  mode='min')\n",
    "\n",
    "model.summary()"
   ]
  },
  {
   "cell_type": "code",
   "execution_count": 139,
   "id": "4c3addd4",
   "metadata": {},
   "outputs": [
    {
     "data": {
      "text/plain": [
       "<tf.Tensor: shape=(32, 1), dtype=float32, numpy=\n",
       "array([[ 0.08996148],\n",
       "       [ 0.08172622],\n",
       "       [ 0.18886319],\n",
       "       [-0.04442333],\n",
       "       [ 0.22568859],\n",
       "       [ 0.05707255],\n",
       "       [ 0.18049389],\n",
       "       [-0.03030537],\n",
       "       [ 0.37659064],\n",
       "       [ 0.18316042],\n",
       "       [-0.02566229],\n",
       "       [ 0.24412686],\n",
       "       [-0.10305707],\n",
       "       [-0.04422274],\n",
       "       [ 0.25948104],\n",
       "       [ 0.04769907],\n",
       "       [ 0.5043645 ],\n",
       "       [ 0.24154499],\n",
       "       [ 0.06469423],\n",
       "       [ 0.3785589 ],\n",
       "       [ 0.00943656],\n",
       "       [ 0.23723587],\n",
       "       [ 0.27848828],\n",
       "       [ 0.05787132],\n",
       "       [ 0.00113784],\n",
       "       [ 0.05818079],\n",
       "       [ 0.08989094],\n",
       "       [ 0.0235869 ],\n",
       "       [ 0.06799191],\n",
       "       [ 0.27213582],\n",
       "       [ 0.28600216],\n",
       "       [ 0.19304799]], dtype=float32)>"
      ]
     },
     "execution_count": 139,
     "metadata": {},
     "output_type": "execute_result"
    }
   ],
   "source": [
    "# test forward pass\n",
    "random_input = tf.random.normal([32, 6, 4])\n",
    "random_output = model(random_input)\n",
    "random_output"
   ]
  },
  {
   "cell_type": "code",
   "execution_count": 140,
   "id": "85c9b312",
   "metadata": {},
   "outputs": [
    {
     "name": "stdout",
     "output_type": "stream",
     "text": [
      "Epoch 1/200\n",
      "7819/7819 [==============================] - 22s 3ms/step - loss: 6.7547e-04 - mean_absolute_error: 0.0051 - val_loss: 9.6502e-06 - val_mean_absolute_error: 0.0022\n",
      "Epoch 2/200\n",
      "7819/7819 [==============================] - 20s 3ms/step - loss: 9.3754e-06 - mean_absolute_error: 0.0023 - val_loss: 3.4328e-05 - val_mean_absolute_error: 0.0053\n",
      "Epoch 3/200\n",
      "7819/7819 [==============================] - 21s 3ms/step - loss: 8.2850e-06 - mean_absolute_error: 0.0022 - val_loss: 9.0847e-06 - val_mean_absolute_error: 0.0023\n",
      "Epoch 4/200\n",
      "7819/7819 [==============================] - 21s 3ms/step - loss: 7.4702e-06 - mean_absolute_error: 0.0021 - val_loss: 8.1567e-06 - val_mean_absolute_error: 0.0020\n",
      "Epoch 5/200\n",
      "7819/7819 [==============================] - 20s 3ms/step - loss: 7.0290e-06 - mean_absolute_error: 0.0020 - val_loss: 6.6261e-06 - val_mean_absolute_error: 0.0019\n",
      "Epoch 6/200\n",
      "7819/7819 [==============================] - 21s 3ms/step - loss: 6.6013e-06 - mean_absolute_error: 0.0020 - val_loss: 7.2125e-06 - val_mean_absolute_error: 0.0020\n",
      "Epoch 7/200\n",
      "7819/7819 [==============================] - 21s 3ms/step - loss: 6.2955e-06 - mean_absolute_error: 0.0019 - val_loss: 5.7973e-06 - val_mean_absolute_error: 0.0018\n",
      "Epoch 8/200\n",
      "7819/7819 [==============================] - 21s 3ms/step - loss: 6.1714e-06 - mean_absolute_error: 0.0019 - val_loss: 2.0445e-05 - val_mean_absolute_error: 0.0039\n",
      "Epoch 9/200\n",
      "7819/7819 [==============================] - 20s 3ms/step - loss: 5.8886e-06 - mean_absolute_error: 0.0019 - val_loss: 5.3041e-06 - val_mean_absolute_error: 0.0017\n",
      "Epoch 10/200\n",
      "7819/7819 [==============================] - 20s 3ms/step - loss: 5.7024e-06 - mean_absolute_error: 0.0018 - val_loss: 9.2612e-06 - val_mean_absolute_error: 0.0025\n",
      "Epoch 11/200\n",
      "7819/7819 [==============================] - 21s 3ms/step - loss: 5.6876e-06 - mean_absolute_error: 0.0018 - val_loss: 8.7587e-06 - val_mean_absolute_error: 0.0023\n",
      "Epoch 12/200\n",
      "7819/7819 [==============================] - 21s 3ms/step - loss: 5.5168e-06 - mean_absolute_error: 0.0018 - val_loss: 5.4492e-06 - val_mean_absolute_error: 0.0018\n"
     ]
    }
   ],
   "source": [
    "history = model.fit(w_lstm.train,\n",
    "                    epochs=MAX_EPOCHS,\n",
    "                    validation_data=w_lstm.val,\n",
    "                    callbacks=[early_stopping])"
   ]
  },
  {
   "cell_type": "markdown",
   "id": "cfa9d4f8",
   "metadata": {},
   "source": [
    "### Evaluate prediction"
   ]
  },
  {
   "cell_type": "code",
   "execution_count": 143,
   "id": "ad7a9ce4",
   "metadata": {},
   "outputs": [
    {
     "name": "stdout",
     "output_type": "stream",
     "text": [
      "225/225 [==============================] - 0s 1ms/step - loss: 5.4492e-06 - mean_absolute_error: 0.0018\n",
      "CPU times: user 1.37 s, sys: 477 ms, total: 1.85 s\n",
      "Wall time: 403 ms\n"
     ]
    },
    {
     "data": {
      "text/plain": [
       "[5.449188847705955e-06, 0.0018109532538801432]"
      ]
     },
     "execution_count": 143,
     "metadata": {},
     "output_type": "execute_result"
    }
   ],
   "source": [
    "%%time\n",
    "model.evaluate(w_lstm.val)"
   ]
  },
  {
   "cell_type": "code",
   "execution_count": 144,
   "id": "219a63a2",
   "metadata": {},
   "outputs": [
    {
     "name": "stdout",
     "output_type": "stream",
     "text": [
      "225/225 [==============================] - 0s 2ms/step - loss: 5.4492e-06 - mean_absolute_error: 0.0018\n",
      "CPU times: user 1.47 s, sys: 520 ms, total: 1.99 s\n",
      "Wall time: 429 ms\n"
     ]
    },
    {
     "data": {
      "text/plain": [
       "[5.4491893024533056e-06, 0.0018109525553882122]"
      ]
     },
     "execution_count": 144,
     "metadata": {},
     "output_type": "execute_result"
    }
   ],
   "source": [
    "%%time\n",
    "model.evaluate(w_lstm.val2)"
   ]
  },
  {
   "cell_type": "code",
   "execution_count": 145,
   "id": "9988f990",
   "metadata": {},
   "outputs": [
    {
     "name": "stdout",
     "output_type": "stream",
     "text": [
      "225/225 [==============================] - 1s 1ms/step\n"
     ]
    }
   ],
   "source": [
    "predictions = model.predict(w_lstm.val2)"
   ]
  },
  {
   "cell_type": "code",
   "execution_count": 146,
   "id": "65ce2bd3",
   "metadata": {},
   "outputs": [
    {
     "data": {
      "text/plain": [
       "(7195, 1)"
      ]
     },
     "execution_count": 146,
     "metadata": {},
     "output_type": "execute_result"
    }
   ],
   "source": [
    "predictions.shape"
   ]
  },
  {
   "cell_type": "code",
   "execution_count": 150,
   "id": "2f02b786",
   "metadata": {},
   "outputs": [
    {
     "data": {
      "text/plain": [
       "(7195, 1)"
      ]
     },
     "execution_count": 150,
     "metadata": {},
     "output_type": "execute_result"
    }
   ],
   "source": [
    "predictions.shape"
   ]
  },
  {
   "cell_type": "code",
   "execution_count": 151,
   "id": "2a8b6cad",
   "metadata": {},
   "outputs": [
    {
     "data": {
      "text/plain": [
       "7200"
      ]
     },
     "execution_count": 151,
     "metadata": {},
     "output_type": "execute_result"
    }
   ],
   "source": [
    "true_pred = np.concatenate(([0, 0, 0, 0, 0], predictions.reshape(7195)), axis=0)\n",
    "len(true_pred)"
   ]
  },
  {
   "cell_type": "code",
   "execution_count": 152,
   "id": "f87a5fa4",
   "metadata": {},
   "outputs": [],
   "source": [
    "x_val['prediction'] = true_pred"
   ]
  },
  {
   "cell_type": "code",
   "execution_count": 153,
   "id": "bd687438",
   "metadata": {},
   "outputs": [],
   "source": [
    "# inverse to previous value\n",
    "x_val_inversed = scaler.inverse_transform(x_val[['main_steam_flow_set_value', 'secondary_air_volume', 'water_flow', 'main_steam_flow']])\n",
    "x_val_inversed_prediction = scaler.inverse_transform(x_val[['main_steam_flow_set_value', 'secondary_air_volume', 'water_flow', 'prediction']])"
   ]
  },
  {
   "cell_type": "code",
   "execution_count": 159,
   "id": "ce42ce80",
   "metadata": {},
   "outputs": [
    {
     "data": {
      "text/plain": [
       "(7200, 4)"
      ]
     },
     "execution_count": 159,
     "metadata": {},
     "output_type": "execute_result"
    }
   ],
   "source": [
    "x_val_inversed.shape"
   ]
  },
  {
   "cell_type": "code",
   "execution_count": 160,
   "id": "9dccdae6",
   "metadata": {},
   "outputs": [
    {
     "data": {
      "text/plain": [
       "<AxesSubplot:>"
      ]
     },
     "execution_count": 160,
     "metadata": {},
     "output_type": "execute_result"
    },
    {
     "data": {
      "image/png": "[encoded data removed]",
      "text/plain": [
       "<Figure size 2160x720 with 1 Axes>"
      ]
     },
     "metadata": {
      "needs_background": "light"
     },
     "output_type": "display_data"
    }
   ],
   "source": [
    "# append predictions with ground truth\n",
    "val_df = pd.DataFrame(data={#'datetime': training.iloc[-val_num:]['datetime'],\n",
    "                            'ground_truth': x_val_inversed[6:,3],\n",
    "                            'prediction': x_val_inversed_prediction[6:,3]\n",
    "                           })\n",
    "\n",
    "# val_df.index = pd.to_datetime(val_df['datetime'], format='%Y-%m-%d %X')\n",
    "\n",
    "# plot ground truth vs predictions\n",
    "val_df[['ground_truth', 'prediction']].plot.line(figsize=(30, 10))"
   ]
  },
  {
   "cell_type": "code",
   "execution_count": 210,
   "id": "73371532",
   "metadata": {},
   "outputs": [
    {
     "data": {
      "text/plain": [
       "<AxesSubplot:>"
      ]
     },
     "execution_count": 210,
     "metadata": {},
     "output_type": "execute_result"
    },
    {
     "data": {
      "image/png": "[encoded data removed]",
      "text/plain": [
       "<Figure size 2160x720 with 1 Axes>"
      ]
     },
     "metadata": {
      "needs_background": "light"
     },
     "output_type": "display_data"
    }
   ],
   "source": [
    "# plot ground truth vs predictions\n",
    "val_df[['ground_truth', 'prediction']].head(600).plot.line(figsize=(30, 10))"
   ]
  },
  {
   "cell_type": "code",
   "execution_count": 169,
   "id": "bb5a24e0",
   "metadata": {},
   "outputs": [
    {
     "data": {
      "text/plain": [
       "<AxesSubplot:>"
      ]
     },
     "execution_count": 169,
     "metadata": {},
     "output_type": "execute_result"
    },
    {
     "data": {
      "image/png": "[encoded data removed]",
      "text/plain": [
       "<Figure size 2160x720 with 1 Axes>"
      ]
     },
     "metadata": {
      "needs_background": "light"
     },
     "output_type": "display_data"
    }
   ],
   "source": [
    "# plot ground truth vs predictions\n",
    "x_val[['water_flow']].head(200).plot.line(figsize=(30, 10))"
   ]
  },
  {
   "cell_type": "code",
   "execution_count": 205,
   "id": "2a179b83",
   "metadata": {},
   "outputs": [
    {
     "data": {
      "text/html": [
       "<div>\n",
       "<style scoped>\n",
       "    .dataframe tbody tr th:only-of-type {\n",
       "        vertical-align: middle;\n",
       "    }\n",
       "\n",
       "    .dataframe tbody tr th {\n",
       "        vertical-align: top;\n",
       "    }\n",
       "\n",
       "    .dataframe thead th {\n",
       "        text-align: right;\n",
       "    }\n",
       "</style>\n",
       "<table border=\"1\" class=\"dataframe\">\n",
       "  <thead>\n",
       "    <tr style=\"text-align: right;\">\n",
       "      <th></th>\n",
       "      <th>main_steam_flow_set_value</th>\n",
       "      <th>secondary_air_volume</th>\n",
       "      <th>water_flow</th>\n",
       "      <th>main_steam_flow</th>\n",
       "    </tr>\n",
       "  </thead>\n",
       "  <tbody>\n",
       "    <tr>\n",
       "      <th>257395</th>\n",
       "      <td>0.633463</td>\n",
       "      <td>0.517832</td>\n",
       "      <td>0.407222</td>\n",
       "      <td>0.729007</td>\n",
       "    </tr>\n",
       "    <tr>\n",
       "      <th>257396</th>\n",
       "      <td>0.633463</td>\n",
       "      <td>0.518397</td>\n",
       "      <td>0.406939</td>\n",
       "      <td>0.729234</td>\n",
       "    </tr>\n",
       "    <tr>\n",
       "      <th>257397</th>\n",
       "      <td>0.633463</td>\n",
       "      <td>0.521774</td>\n",
       "      <td>0.406913</td>\n",
       "      <td>0.728869</td>\n",
       "    </tr>\n",
       "    <tr>\n",
       "      <th>257398</th>\n",
       "      <td>0.633463</td>\n",
       "      <td>0.520088</td>\n",
       "      <td>0.407061</td>\n",
       "      <td>0.728502</td>\n",
       "    </tr>\n",
       "    <tr>\n",
       "      <th>257399</th>\n",
       "      <td>0.633463</td>\n",
       "      <td>0.518397</td>\n",
       "      <td>0.407072</td>\n",
       "      <td>0.732084</td>\n",
       "    </tr>\n",
       "    <tr>\n",
       "      <th>0</th>\n",
       "      <td>0.633463</td>\n",
       "      <td>0.518397</td>\n",
       "      <td>0.407695</td>\n",
       "      <td>0.000000</td>\n",
       "    </tr>\n",
       "    <tr>\n",
       "      <th>1</th>\n",
       "      <td>0.633463</td>\n",
       "      <td>0.516133</td>\n",
       "      <td>0.407922</td>\n",
       "      <td>0.000000</td>\n",
       "    </tr>\n",
       "    <tr>\n",
       "      <th>2</th>\n",
       "      <td>0.633463</td>\n",
       "      <td>0.518397</td>\n",
       "      <td>0.407475</td>\n",
       "      <td>0.000000</td>\n",
       "    </tr>\n",
       "    <tr>\n",
       "      <th>3</th>\n",
       "      <td>0.633463</td>\n",
       "      <td>0.518397</td>\n",
       "      <td>0.407130</td>\n",
       "      <td>0.000000</td>\n",
       "    </tr>\n",
       "    <tr>\n",
       "      <th>4</th>\n",
       "      <td>0.633463</td>\n",
       "      <td>0.520088</td>\n",
       "      <td>0.406939</td>\n",
       "      <td>0.000000</td>\n",
       "    </tr>\n",
       "  </tbody>\n",
       "</table>\n",
       "</div>"
      ],
      "text/plain": [
       "        main_steam_flow_set_value  secondary_air_volume  water_flow  \\\n",
       "257395                   0.633463              0.517832    0.407222   \n",
       "257396                   0.633463              0.518397    0.406939   \n",
       "257397                   0.633463              0.521774    0.406913   \n",
       "257398                   0.633463              0.520088    0.407061   \n",
       "257399                   0.633463              0.518397    0.407072   \n",
       "0                        0.633463              0.518397    0.407695   \n",
       "1                        0.633463              0.516133    0.407922   \n",
       "2                        0.633463              0.518397    0.407475   \n",
       "3                        0.633463              0.518397    0.407130   \n",
       "4                        0.633463              0.520088    0.406939   \n",
       "\n",
       "        main_steam_flow  \n",
       "257395         0.729007  \n",
       "257396         0.729234  \n",
       "257397         0.728869  \n",
       "257398         0.728502  \n",
       "257399         0.732084  \n",
       "0              0.000000  \n",
       "1              0.000000  \n",
       "2              0.000000  \n",
       "3              0.000000  \n",
       "4              0.000000  "
      ]
     },
     "execution_count": 205,
     "metadata": {},
     "output_type": "execute_result"
    }
   ],
   "source": [
    "# retrieve last 5 records from validation and append to test\n",
    "x_submission = pd.concat([x_val[-5:], testing[numerical_features + label]], axis=0)\n",
    "x_submission = x_submission[numerical_features + label]\n",
    "x_submission.head(10)"
   ]
  },
  {
   "cell_type": "code",
   "execution_count": 206,
   "id": "5ca8ea9e",
   "metadata": {},
   "outputs": [
    {
     "data": {
      "text/html": [
       "<div>\n",
       "<style scoped>\n",
       "    .dataframe tbody tr th:only-of-type {\n",
       "        vertical-align: middle;\n",
       "    }\n",
       "\n",
       "    .dataframe tbody tr th {\n",
       "        vertical-align: top;\n",
       "    }\n",
       "\n",
       "    .dataframe thead th {\n",
       "        text-align: right;\n",
       "    }\n",
       "</style>\n",
       "<table border=\"1\" class=\"dataframe\">\n",
       "  <thead>\n",
       "    <tr style=\"text-align: right;\">\n",
       "      <th></th>\n",
       "      <th>main_steam_flow_set_value</th>\n",
       "      <th>secondary_air_volume</th>\n",
       "      <th>water_flow</th>\n",
       "      <th>main_steam_flow</th>\n",
       "    </tr>\n",
       "  </thead>\n",
       "  <tbody>\n",
       "    <tr>\n",
       "      <th>1790</th>\n",
       "      <td>0.633463</td>\n",
       "      <td>0.181072</td>\n",
       "      <td>0.406065</td>\n",
       "      <td>0.0</td>\n",
       "    </tr>\n",
       "    <tr>\n",
       "      <th>1791</th>\n",
       "      <td>0.633463</td>\n",
       "      <td>0.185858</td>\n",
       "      <td>0.405970</td>\n",
       "      <td>0.0</td>\n",
       "    </tr>\n",
       "    <tr>\n",
       "      <th>1792</th>\n",
       "      <td>0.633463</td>\n",
       "      <td>0.185858</td>\n",
       "      <td>0.405578</td>\n",
       "      <td>0.0</td>\n",
       "    </tr>\n",
       "    <tr>\n",
       "      <th>1793</th>\n",
       "      <td>0.633463</td>\n",
       "      <td>0.181072</td>\n",
       "      <td>0.405595</td>\n",
       "      <td>0.0</td>\n",
       "    </tr>\n",
       "    <tr>\n",
       "      <th>1794</th>\n",
       "      <td>0.633463</td>\n",
       "      <td>0.185858</td>\n",
       "      <td>0.405303</td>\n",
       "      <td>0.0</td>\n",
       "    </tr>\n",
       "    <tr>\n",
       "      <th>1795</th>\n",
       "      <td>0.633463</td>\n",
       "      <td>0.174485</td>\n",
       "      <td>0.404899</td>\n",
       "      <td>0.0</td>\n",
       "    </tr>\n",
       "    <tr>\n",
       "      <th>1796</th>\n",
       "      <td>0.633463</td>\n",
       "      <td>0.174485</td>\n",
       "      <td>0.404145</td>\n",
       "      <td>0.0</td>\n",
       "    </tr>\n",
       "    <tr>\n",
       "      <th>1797</th>\n",
       "      <td>0.633463</td>\n",
       "      <td>0.174485</td>\n",
       "      <td>0.403922</td>\n",
       "      <td>0.0</td>\n",
       "    </tr>\n",
       "    <tr>\n",
       "      <th>1798</th>\n",
       "      <td>0.633463</td>\n",
       "      <td>0.169377</td>\n",
       "      <td>0.404558</td>\n",
       "      <td>0.0</td>\n",
       "    </tr>\n",
       "    <tr>\n",
       "      <th>1799</th>\n",
       "      <td>0.633463</td>\n",
       "      <td>0.156813</td>\n",
       "      <td>0.406213</td>\n",
       "      <td>0.0</td>\n",
       "    </tr>\n",
       "  </tbody>\n",
       "</table>\n",
       "</div>"
      ],
      "text/plain": [
       "      main_steam_flow_set_value  secondary_air_volume  water_flow  \\\n",
       "1790                   0.633463              0.181072    0.406065   \n",
       "1791                   0.633463              0.185858    0.405970   \n",
       "1792                   0.633463              0.185858    0.405578   \n",
       "1793                   0.633463              0.181072    0.405595   \n",
       "1794                   0.633463              0.185858    0.405303   \n",
       "1795                   0.633463              0.174485    0.404899   \n",
       "1796                   0.633463              0.174485    0.404145   \n",
       "1797                   0.633463              0.174485    0.403922   \n",
       "1798                   0.633463              0.169377    0.404558   \n",
       "1799                   0.633463              0.156813    0.406213   \n",
       "\n",
       "      main_steam_flow  \n",
       "1790              0.0  \n",
       "1791              0.0  \n",
       "1792              0.0  \n",
       "1793              0.0  \n",
       "1794              0.0  \n",
       "1795              0.0  \n",
       "1796              0.0  \n",
       "1797              0.0  \n",
       "1798              0.0  \n",
       "1799              0.0  "
      ]
     },
     "execution_count": 206,
     "metadata": {},
     "output_type": "execute_result"
    }
   ],
   "source": [
    "x_submission.tail(10)"
   ]
  },
  {
   "cell_type": "markdown",
   "id": "f9033d06",
   "metadata": {},
   "source": [
    "### rolling prediction"
   ]
  },
  {
   "cell_type": "code",
   "execution_count": 207,
   "id": "888e6f68",
   "metadata": {
    "scrolled": true
   },
   "outputs": [
    {
     "name": "stdout",
     "output_type": "stream",
     "text": [
      "1/1 [==============================] - 0s 15ms/step\n"
     ]
    }
   ],
   "source": [
    "# calc number of iteration\n",
    "num_iteration = x_submission.shape[0] - input_width\n",
    "# define start index and end index\n",
    "s_idx, e_idx = 0, input_width\n",
    "\n",
    "for i in range(0, num_iteration+1):\n",
    "    # retrieve input features\n",
    "    input_features = x_submission.iloc[s_idx:e_idx]\n",
    "    # make prediction\n",
    "    pred = model.predict(input_features.values.reshape(1, input_width, 4))\n",
    "    # update prediction in dataframe as next step feature input\n",
    "    x_submission.iloc[e_idx - 1]['main_steam_flow'] = pred[0][0]\n",
    "    # increase start and end idx\n",
    "    s_idx += 1\n",
    "    e_idx += 1\n",
    "    \n",
    "    break"
   ]
  },
  {
   "cell_type": "code",
   "execution_count": 208,
   "id": "245b55ea",
   "metadata": {},
   "outputs": [
    {
     "data": {
      "text/html": [
       "<div>\n",
       "<style scoped>\n",
       "    .dataframe tbody tr th:only-of-type {\n",
       "        vertical-align: middle;\n",
       "    }\n",
       "\n",
       "    .dataframe tbody tr th {\n",
       "        vertical-align: top;\n",
       "    }\n",
       "\n",
       "    .dataframe thead th {\n",
       "        text-align: right;\n",
       "    }\n",
       "</style>\n",
       "<table border=\"1\" class=\"dataframe\">\n",
       "  <thead>\n",
       "    <tr style=\"text-align: right;\">\n",
       "      <th></th>\n",
       "      <th>main_steam_flow_set_value</th>\n",
       "      <th>secondary_air_volume</th>\n",
       "      <th>water_flow</th>\n",
       "      <th>main_steam_flow</th>\n",
       "    </tr>\n",
       "  </thead>\n",
       "  <tbody>\n",
       "    <tr>\n",
       "      <th>257395</th>\n",
       "      <td>0.633463</td>\n",
       "      <td>0.517832</td>\n",
       "      <td>0.407222</td>\n",
       "      <td>0.729007</td>\n",
       "    </tr>\n",
       "    <tr>\n",
       "      <th>257396</th>\n",
       "      <td>0.633463</td>\n",
       "      <td>0.518397</td>\n",
       "      <td>0.406939</td>\n",
       "      <td>0.729234</td>\n",
       "    </tr>\n",
       "    <tr>\n",
       "      <th>257397</th>\n",
       "      <td>0.633463</td>\n",
       "      <td>0.521774</td>\n",
       "      <td>0.406913</td>\n",
       "      <td>0.728869</td>\n",
       "    </tr>\n",
       "    <tr>\n",
       "      <th>257398</th>\n",
       "      <td>0.633463</td>\n",
       "      <td>0.520088</td>\n",
       "      <td>0.407061</td>\n",
       "      <td>0.728502</td>\n",
       "    </tr>\n",
       "    <tr>\n",
       "      <th>257399</th>\n",
       "      <td>0.633463</td>\n",
       "      <td>0.518397</td>\n",
       "      <td>0.407072</td>\n",
       "      <td>0.732084</td>\n",
       "    </tr>\n",
       "    <tr>\n",
       "      <th>0</th>\n",
       "      <td>0.633463</td>\n",
       "      <td>0.518397</td>\n",
       "      <td>0.407695</td>\n",
       "      <td>0.731694</td>\n",
       "    </tr>\n",
       "    <tr>\n",
       "      <th>1</th>\n",
       "      <td>0.633463</td>\n",
       "      <td>0.516133</td>\n",
       "      <td>0.407922</td>\n",
       "      <td>0.000000</td>\n",
       "    </tr>\n",
       "    <tr>\n",
       "      <th>2</th>\n",
       "      <td>0.633463</td>\n",
       "      <td>0.518397</td>\n",
       "      <td>0.407475</td>\n",
       "      <td>0.000000</td>\n",
       "    </tr>\n",
       "    <tr>\n",
       "      <th>3</th>\n",
       "      <td>0.633463</td>\n",
       "      <td>0.518397</td>\n",
       "      <td>0.407130</td>\n",
       "      <td>0.000000</td>\n",
       "    </tr>\n",
       "    <tr>\n",
       "      <th>4</th>\n",
       "      <td>0.633463</td>\n",
       "      <td>0.520088</td>\n",
       "      <td>0.406939</td>\n",
       "      <td>0.000000</td>\n",
       "    </tr>\n",
       "  </tbody>\n",
       "</table>\n",
       "</div>"
      ],
      "text/plain": [
       "        main_steam_flow_set_value  secondary_air_volume  water_flow  \\\n",
       "257395                   0.633463              0.517832    0.407222   \n",
       "257396                   0.633463              0.518397    0.406939   \n",
       "257397                   0.633463              0.521774    0.406913   \n",
       "257398                   0.633463              0.520088    0.407061   \n",
       "257399                   0.633463              0.518397    0.407072   \n",
       "0                        0.633463              0.518397    0.407695   \n",
       "1                        0.633463              0.516133    0.407922   \n",
       "2                        0.633463              0.518397    0.407475   \n",
       "3                        0.633463              0.518397    0.407130   \n",
       "4                        0.633463              0.520088    0.406939   \n",
       "\n",
       "        main_steam_flow  \n",
       "257395         0.729007  \n",
       "257396         0.729234  \n",
       "257397         0.728869  \n",
       "257398         0.728502  \n",
       "257399         0.732084  \n",
       "0              0.731694  \n",
       "1              0.000000  \n",
       "2              0.000000  \n",
       "3              0.000000  \n",
       "4              0.000000  "
      ]
     },
     "execution_count": 208,
     "metadata": {},
     "output_type": "execute_result"
    }
   ],
   "source": [
    "x_submission.head(10)"
   ]
  },
  {
   "cell_type": "code",
   "execution_count": 199,
   "id": "2aec5369",
   "metadata": {},
   "outputs": [
    {
     "data": {
      "text/html": [
       "<div>\n",
       "<style scoped>\n",
       "    .dataframe tbody tr th:only-of-type {\n",
       "        vertical-align: middle;\n",
       "    }\n",
       "\n",
       "    .dataframe tbody tr th {\n",
       "        vertical-align: top;\n",
       "    }\n",
       "\n",
       "    .dataframe thead th {\n",
       "        text-align: right;\n",
       "    }\n",
       "</style>\n",
       "<table border=\"1\" class=\"dataframe\">\n",
       "  <thead>\n",
       "    <tr style=\"text-align: right;\">\n",
       "      <th></th>\n",
       "      <th>main_steam_flow_set_value</th>\n",
       "      <th>secondary_air_volume</th>\n",
       "      <th>water_flow</th>\n",
       "      <th>main_steam_flow</th>\n",
       "    </tr>\n",
       "  </thead>\n",
       "  <tbody>\n",
       "    <tr>\n",
       "      <th>1790</th>\n",
       "      <td>0.633463</td>\n",
       "      <td>0.181072</td>\n",
       "      <td>0.406065</td>\n",
       "      <td>0.952417</td>\n",
       "    </tr>\n",
       "    <tr>\n",
       "      <th>1791</th>\n",
       "      <td>0.633463</td>\n",
       "      <td>0.185858</td>\n",
       "      <td>0.405970</td>\n",
       "      <td>0.952541</td>\n",
       "    </tr>\n",
       "    <tr>\n",
       "      <th>1792</th>\n",
       "      <td>0.633463</td>\n",
       "      <td>0.185858</td>\n",
       "      <td>0.405578</td>\n",
       "      <td>0.952444</td>\n",
       "    </tr>\n",
       "    <tr>\n",
       "      <th>1793</th>\n",
       "      <td>0.633463</td>\n",
       "      <td>0.181072</td>\n",
       "      <td>0.405595</td>\n",
       "      <td>0.952411</td>\n",
       "    </tr>\n",
       "    <tr>\n",
       "      <th>1794</th>\n",
       "      <td>0.633463</td>\n",
       "      <td>0.185858</td>\n",
       "      <td>0.405303</td>\n",
       "      <td>0.952541</td>\n",
       "    </tr>\n",
       "    <tr>\n",
       "      <th>1795</th>\n",
       "      <td>0.633463</td>\n",
       "      <td>0.174485</td>\n",
       "      <td>0.404899</td>\n",
       "      <td>0.952279</td>\n",
       "    </tr>\n",
       "    <tr>\n",
       "      <th>1796</th>\n",
       "      <td>0.633463</td>\n",
       "      <td>0.174485</td>\n",
       "      <td>0.404145</td>\n",
       "      <td>0.952372</td>\n",
       "    </tr>\n",
       "    <tr>\n",
       "      <th>1797</th>\n",
       "      <td>0.633463</td>\n",
       "      <td>0.174485</td>\n",
       "      <td>0.403922</td>\n",
       "      <td>0.952395</td>\n",
       "    </tr>\n",
       "    <tr>\n",
       "      <th>1798</th>\n",
       "      <td>0.633463</td>\n",
       "      <td>0.169377</td>\n",
       "      <td>0.404558</td>\n",
       "      <td>0.952442</td>\n",
       "    </tr>\n",
       "    <tr>\n",
       "      <th>1799</th>\n",
       "      <td>0.633463</td>\n",
       "      <td>0.156813</td>\n",
       "      <td>0.406213</td>\n",
       "      <td>0.952505</td>\n",
       "    </tr>\n",
       "  </tbody>\n",
       "</table>\n",
       "</div>"
      ],
      "text/plain": [
       "      main_steam_flow_set_value  secondary_air_volume  water_flow  \\\n",
       "1790                   0.633463              0.181072    0.406065   \n",
       "1791                   0.633463              0.185858    0.405970   \n",
       "1792                   0.633463              0.185858    0.405578   \n",
       "1793                   0.633463              0.181072    0.405595   \n",
       "1794                   0.633463              0.185858    0.405303   \n",
       "1795                   0.633463              0.174485    0.404899   \n",
       "1796                   0.633463              0.174485    0.404145   \n",
       "1797                   0.633463              0.174485    0.403922   \n",
       "1798                   0.633463              0.169377    0.404558   \n",
       "1799                   0.633463              0.156813    0.406213   \n",
       "\n",
       "      main_steam_flow  \n",
       "1790         0.952417  \n",
       "1791         0.952541  \n",
       "1792         0.952444  \n",
       "1793         0.952411  \n",
       "1794         0.952541  \n",
       "1795         0.952279  \n",
       "1796         0.952372  \n",
       "1797         0.952395  \n",
       "1798         0.952442  \n",
       "1799         0.952505  "
      ]
     },
     "execution_count": 199,
     "metadata": {},
     "output_type": "execute_result"
    }
   ],
   "source": [
    "x_submission.tail(10)"
   ]
  },
  {
   "cell_type": "code",
   "execution_count": 200,
   "id": "f030e7a8",
   "metadata": {},
   "outputs": [
    {
     "data": {
      "text/plain": [
       "array([[   60.        , 18533.752     ,    68.6269    ,    57.7807    ],\n",
       "       [   60.        , 18553.9766    ,    68.6118    ,    57.7987    ],\n",
       "       [   60.        , 18674.8496    ,    68.6104    ,    57.7698    ],\n",
       "       ...,\n",
       "       [   60.        ,  6244.998     ,    68.4506    ,    75.48635796],\n",
       "       [   60.        ,  6062.1777    ,    68.4846    ,    75.49010901],\n",
       "       [   60.        ,  5612.4863    ,    68.573     ,    75.49508835]])"
      ]
     },
     "execution_count": 200,
     "metadata": {},
     "output_type": "execute_result"
    }
   ],
   "source": [
    "# inverse to previous value\n",
    "x_submission_inversed = scaler.inverse_transform(x_submission)\n",
    "x_submission_inversed"
   ]
  },
  {
   "cell_type": "code",
   "execution_count": 201,
   "id": "e29ac9ac",
   "metadata": {},
   "outputs": [
    {
     "data": {
      "text/plain": [
       "array([68.6522, 68.6643, 68.6404, ..., 68.4506, 68.4846, 68.573 ])"
      ]
     },
     "execution_count": 201,
     "metadata": {},
     "output_type": "execute_result"
    }
   ],
   "source": [
    "x_submission_inversed[5:,2]"
   ]
  },
  {
   "cell_type": "code",
   "execution_count": 202,
   "id": "34425c7f",
   "metadata": {},
   "outputs": [
    {
     "data": {
      "text/html": [
       "<div>\n",
       "<style scoped>\n",
       "    .dataframe tbody tr th:only-of-type {\n",
       "        vertical-align: middle;\n",
       "    }\n",
       "\n",
       "    .dataframe tbody tr th {\n",
       "        vertical-align: top;\n",
       "    }\n",
       "\n",
       "    .dataframe thead th {\n",
       "        text-align: right;\n",
       "    }\n",
       "</style>\n",
       "<table border=\"1\" class=\"dataframe\">\n",
       "  <thead>\n",
       "    <tr style=\"text-align: right;\">\n",
       "      <th></th>\n",
       "      <th>ID</th>\n",
       "      <th>Time</th>\n",
       "      <th>Steam_flow</th>\n",
       "      <th>Water_flow</th>\n",
       "    </tr>\n",
       "  </thead>\n",
       "  <tbody>\n",
       "    <tr>\n",
       "      <th>0</th>\n",
       "      <td>1</td>\n",
       "      <td>2021-12-22 23:30:00</td>\n",
       "      <td>57.993666</td>\n",
       "      <td>68.6522</td>\n",
       "    </tr>\n",
       "    <tr>\n",
       "      <th>1</th>\n",
       "      <td>2</td>\n",
       "      <td>2021-12-22 23:30:01</td>\n",
       "      <td>58.033931</td>\n",
       "      <td>68.6643</td>\n",
       "    </tr>\n",
       "    <tr>\n",
       "      <th>2</th>\n",
       "      <td>3</td>\n",
       "      <td>2021-12-22 23:30:02</td>\n",
       "      <td>58.080946</td>\n",
       "      <td>68.6404</td>\n",
       "    </tr>\n",
       "    <tr>\n",
       "      <th>3</th>\n",
       "      <td>4</td>\n",
       "      <td>2021-12-22 23:30:03</td>\n",
       "      <td>58.132677</td>\n",
       "      <td>68.6220</td>\n",
       "    </tr>\n",
       "    <tr>\n",
       "      <th>4</th>\n",
       "      <td>5</td>\n",
       "      <td>2021-12-22 23:30:04</td>\n",
       "      <td>58.196723</td>\n",
       "      <td>68.6118</td>\n",
       "    </tr>\n",
       "  </tbody>\n",
       "</table>\n",
       "</div>"
      ],
      "text/plain": [
       "   ID                 Time  Steam_flow  Water_flow\n",
       "0   1  2021-12-22 23:30:00   57.993666     68.6522\n",
       "1   2  2021-12-22 23:30:01   58.033931     68.6643\n",
       "2   3  2021-12-22 23:30:02   58.080946     68.6404\n",
       "3   4  2021-12-22 23:30:03   58.132677     68.6220\n",
       "4   5  2021-12-22 23:30:04   58.196723     68.6118"
      ]
     },
     "execution_count": 202,
     "metadata": {},
     "output_type": "execute_result"
    }
   ],
   "source": [
    "# generate submission file\n",
    "submission_file = pd.DataFrame(data={'ID':[i for i in range(1, 1801)], \n",
    "                                     'Time':testing['datetime'].values, \n",
    "                                     'Steam_flow':x_submission_inversed[5:,3],\n",
    "                                     'Water_flow':x_submission_inversed[5:,2]})\n",
    "submission_file.head()"
   ]
  },
  {
   "cell_type": "code",
   "execution_count": 203,
   "id": "b5c1a015",
   "metadata": {},
   "outputs": [
    {
     "data": {
      "image/png": "[encoded data removed]",
      "text/plain": [
       "<Figure size 1440x576 with 2 Axes>"
      ]
     },
     "metadata": {
      "needs_background": "light"
     },
     "output_type": "display_data"
    }
   ],
   "source": [
    "# plot predictions\n",
    "date_time = pd.to_datetime(submission_file['Time'], format='%Y-%m-%d %H:%M:%S')\n",
    "plot_cols = ['Steam_flow', 'Water_flow']\n",
    "plot_features = submission_file[plot_cols]\n",
    "plot_features.index = date_time\n",
    "_ = plot_features.plot(subplots=True, figsize=(20, 8))"
   ]
  },
  {
   "cell_type": "code",
   "execution_count": 204,
   "id": "e0e96e29",
   "metadata": {},
   "outputs": [
    {
     "data": {
      "text/html": [
       "<div>\n",
       "<style scoped>\n",
       "    .dataframe tbody tr th:only-of-type {\n",
       "        vertical-align: middle;\n",
       "    }\n",
       "\n",
       "    .dataframe tbody tr th {\n",
       "        vertical-align: top;\n",
       "    }\n",
       "\n",
       "    .dataframe thead th {\n",
       "        text-align: right;\n",
       "    }\n",
       "</style>\n",
       "<table border=\"1\" class=\"dataframe\">\n",
       "  <thead>\n",
       "    <tr style=\"text-align: right;\">\n",
       "      <th></th>\n",
       "      <th>ID</th>\n",
       "      <th>Time</th>\n",
       "      <th>Steam_flow</th>\n",
       "      <th>Water_flow</th>\n",
       "    </tr>\n",
       "  </thead>\n",
       "  <tbody>\n",
       "    <tr>\n",
       "      <th>0</th>\n",
       "      <td>1</td>\n",
       "      <td>2021-12-22 23:30:00</td>\n",
       "      <td>57.993666</td>\n",
       "      <td>68.6522</td>\n",
       "    </tr>\n",
       "    <tr>\n",
       "      <th>1</th>\n",
       "      <td>2</td>\n",
       "      <td>2021-12-22 23:30:01</td>\n",
       "      <td>58.033931</td>\n",
       "      <td>68.6643</td>\n",
       "    </tr>\n",
       "    <tr>\n",
       "      <th>2</th>\n",
       "      <td>3</td>\n",
       "      <td>2021-12-22 23:30:02</td>\n",
       "      <td>58.080946</td>\n",
       "      <td>68.6404</td>\n",
       "    </tr>\n",
       "    <tr>\n",
       "      <th>3</th>\n",
       "      <td>4</td>\n",
       "      <td>2021-12-22 23:30:03</td>\n",
       "      <td>58.132677</td>\n",
       "      <td>68.6220</td>\n",
       "    </tr>\n",
       "    <tr>\n",
       "      <th>4</th>\n",
       "      <td>5</td>\n",
       "      <td>2021-12-22 23:30:04</td>\n",
       "      <td>58.196723</td>\n",
       "      <td>68.6118</td>\n",
       "    </tr>\n",
       "  </tbody>\n",
       "</table>\n",
       "</div>"
      ],
      "text/plain": [
       "   ID                 Time  Steam_flow  Water_flow\n",
       "0   1  2021-12-22 23:30:00   57.993666     68.6522\n",
       "1   2  2021-12-22 23:30:01   58.033931     68.6643\n",
       "2   3  2021-12-22 23:30:02   58.080946     68.6404\n",
       "3   4  2021-12-22 23:30:03   58.132677     68.6220\n",
       "4   5  2021-12-22 23:30:04   58.196723     68.6118"
      ]
     },
     "execution_count": 204,
     "metadata": {},
     "output_type": "execute_result"
    }
   ],
   "source": [
    "submission_file.head()"
   ]
  },
  {
   "cell_type": "code",
   "execution_count": 192,
   "id": "73f3d6bd",
   "metadata": {},
   "outputs": [],
   "source": [
    "# define output columns\n",
    "output_columns = ['ID','Time','Steam_flow']\n",
    "\n",
    "# write to local disk\n",
    "submission_file[output_columns].to_csv('../submission_c_rnn.csv', index=False)"
   ]
  },
  {
   "cell_type": "code",
   "execution_count": 193,
   "id": "6561d023",
   "metadata": {},
   "outputs": [
    {
     "data": {
      "text/html": [
       "<div>\n",
       "<style scoped>\n",
       "    .dataframe tbody tr th:only-of-type {\n",
       "        vertical-align: middle;\n",
       "    }\n",
       "\n",
       "    .dataframe tbody tr th {\n",
       "        vertical-align: top;\n",
       "    }\n",
       "\n",
       "    .dataframe thead th {\n",
       "        text-align: right;\n",
       "    }\n",
       "</style>\n",
       "<table border=\"1\" class=\"dataframe\">\n",
       "  <thead>\n",
       "    <tr style=\"text-align: right;\">\n",
       "      <th></th>\n",
       "      <th>ID</th>\n",
       "      <th>Time</th>\n",
       "      <th>Steam_flow</th>\n",
       "    </tr>\n",
       "  </thead>\n",
       "  <tbody>\n",
       "    <tr>\n",
       "      <th>0</th>\n",
       "      <td>1</td>\n",
       "      <td>2021-12-22 23:30:00</td>\n",
       "      <td>57.993666</td>\n",
       "    </tr>\n",
       "    <tr>\n",
       "      <th>1</th>\n",
       "      <td>2</td>\n",
       "      <td>2021-12-22 23:30:01</td>\n",
       "      <td>58.033931</td>\n",
       "    </tr>\n",
       "    <tr>\n",
       "      <th>2</th>\n",
       "      <td>3</td>\n",
       "      <td>2021-12-22 23:30:02</td>\n",
       "      <td>58.080946</td>\n",
       "    </tr>\n",
       "    <tr>\n",
       "      <th>3</th>\n",
       "      <td>4</td>\n",
       "      <td>2021-12-22 23:30:03</td>\n",
       "      <td>58.132677</td>\n",
       "    </tr>\n",
       "    <tr>\n",
       "      <th>4</th>\n",
       "      <td>5</td>\n",
       "      <td>2021-12-22 23:30:04</td>\n",
       "      <td>58.196723</td>\n",
       "    </tr>\n",
       "  </tbody>\n",
       "</table>\n",
       "</div>"
      ],
      "text/plain": [
       "   ID                 Time  Steam_flow\n",
       "0   1  2021-12-22 23:30:00   57.993666\n",
       "1   2  2021-12-22 23:30:01   58.033931\n",
       "2   3  2021-12-22 23:30:02   58.080946\n",
       "3   4  2021-12-22 23:30:03   58.132677\n",
       "4   5  2021-12-22 23:30:04   58.196723"
      ]
     },
     "execution_count": 193,
     "metadata": {},
     "output_type": "execute_result"
    }
   ],
   "source": [
    "submission_file[output_columns].head()"
   ]
  },
  {
   "cell_type": "code",
   "execution_count": null,
   "id": "3465c01a",
   "metadata": {},
   "outputs": [],
   "source": [
    "# final test score 4.5"
   ]
  }
 ],
 "metadata": {
  "kernelspec": {
   "display_name": "Python 3",
   "language": "python",
   "name": "python3"
  },
  "language_info": {
   "codemirror_mode": {
    "name": "ipython",
    "version": 3
   },
   "file_extension": ".py",
   "mimetype": "text/x-python",
   "name": "python",
   "nbconvert_exporter": "python",
   "pygments_lexer": "ipython3",
   "version": "3.8.8"
  }
 },
 "nbformat": 4,
 "nbformat_minor": 5
}
