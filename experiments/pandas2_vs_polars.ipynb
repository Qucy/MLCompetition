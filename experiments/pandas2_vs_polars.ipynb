{
 "cells": [
  {
   "cell_type": "markdown",
   "id": "6ddef1bf-10b7-44ac-a783-3b9d7b965a6f",
   "metadata": {},
   "source": [
    "## 1 - Bacgroud\n",
    "Pandas released a pre release version of pandas 2.0, it's now support Arrow as it's backend to storing data and etc.\n",
    "Hence we want to have a comparsion like:\n",
    "\n",
    "- Pandas 1.x vs Pandas 2.x\n",
    "- Pandas 2.x vs Polars"
   ]
  },
  {
   "cell_type": "code",
   "execution_count": 1,
   "id": "2eccdada-21bb-4633-b6ed-dbf721686bd7",
   "metadata": {
    "tags": []
   },
   "outputs": [
    {
     "name": "stdout",
     "output_type": "stream",
     "text": [
      "Pandas version is 2.0.0rc0\n",
      "Numpy version is 1.24.2\n",
      "Polars version is 0.16.12\n"
     ]
    }
   ],
   "source": [
    "import pandas as pd\n",
    "import numpy as np\n",
    "import polars as pl\n",
    "import pyarrow as pa\n",
    "import datetime\n",
    "\n",
    "print(f\"Pandas version is {pd.__version__}\")\n",
    "print(f\"Numpy version is {np.__version__}\")\n",
    "print(f\"Polars version is {pl.__version__}\")"
   ]
  },
  {
   "cell_type": "markdown",
   "id": "74a018e3-27be-43e2-b65c-745247e89292",
   "metadata": {},
   "source": [
    "## 2- Pandas Numpy Backend\n",
    "\n",
    "By default it's still numpy array in Pandas 2.0"
   ]
  },
  {
   "cell_type": "code",
   "execution_count": 2,
   "id": "f1202b6a-fa8f-4fc3-913e-4c637b53c0fa",
   "metadata": {
    "tags": []
   },
   "outputs": [],
   "source": [
    "# loading csv data\n",
    "df = pd.read_csv('train_peptides.csv')\n",
    "df_polars = pl.read_csv('train_peptides.csv')"
   ]
  },
  {
   "cell_type": "code",
   "execution_count": 3,
   "id": "dc75d97d-a557-4327-b7cd-217f91686775",
   "metadata": {
    "tags": []
   },
   "outputs": [
    {
     "data": {
      "text/html": [
       "<div>\n",
       "<style scoped>\n",
       "    .dataframe tbody tr th:only-of-type {\n",
       "        vertical-align: middle;\n",
       "    }\n",
       "\n",
       "    .dataframe tbody tr th {\n",
       "        vertical-align: top;\n",
       "    }\n",
       "\n",
       "    .dataframe thead th {\n",
       "        text-align: right;\n",
       "    }\n",
       "</style>\n",
       "<table border=\"1\" class=\"dataframe\">\n",
       "  <thead>\n",
       "    <tr style=\"text-align: right;\">\n",
       "      <th></th>\n",
       "      <th>visit_id</th>\n",
       "      <th>visit_month</th>\n",
       "      <th>patient_id</th>\n",
       "      <th>UniProt</th>\n",
       "      <th>Peptide</th>\n",
       "      <th>PeptideAbundance</th>\n",
       "    </tr>\n",
       "  </thead>\n",
       "  <tbody>\n",
       "    <tr>\n",
       "      <th>0</th>\n",
       "      <td>55_0</td>\n",
       "      <td>0</td>\n",
       "      <td>55</td>\n",
       "      <td>O00391</td>\n",
       "      <td>NEQEQPLGQWHLS</td>\n",
       "      <td>11254.3</td>\n",
       "    </tr>\n",
       "    <tr>\n",
       "      <th>1</th>\n",
       "      <td>55_0</td>\n",
       "      <td>0</td>\n",
       "      <td>55</td>\n",
       "      <td>O00533</td>\n",
       "      <td>GNPEPTFSWTK</td>\n",
       "      <td>102060.0</td>\n",
       "    </tr>\n",
       "    <tr>\n",
       "      <th>2</th>\n",
       "      <td>55_0</td>\n",
       "      <td>0</td>\n",
       "      <td>55</td>\n",
       "      <td>O00533</td>\n",
       "      <td>IEIPSSVQQVPTIIK</td>\n",
       "      <td>174185.0</td>\n",
       "    </tr>\n",
       "    <tr>\n",
       "      <th>3</th>\n",
       "      <td>55_0</td>\n",
       "      <td>0</td>\n",
       "      <td>55</td>\n",
       "      <td>O00533</td>\n",
       "      <td>KPQSAVYSTGSNGILLC(UniMod_4)EAEGEPQPTIK</td>\n",
       "      <td>27278.9</td>\n",
       "    </tr>\n",
       "    <tr>\n",
       "      <th>4</th>\n",
       "      <td>55_0</td>\n",
       "      <td>0</td>\n",
       "      <td>55</td>\n",
       "      <td>O00533</td>\n",
       "      <td>SMEQNGPGLEYR</td>\n",
       "      <td>30838.7</td>\n",
       "    </tr>\n",
       "  </tbody>\n",
       "</table>\n",
       "</div>"
      ],
      "text/plain": [
       "  visit_id  visit_month  patient_id UniProt   \n",
       "0     55_0            0          55  O00391  \\\n",
       "1     55_0            0          55  O00533   \n",
       "2     55_0            0          55  O00533   \n",
       "3     55_0            0          55  O00533   \n",
       "4     55_0            0          55  O00533   \n",
       "\n",
       "                                  Peptide  PeptideAbundance  \n",
       "0                           NEQEQPLGQWHLS           11254.3  \n",
       "1                             GNPEPTFSWTK          102060.0  \n",
       "2                         IEIPSSVQQVPTIIK          174185.0  \n",
       "3  KPQSAVYSTGSNGILLC(UniMod_4)EAEGEPQPTIK           27278.9  \n",
       "4                            SMEQNGPGLEYR           30838.7  "
      ]
     },
     "execution_count": 3,
     "metadata": {},
     "output_type": "execute_result"
    }
   ],
   "source": [
    "df.head()"
   ]
  },
  {
   "cell_type": "code",
   "execution_count": 4,
   "id": "41244269-bc15-4f1d-94f3-9ae3aa43f1d3",
   "metadata": {
    "tags": []
   },
   "outputs": [
    {
     "name": "stdout",
     "output_type": "stream",
     "text": [
      "<class 'pandas.core.frame.DataFrame'>\n",
      "RangeIndex: 981834 entries, 0 to 981833\n",
      "Data columns (total 6 columns):\n",
      " #   Column            Non-Null Count   Dtype  \n",
      "---  ------            --------------   -----  \n",
      " 0   visit_id          981834 non-null  object \n",
      " 1   visit_month       981834 non-null  int64  \n",
      " 2   patient_id        981834 non-null  int64  \n",
      " 3   UniProt           981834 non-null  object \n",
      " 4   Peptide           981834 non-null  object \n",
      " 5   PeptideAbundance  981834 non-null  float64\n",
      "dtypes: float64(1), int64(2), object(3)\n",
      "memory usage: 44.9+ MB\n"
     ]
    }
   ],
   "source": [
    "df.info()"
   ]
  },
  {
   "cell_type": "code",
   "execution_count": 5,
   "id": "cbb0f353-4737-4565-878b-0f8bbcc3b5eb",
   "metadata": {
    "tags": []
   },
   "outputs": [
    {
     "data": {
      "text/plain": [
       "numpy.ndarray"
      ]
     },
     "execution_count": 5,
     "metadata": {},
     "output_type": "execute_result"
    }
   ],
   "source": [
    "# check the type\n",
    "type(df['PeptideAbundance'].values)"
   ]
  },
  {
   "cell_type": "code",
   "execution_count": 6,
   "id": "31b3aa3e-7c29-4972-b3d6-cd4055a6a4e4",
   "metadata": {
    "tags": []
   },
   "outputs": [
    {
     "data": {
      "text/plain": [
       "0    5\n",
       "1    6\n",
       "2    7\n",
       "3    9\n",
       "dtype: int64"
      ]
     },
     "execution_count": 6,
     "metadata": {},
     "output_type": "execute_result"
    }
   ],
   "source": [
    "# create a new series -> still in numpy format\n",
    "pd.Series([5, 6, 7, 9])"
   ]
  },
  {
   "cell_type": "code",
   "execution_count": 7,
   "id": "3d7fcedb-c158-4a95-a834-e266f7ec3ba2",
   "metadata": {
    "tags": []
   },
   "outputs": [
    {
     "data": {
      "text/plain": [
       "0       foo\n",
       "1       bar\n",
       "2    foobar\n",
       "dtype: object"
      ]
     },
     "execution_count": 7,
     "metadata": {},
     "output_type": "execute_result"
    }
   ],
   "source": [
    "# create a new string series -> still object type from numpy\n",
    "pd.Series(['foo', 'bar', 'foobar'])"
   ]
  },
  {
   "cell_type": "markdown",
   "id": "0d41b4ad-4fef-41ee-b923-7bc0a8d29136",
   "metadata": {
    "tags": []
   },
   "source": [
    "## 3 - Pandas Arrow Backend\n",
    "Need to explicit tell api you need arrow backend"
   ]
  },
  {
   "cell_type": "code",
   "execution_count": 8,
   "id": "7bc3a90c-1337-4a38-88ea-9c1a577e3f36",
   "metadata": {
    "tags": []
   },
   "outputs": [
    {
     "data": {
      "text/plain": [
       "0    5\n",
       "1    6\n",
       "2    7\n",
       "3    9\n",
       "dtype: int64[pyarrow]"
      ]
     },
     "execution_count": 8,
     "metadata": {},
     "output_type": "execute_result"
    }
   ],
   "source": [
    "# now the type is pyarrow int64\n",
    "pd.Series([5, 6, 7, 9], dtype='int64[pyarrow]')"
   ]
  },
  {
   "cell_type": "code",
   "execution_count": 9,
   "id": "5ed958d5-2ca2-4c62-b191-b37ed8f645ea",
   "metadata": {
    "tags": []
   },
   "outputs": [
    {
     "data": {
      "text/plain": [
       "0       foo\n",
       "1       bar\n",
       "2    foobar\n",
       "dtype: string"
      ]
     },
     "execution_count": 9,
     "metadata": {},
     "output_type": "execute_result"
    }
   ],
   "source": [
    "# now the type is string instead of object\n",
    "pd.Series(['foo', 'bar', 'foobar'], dtype='string[pyarrow]')"
   ]
  },
  {
   "cell_type": "markdown",
   "id": "9e5a7b18-c91c-4d54-8307-504fd522e142",
   "metadata": {},
   "source": [
    "### Setting pandas to use arrow by default"
   ]
  },
  {
   "cell_type": "code",
   "execution_count": 10,
   "id": "bbb4a93c-d804-48c3-8911-b9ee010cc7d2",
   "metadata": {
    "tags": []
   },
   "outputs": [],
   "source": [
    "pd.options.mode.dtype_backend = 'pyarrow'\n",
    "pd.options.mode.copy_on_write = True\n",
    "\n",
    "df_arrow = pd.read_csv('train_peptides.csv', use_nullable_dtypes=True)"
   ]
  },
  {
   "cell_type": "code",
   "execution_count": 11,
   "id": "83bc2242-c6d3-4a9c-9184-70db141fd389",
   "metadata": {
    "tags": []
   },
   "outputs": [
    {
     "name": "stdout",
     "output_type": "stream",
     "text": [
      "<class 'pandas.core.frame.DataFrame'>\n",
      "RangeIndex: 981834 entries, 0 to 981833\n",
      "Data columns (total 6 columns):\n",
      " #   Column            Non-Null Count   Dtype          \n",
      "---  ------            --------------   -----          \n",
      " 0   visit_id          981834 non-null  string[pyarrow]\n",
      " 1   visit_month       981834 non-null  int64[pyarrow] \n",
      " 2   patient_id        981834 non-null  int64[pyarrow] \n",
      " 3   UniProt           981834 non-null  string[pyarrow]\n",
      " 4   Peptide           981834 non-null  string[pyarrow]\n",
      " 5   PeptideAbundance  981834 non-null  double[pyarrow]\n",
      "dtypes: double[pyarrow](1), int64[pyarrow](2), string[pyarrow](3)\n",
      "memory usage: 63.9 MB\n"
     ]
    }
   ],
   "source": [
    "df_arrow.info()"
   ]
  },
  {
   "cell_type": "markdown",
   "id": "4902ed68-3407-4f8d-acf9-5bbe0c4ee69f",
   "metadata": {},
   "source": [
    "## 4 - Why arrow ?\n",
    "- Handle missing value\n",
    "- Faster (most operations)\n",
    "- More reasonable data type"
   ]
  },
  {
   "cell_type": "markdown",
   "id": "c698681c-6b2f-45ca-92d0-91a6118314e3",
   "metadata": {},
   "source": [
    "### 4-1 Handle missing values in a more make sense way"
   ]
  },
  {
   "cell_type": "code",
   "execution_count": 12,
   "id": "bce0e243-f908-4256-a7c6-04cb4ba952e6",
   "metadata": {
    "tags": []
   },
   "outputs": [
    {
     "data": {
      "text/plain": [
       "0    1.0\n",
       "1    2.0\n",
       "2    3.0\n",
       "3    4.0\n",
       "4    NaN\n",
       "dtype: float64"
      ]
     },
     "execution_count": 12,
     "metadata": {},
     "output_type": "execute_result"
    }
   ],
   "source": [
    "# for numpy backend if we have a missing value in a integer array\n",
    "# automatically all the value will be conver to float and None will be convert to NaN which means not a number\n",
    "# this is not the idea for many cases and also more memory and computation power needed for float\n",
    "pd.Series([1, 2, 3, 4, None])"
   ]
  },
  {
   "cell_type": "code",
   "execution_count": 13,
   "id": "0c880943-8b6f-4759-8fea-5e6b3bca30e7",
   "metadata": {
    "tags": []
   },
   "outputs": [
    {
     "data": {
      "text/plain": [
       "0       1\n",
       "1       2\n",
       "2       3\n",
       "3       4\n",
       "4    <NA>\n",
       "dtype: int64[pyarrow]"
      ]
     },
     "execution_count": 13,
     "metadata": {},
     "output_type": "execute_result"
    }
   ],
   "source": [
    "# for pyarrow integer remained and and NA value kept as well\n",
    "# this is all based on arrow's native solution and make things effectivly as well\n",
    "pd.Series([1, 2, 3, 4, None], dtype='int64[pyarrow]')"
   ]
  },
  {
   "cell_type": "markdown",
   "id": "9a803934-3a3e-4b11-9831-a5514cbb2a09",
   "metadata": {},
   "source": [
    "### 4-2 Faster\n",
    "\n",
    "- Simple operation mean, Pandas Arrow 2.4x faster than Pandas Numpy (Polars > Pandas-arrow > Pandas-numpy)\n",
    "- Reading csv file, Pandas Arrow 16.1x faster than Pandas Numpy (Pandas-arrow > Polars > Pandas-numpy)\n",
    "- String operation, Pandas Arrow 30x faster than Pandas Numpy (Pandas-arrow > Polars >> Pandas-numpy)\n",
    "- Groupby/Agg operation, Polars 14.5x faster than Pandas Numpy, 79x faster than Pandas Arrow (Polars >> Pandas-numpy > Pandas-arrow)\n",
    "\n",
    "#### 4-2-1 Mean operation"
   ]
  },
  {
   "cell_type": "code",
   "execution_count": 40,
   "id": "00533fab-e24f-481c-b30e-d9ed1592bb88",
   "metadata": {
    "tags": []
   },
   "outputs": [
    {
     "name": "stdout",
     "output_type": "stream",
     "text": [
      "537 µs ± 5.41 µs per loop (mean ± std. dev. of 7 runs, 1,000 loops each)\n"
     ]
    }
   ],
   "source": [
    "# Old numpy back end\n",
    "%timeit df['PeptideAbundance'].mean()"
   ]
  },
  {
   "cell_type": "code",
   "execution_count": 41,
   "id": "3d692774-74d3-418e-825c-78ae349cbf32",
   "metadata": {
    "tags": []
   },
   "outputs": [
    {
     "name": "stdout",
     "output_type": "stream",
     "text": [
      "222 µs ± 8.01 µs per loop (mean ± std. dev. of 7 runs, 1,000 loops each)\n"
     ]
    }
   ],
   "source": [
    "# Arrow backend\n",
    "%timeit df_arrow['PeptideAbundance'].mean()"
   ]
  },
  {
   "cell_type": "code",
   "execution_count": 42,
   "id": "32fac652-4d77-44fd-808a-f1cdb0447c49",
   "metadata": {
    "tags": []
   },
   "outputs": [
    {
     "name": "stdout",
     "output_type": "stream",
     "text": [
      "211 µs ± 3.35 µs per loop (mean ± std. dev. of 7 runs, 1,000 loops each)\n"
     ]
    }
   ],
   "source": [
    "# Poarls\n",
    "%timeit df_arrow['PeptideAbundance'].mean()"
   ]
  },
  {
   "cell_type": "code",
   "execution_count": 43,
   "id": "42145d58-2b70-4b54-8645-5e23eabaab73",
   "metadata": {
    "tags": []
   },
   "outputs": [
    {
     "data": {
      "text/plain": [
       "(2.418918918918919, 2.706161137440758)"
      ]
     },
     "execution_count": 43,
     "metadata": {},
     "output_type": "execute_result"
    }
   ],
   "source": [
    "537/222, 571/211"
   ]
  },
  {
   "cell_type": "markdown",
   "id": "bdbb8307-c1da-4c77-ae9b-32ff4fb8b8e0",
   "metadata": {},
   "source": [
    "#### 4-2-2 Reading file"
   ]
  },
  {
   "cell_type": "code",
   "execution_count": 18,
   "id": "38b10dcd-c338-47ef-8190-f13e0367943a",
   "metadata": {
    "tags": []
   },
   "outputs": [
    {
     "name": "stdout",
     "output_type": "stream",
     "text": [
      "241 ms ± 5.6 ms per loop (mean ± std. dev. of 7 runs, 1 loop each)\n"
     ]
    }
   ],
   "source": [
    "%%timeit\n",
    "# Reading in data use numpy\n",
    "pd.read_csv('train_peptides.csv')"
   ]
  },
  {
   "cell_type": "code",
   "execution_count": 19,
   "id": "b4069aba-1b2d-4a9f-ac0a-c353e69297e2",
   "metadata": {
    "tags": []
   },
   "outputs": [
    {
     "name": "stdout",
     "output_type": "stream",
     "text": [
      "14.9 ms ± 178 µs per loop (mean ± std. dev. of 7 runs, 100 loops each)\n"
     ]
    }
   ],
   "source": [
    "%%timeit\n",
    "# Reading in data use pyarrow\n",
    "pd.read_csv('train_peptides.csv', engine='pyarrow', use_nullable_dtypes=True)"
   ]
  },
  {
   "cell_type": "code",
   "execution_count": 20,
   "id": "a7df7c74-6f2d-4759-adf9-a6d51add7c15",
   "metadata": {
    "tags": []
   },
   "outputs": [
    {
     "name": "stdout",
     "output_type": "stream",
     "text": [
      "27.1 ms ± 888 µs per loop (mean ± std. dev. of 7 runs, 10 loops each)\n"
     ]
    }
   ],
   "source": [
    "%%timeit\n",
    "# Reading in data use polars\n",
    "pl.read_csv('train_peptides.csv')"
   ]
  },
  {
   "cell_type": "code",
   "execution_count": 37,
   "id": "57cd072e-2472-4110-a48f-9cd626dba67d",
   "metadata": {
    "tags": []
   },
   "outputs": [
    {
     "data": {
      "text/plain": [
       "(16.174496644295303, 8.892988929889299)"
      ]
     },
     "execution_count": 37,
     "metadata": {},
     "output_type": "execute_result"
    }
   ],
   "source": [
    "241/14.9, 241/27.1"
   ]
  },
  {
   "cell_type": "markdown",
   "id": "5c660771-d485-49e1-9003-ba33a7cfcddd",
   "metadata": {},
   "source": [
    "#### 4-2-3 String operation"
   ]
  },
  {
   "cell_type": "code",
   "execution_count": 20,
   "id": "c2d79150-b397-414f-ad26-402eacd51203",
   "metadata": {
    "tags": []
   },
   "outputs": [
    {
     "name": "stdout",
     "output_type": "stream",
     "text": [
      "68.6 ms ± 849 µs per loop (mean ± std. dev. of 7 runs, 10 loops each)\n"
     ]
    }
   ],
   "source": [
    "%timeit df['UniProt'].str.startswith('N') # numpy backend"
   ]
  },
  {
   "cell_type": "code",
   "execution_count": 21,
   "id": "3cf8e6ec-30fc-4e8d-ab8f-721c05508646",
   "metadata": {
    "tags": []
   },
   "outputs": [
    {
     "name": "stdout",
     "output_type": "stream",
     "text": [
      "2.26 ms ± 52.5 µs per loop (mean ± std. dev. of 7 runs, 100 loops each)\n"
     ]
    }
   ],
   "source": [
    "%timeit df_arrow['UniProt'].str.startswith('N') # arrow backend"
   ]
  },
  {
   "cell_type": "code",
   "execution_count": 28,
   "id": "9c703dc5-2f75-4a3e-8363-9872375afaa4",
   "metadata": {
    "tags": []
   },
   "outputs": [
    {
     "name": "stdout",
     "output_type": "stream",
     "text": [
      "3.33 ms ± 45.3 µs per loop (mean ± std. dev. of 7 runs, 100 loops each)\n"
     ]
    }
   ],
   "source": [
    "%timeit df_polars['UniProt'].str.starts_with('N') # polars"
   ]
  },
  {
   "cell_type": "code",
   "execution_count": 44,
   "id": "72496572-37c7-4da9-a04a-0faa6f3c6a16",
   "metadata": {
    "tags": []
   },
   "outputs": [
    {
     "data": {
      "text/plain": [
       "(30.353982300884955, 20.600600600600597)"
      ]
     },
     "execution_count": 44,
     "metadata": {},
     "output_type": "execute_result"
    }
   ],
   "source": [
    "68.6 /2.26, 68.6/3.33"
   ]
  },
  {
   "cell_type": "markdown",
   "id": "d429aa0e-4601-4a75-919e-3487e54cbd05",
   "metadata": {},
   "source": [
    "#### 4-2-4 Groupby/aggreation/transform operation"
   ]
  },
  {
   "cell_type": "code",
   "execution_count": 29,
   "id": "f27595b8-bf61-4dbc-b136-68ea04fc5e7f",
   "metadata": {
    "tags": []
   },
   "outputs": [
    {
     "name": "stdout",
     "output_type": "stream",
     "text": [
      "21.8 ms ± 565 µs per loop (mean ± std. dev. of 7 runs, 10 loops each)\n"
     ]
    }
   ],
   "source": [
    "%timeit df.groupby(['visit_id'])['PeptideAbundance'].agg(['mean', 'sum', 'max']) # numpy backend"
   ]
  },
  {
   "cell_type": "code",
   "execution_count": 30,
   "id": "654c1407-d521-4629-a6f9-b962195770f0",
   "metadata": {
    "tags": []
   },
   "outputs": [
    {
     "name": "stdout",
     "output_type": "stream",
     "text": [
      "114 ms ± 1.85 ms per loop (mean ± std. dev. of 7 runs, 10 loops each)\n"
     ]
    }
   ],
   "source": [
    "%timeit df_arrow.groupby(['visit_id'])['PeptideAbundance'].agg(['mean', 'sum', 'max']) # arrow backend"
   ]
  },
  {
   "cell_type": "code",
   "execution_count": 31,
   "id": "11e9d1e8-ead9-4cf1-bf46-b176ce681414",
   "metadata": {
    "tags": []
   },
   "outputs": [
    {
     "name": "stdout",
     "output_type": "stream",
     "text": [
      "1.44 ms ± 36.4 µs per loop (mean ± std. dev. of 7 runs, 1,000 loops each)\n"
     ]
    }
   ],
   "source": [
    "%%timeit\n",
    "# polars agg functions\n",
    "(\n",
    "    df_polars.groupby(['visit_id'])\n",
    "    .agg([\n",
    "        pl.col('PeptideAbundance').mean().alias('PeptideAbundance_mean'),\n",
    "        pl.col('PeptideAbundance').sum().alias('PeptideAbundance_sum'),\n",
    "        pl.col('PeptideAbundance').max().alias('PeptideAbundance_max'),\n",
    "    ])\n",
    ")"
   ]
  },
  {
   "cell_type": "code",
   "execution_count": 32,
   "id": "ab53b910-c6ac-48a3-ae8c-ed14341fa1a7",
   "metadata": {
    "tags": []
   },
   "outputs": [
    {
     "name": "stdout",
     "output_type": "stream",
     "text": [
      "85.1 ms ± 1.58 ms per loop (mean ± std. dev. of 7 runs, 10 loops each)\n"
     ]
    }
   ],
   "source": [
    "%timeit df.groupby('visit_id')['UniProt'].transform(len)"
   ]
  },
  {
   "cell_type": "code",
   "execution_count": 33,
   "id": "a28cbcc9-f378-4924-a9b1-f613b76549a1",
   "metadata": {
    "tags": []
   },
   "outputs": [
    {
     "name": "stdout",
     "output_type": "stream",
     "text": [
      "82.4 ms ± 1.35 ms per loop (mean ± std. dev. of 7 runs, 10 loops each)\n"
     ]
    }
   ],
   "source": [
    "%timeit df_arrow.groupby('visit_id')['UniProt'].transform(len)"
   ]
  },
  {
   "cell_type": "markdown",
   "id": "2d485f08-acd4-46bd-96a3-3a5d5be4bbfd",
   "metadata": {},
   "source": [
    "### 4-3 More reasonable data type"
   ]
  },
  {
   "cell_type": "code",
   "execution_count": 29,
   "id": "57e16c35-86d4-4311-b344-a2b3fbea1fb5",
   "metadata": {
    "tags": []
   },
   "outputs": [
    {
     "name": "stdout",
     "output_type": "stream",
     "text": [
      "<class 'pandas.core.series.Series'>\n",
      "RangeIndex: 6 entries, 0 to 5\n",
      "Series name: None\n",
      "Non-Null Count  Dtype\n",
      "--------------  -----\n",
      "6 non-null      bool \n",
      "dtypes: bool(1)\n",
      "memory usage: 134.0 bytes\n"
     ]
    }
   ],
   "source": [
    "# Take boolean for example -> numpy will use 8 bit to store boolean value\n",
    "pd.Series([True, False, True, True, True, False]).info()"
   ]
  },
  {
   "cell_type": "code",
   "execution_count": 30,
   "id": "1fe62ca1-9305-46b2-be78-dd74b038ac57",
   "metadata": {
    "tags": []
   },
   "outputs": [
    {
     "name": "stdout",
     "output_type": "stream",
     "text": [
      "<class 'pandas.core.series.Series'>\n",
      "RangeIndex: 6 entries, 0 to 5\n",
      "Series name: None\n",
      "Non-Null Count  Dtype        \n",
      "--------------  -----        \n",
      "6 non-null      bool[pyarrow]\n",
      "dtypes: bool[pyarrow](1)\n",
      "memory usage: 129.0 bytes\n"
     ]
    }
   ],
   "source": [
    "# howevery arrow backend only use 1 bit to store boolean value\n",
    "pd.Series([True, False, True, True, True, False], dtype='bool[pyarrow]').info()"
   ]
  },
  {
   "cell_type": "code",
   "execution_count": 31,
   "id": "16013611-1c36-4f24-99cc-864f1b69347c",
   "metadata": {
    "tags": []
   },
   "outputs": [
    {
     "data": {
      "text/plain": [
       "0     True\n",
       "1    False\n",
       "2     True\n",
       "3     True\n",
       "4     True\n",
       "5     None\n",
       "dtype: object"
      ]
     },
     "execution_count": 31,
     "metadata": {},
     "output_type": "execute_result"
    }
   ],
   "source": [
    "# Because numpy backend is not able to handle NA value properly will convert all the type to object\n",
    "pd.Series([True, False, True, True, True, None])"
   ]
  },
  {
   "cell_type": "code",
   "execution_count": 32,
   "id": "1b5ba79e-7ef4-4e9b-8dcb-589dab018c79",
   "metadata": {
    "tags": []
   },
   "outputs": [
    {
     "data": {
      "text/plain": [
       "0     True\n",
       "1    False\n",
       "2     True\n",
       "3     True\n",
       "4     True\n",
       "5     <NA>\n",
       "dtype: bool[pyarrow]"
      ]
     },
     "execution_count": 32,
     "metadata": {},
     "output_type": "execute_result"
    }
   ],
   "source": [
    "# howevery arrow won't have this issue, it's still a boolean type\n",
    "pd.Series([True, False, True, True, True, None], dtype='bool[pyarrow]')"
   ]
  },
  {
   "cell_type": "code",
   "execution_count": 33,
   "id": "17fd8605-0831-4f44-bf22-5a60aec14d21",
   "metadata": {
    "tags": []
   },
   "outputs": [
    {
     "data": {
      "text/html": [
       "<div>\n",
       "<style scoped>\n",
       "    .dataframe tbody tr th:only-of-type {\n",
       "        vertical-align: middle;\n",
       "    }\n",
       "\n",
       "    .dataframe tbody tr th {\n",
       "        vertical-align: top;\n",
       "    }\n",
       "\n",
       "    .dataframe thead th {\n",
       "        text-align: right;\n",
       "    }\n",
       "</style>\n",
       "<table border=\"1\" class=\"dataframe\">\n",
       "  <thead>\n",
       "    <tr style=\"text-align: right;\">\n",
       "      <th></th>\n",
       "      <th>title</th>\n",
       "      <th>date</th>\n",
       "    </tr>\n",
       "  </thead>\n",
       "  <tbody>\n",
       "    <tr>\n",
       "      <th>0</th>\n",
       "      <td>pandas 2.0 and Arrow revolution</td>\n",
       "      <td>2023-02-22</td>\n",
       "    </tr>\n",
       "    <tr>\n",
       "      <th>1</th>\n",
       "      <td>What I did this weekend</td>\n",
       "      <td>2022-11-03</td>\n",
       "    </tr>\n",
       "  </tbody>\n",
       "</table>\n",
       "</div>"
      ],
      "text/plain": [
       "                             title       date\n",
       "0  pandas 2.0 and Arrow revolution 2023-02-22\n",
       "1          What I did this weekend 2022-11-03"
      ]
     },
     "execution_count": 33,
     "metadata": {},
     "output_type": "execute_result"
    }
   ],
   "source": [
    "articles = pd.DataFrame({\n",
    "    'title' : pd.Series(['pandas 2.0 and Arrow revolution', 'What I did this weekend'], dtype='string[pyarrow]'),\n",
    "    #'tags' : pd.Series([['pandas', 'arrow', 'data'], ['scuba-diving', 'rock-climbing']], dtype=pd.ArrowDtype(pa.list_(pa.string()))), support customized data type\n",
    "    'date' : pd.Series([datetime.date(2023, 2, 22), datetime.date(2022, 11, 3)], dtype='date32[pyarrow]')\n",
    "})\n",
    "\n",
    "articles"
   ]
  },
  {
   "cell_type": "markdown",
   "id": "c8b0b718-0d91-4cfc-a079-db48652bdb03",
   "metadata": {},
   "source": [
    "## Conclusion\n",
    "- Data type: Pandas-arrow has a better support for all kinds data type, especailly for NA values and also support customized data type\n",
    "- Speed: Most of operations Pandas-arrow is much faster than Pandas-numpy, slightly faster than Polars. But for groupby/aggregation/transform function Pandas-arrow is even slower than Pandas-numpy, I guess the split-preocess-merge is not implemented yet.\n",
    "- Memory: Pandas-arrow is more memory efficient.\n",
    "\n",
    "For now my recommendation is Polars > Pandas 2.x > Pandas 1.x, but if don't care groupby/agg/transform functions performance, you can choose Pandas 2.x as well, for large dataset I still recommend Polars as first choice.\n"
   ]
  },
  {
   "cell_type": "code",
   "execution_count": null,
   "id": "a96759c6-eba8-4607-88e3-402fd045bfde",
   "metadata": {},
   "outputs": [],
   "source": []
  }
 ],
 "metadata": {
  "kernelspec": {
   "display_name": "Python 3 (ipykernel)",
   "language": "python",
   "name": "python3"
  },
  "language_info": {
   "codemirror_mode": {
    "name": "ipython",
    "version": 3
   },
   "file_extension": ".py",
   "mimetype": "text/x-python",
   "name": "python",
   "nbconvert_exporter": "python",
   "pygments_lexer": "ipython3",
   "version": "3.9.16"
  }
 },
 "nbformat": 4,
 "nbformat_minor": 5
}
